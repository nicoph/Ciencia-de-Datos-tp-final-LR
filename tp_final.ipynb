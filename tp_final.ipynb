{
  "cells": [
    {
      "cell_type": "code",
      "execution_count": 101,
      "metadata": {
        "id": "T53lAqCB11aT"
      },
      "outputs": [],
      "source": [
        "### Importaciones ###\n",
        "import pandas as pd\n",
        "import numpy as np\n",
        "import matplotlib.pyplot as plt\n",
        "import seaborn as sns\n",
        "from sklearn.linear_model import LinearRegression\n",
        "from unidecode import unidecode\n",
        "import plotly.express as px\n",
        "import plotly.figure_factory as ff\n",
        "\n",
        "\n",
        "\n"
      ]
    },
    {
      "attachments": {},
      "cell_type": "markdown",
      "metadata": {
        "id": "7Q7EOiCX13YE"
      },
      "source": [
        "# Tema a analizar\n",
        "Relacion entre calidad del agua en poblaciones cercanas al rio de la plata y casos de diarrea(Enteritis y colitis) de las mismas comunidades en niños de 0 a 9 años, en los años 2016 a 2020.\n",
        "Variables:\n",
        "-Promedio ICA(indice de calidad del Agua)\n",
        "fuente: https://datos.gob.ar/dataset/ambiente-indice-calidad-agua-por-estacion-ano-ica/archivo/ambiente_105567d7-37e0-4b8c-a360-b3e8334bc205\n",
        "-Cantidad de casos(efectores públicos)\n",
        "Fuente:\n",
        "https://catalogo.datos.gba.gob.ar/dataset/egresos-hospitalarios/archivo/af100ed1-8030-4543-9582-7233f5f68548"
      ]
    },
    {
      "attachments": {},
      "cell_type": "markdown",
      "metadata": {
        "id": "CJu0VcXQ3a8Q"
      },
      "source": [
        "# Hipótesis:\n",
        "Aumento de casos de enteritis y colitis no infeccionsas en relación a la baja de la calidad del agua.\n",
        "\n",
        "## Posibles modificadores(para futuros estudios):\n",
        "Acceso al agua potable en las poblaciones estudiadas\n",
        "Viviendas con cloácas\n",
        "Indicadores de salud poblacionales no evaluados\n",
        "\n"
      ]
    },
    {
      "cell_type": "code",
      "execution_count": 2,
      "metadata": {
        "id": "YNy6thIk11aY"
      },
      "outputs": [],
      "source": [
        "### Datos ###\n",
        "\n",
        "#url_agua='https://datos.gob.ar/dataset/ambiente-indice-calidad-agua-por-estacion-ano-ica/archivo/ambiente_105567d7-37e0-4b8c-a360-b3e8334bc205'\n",
        "#url_ped='https://catalogo.datos.gba.gob.ar/dataset/egresos-hospitalarios/archivo/af100ed1-8030-4543-9582-7233f5f68548'\n",
        "\n",
        "df_agua=pd.read_csv('./agc_p_indice_riodelaplata_estac_total.csv', sep=';')\n",
        "df_pediatria=pd.read_csv('./egresos_2016-2020.csv', sep=';')\n",
        "\n",
        "\n"
      ]
    },
    {
      "cell_type": "code",
      "execution_count": 3,
      "metadata": {
        "id": "ixxKh7RR11aY"
      },
      "outputs": [
        {
          "name": "stdout",
          "output_type": "stream",
          "text": [
            "<class 'pandas.core.frame.DataFrame'>\n",
            "RangeIndex: 329 entries, 0 to 328\n",
            "Data columns (total 7 columns):\n",
            " #   Column                 Non-Null Count  Dtype \n",
            "---  ------                 --------------  ----- \n",
            " 0   localidad              329 non-null    object\n",
            " 1   estacion_de_monitoreo  329 non-null    object\n",
            " 2   año                    329 non-null    int64 \n",
            " 3   ica_verano             328 non-null    object\n",
            " 4   ica_otoño              289 non-null    object\n",
            " 5   ica_invierno           288 non-null    object\n",
            " 6   ica_primavera          288 non-null    object\n",
            "dtypes: int64(1), object(6)\n",
            "memory usage: 18.1+ KB\n",
            "               año\n",
            "count   329.000000\n",
            "mean   2019.507599\n",
            "std       2.295430\n",
            "min    2016.000000\n",
            "25%    2018.000000\n",
            "50%    2020.000000\n",
            "75%    2022.000000\n",
            "max    2023.000000 None Index(['localidad', 'estacion_de_monitoreo', 'año', 'ica_verano', 'ica_otoño',\n",
            "       'ica_invierno', 'ica_primavera'],\n",
            "      dtype='object')\n"
          ]
        }
      ],
      "source": [
        "### Primer acercamiento a los datos\n",
        "df_agua.head(10)\n",
        "print(df_agua.describe(), df_agua.info(),df_agua.columns)\n"
      ]
    },
    {
      "cell_type": "code",
      "execution_count": 4,
      "metadata": {
        "id": "SJQWim0Z11aZ",
        "outputId": "56333e49-615c-467c-c26c-9d6c51c11b85"
      },
      "outputs": [
        {
          "data": {
            "text/html": [
              "<div>\n",
              "<style scoped>\n",
              "    .dataframe tbody tr th:only-of-type {\n",
              "        vertical-align: middle;\n",
              "    }\n",
              "\n",
              "    .dataframe tbody tr th {\n",
              "        vertical-align: top;\n",
              "    }\n",
              "\n",
              "    .dataframe thead th {\n",
              "        text-align: right;\n",
              "    }\n",
              "</style>\n",
              "<table border=\"1\" class=\"dataframe\">\n",
              "  <thead>\n",
              "    <tr style=\"text-align: right;\">\n",
              "      <th></th>\n",
              "      <th>localidad</th>\n",
              "      <th>estacion_de_monitoreo</th>\n",
              "      <th>año</th>\n",
              "      <th>ica_verano</th>\n",
              "      <th>ica_otoño</th>\n",
              "      <th>ica_invierno</th>\n",
              "      <th>ica_primavera</th>\n",
              "      <th>promedio_icas</th>\n",
              "      <th>promedio_icas_sin_ceros</th>\n",
              "    </tr>\n",
              "  </thead>\n",
              "  <tbody>\n",
              "    <tr>\n",
              "      <th>0</th>\n",
              "      <td>Tigre</td>\n",
              "      <td>TI001</td>\n",
              "      <td>2016</td>\n",
              "      <td>31</td>\n",
              "      <td>51</td>\n",
              "      <td>35</td>\n",
              "      <td>18</td>\n",
              "      <td>33.75</td>\n",
              "      <td>33.75</td>\n",
              "    </tr>\n",
              "    <tr>\n",
              "      <th>1</th>\n",
              "      <td>Tigre</td>\n",
              "      <td>TI001</td>\n",
              "      <td>2017</td>\n",
              "      <td>43</td>\n",
              "      <td>43</td>\n",
              "      <td>35</td>\n",
              "      <td>38</td>\n",
              "      <td>39.75</td>\n",
              "      <td>39.75</td>\n",
              "    </tr>\n",
              "    <tr>\n",
              "      <th>2</th>\n",
              "      <td>Tigre</td>\n",
              "      <td>TI001</td>\n",
              "      <td>2018</td>\n",
              "      <td>36</td>\n",
              "      <td>62</td>\n",
              "      <td>61</td>\n",
              "      <td>67</td>\n",
              "      <td>56.50</td>\n",
              "      <td>56.50</td>\n",
              "    </tr>\n",
              "    <tr>\n",
              "      <th>3</th>\n",
              "      <td>Tigre</td>\n",
              "      <td>TI001</td>\n",
              "      <td>2019</td>\n",
              "      <td>59</td>\n",
              "      <td>53</td>\n",
              "      <td>77</td>\n",
              "      <td>61</td>\n",
              "      <td>62.50</td>\n",
              "      <td>62.50</td>\n",
              "    </tr>\n",
              "    <tr>\n",
              "      <th>4</th>\n",
              "      <td>Tigre</td>\n",
              "      <td>TI001</td>\n",
              "      <td>2020</td>\n",
              "      <td>75</td>\n",
              "      <td>NaN</td>\n",
              "      <td>NaN</td>\n",
              "      <td>64</td>\n",
              "      <td>69.50</td>\n",
              "      <td>69.50</td>\n",
              "    </tr>\n",
              "    <tr>\n",
              "      <th>5</th>\n",
              "      <td>Tigre</td>\n",
              "      <td>TI000</td>\n",
              "      <td>2021</td>\n",
              "      <td>42</td>\n",
              "      <td>48</td>\n",
              "      <td>64</td>\n",
              "      <td>55</td>\n",
              "      <td>52.25</td>\n",
              "      <td>52.25</td>\n",
              "    </tr>\n",
              "    <tr>\n",
              "      <th>6</th>\n",
              "      <td>Tigre</td>\n",
              "      <td>TI001</td>\n",
              "      <td>2022</td>\n",
              "      <td>55</td>\n",
              "      <td>59</td>\n",
              "      <td>49</td>\n",
              "      <td>61</td>\n",
              "      <td>56.00</td>\n",
              "      <td>56.00</td>\n",
              "    </tr>\n",
              "    <tr>\n",
              "      <th>7</th>\n",
              "      <td>Tigre</td>\n",
              "      <td>TI001</td>\n",
              "      <td>2023</td>\n",
              "      <td>53</td>\n",
              "      <td>NaN</td>\n",
              "      <td>NaN</td>\n",
              "      <td>NaN</td>\n",
              "      <td>53.00</td>\n",
              "      <td>53.00</td>\n",
              "    </tr>\n",
              "    <tr>\n",
              "      <th>8</th>\n",
              "      <td>Tigre</td>\n",
              "      <td>TI006</td>\n",
              "      <td>2016</td>\n",
              "      <td>30</td>\n",
              "      <td>35</td>\n",
              "      <td>33</td>\n",
              "      <td>34</td>\n",
              "      <td>33.00</td>\n",
              "      <td>33.00</td>\n",
              "    </tr>\n",
              "    <tr>\n",
              "      <th>9</th>\n",
              "      <td>Tigre</td>\n",
              "      <td>TI006</td>\n",
              "      <td>2017</td>\n",
              "      <td>27</td>\n",
              "      <td>46</td>\n",
              "      <td>44</td>\n",
              "      <td>60</td>\n",
              "      <td>44.25</td>\n",
              "      <td>44.25</td>\n",
              "    </tr>\n",
              "  </tbody>\n",
              "</table>\n",
              "</div>"
            ],
            "text/plain": [
              "  localidad estacion_de_monitoreo   año ica_verano ica_otoño ica_invierno  \\\n",
              "0     Tigre                 TI001  2016         31        51           35   \n",
              "1     Tigre                 TI001  2017         43        43           35   \n",
              "2     Tigre                 TI001  2018         36        62           61   \n",
              "3     Tigre                 TI001  2019         59        53           77   \n",
              "4     Tigre                 TI001  2020         75       NaN          NaN   \n",
              "5     Tigre                 TI000  2021         42        48           64   \n",
              "6     Tigre                 TI001  2022         55        59           49   \n",
              "7     Tigre                 TI001  2023         53       NaN          NaN   \n",
              "8     Tigre                 TI006  2016         30        35           33   \n",
              "9     Tigre                 TI006  2017         27        46           44   \n",
              "\n",
              "  ica_primavera  promedio_icas  promedio_icas_sin_ceros  \n",
              "0            18          33.75                    33.75  \n",
              "1            38          39.75                    39.75  \n",
              "2            67          56.50                    56.50  \n",
              "3            61          62.50                    62.50  \n",
              "4            64          69.50                    69.50  \n",
              "5            55          52.25                    52.25  \n",
              "6            61          56.00                    56.00  \n",
              "7           NaN          53.00                    53.00  \n",
              "8            34          33.00                    33.00  \n",
              "9            60          44.25                    44.25  "
            ]
          },
          "execution_count": 4,
          "metadata": {},
          "output_type": "execute_result"
        }
      ],
      "source": [
        "##### Las columnas  ICA tienen valores en s/i que significa no tienen informacion.\n",
        "##### Para que no afecte el calculo de los promedios, ponemos valores nan y creamos una columna de promedios del año\n",
        "\n",
        "columnas_ica=[x for x in df_agua.columns if x.startswith('ica')]\n",
        "\n",
        "for col in columnas_ica:\n",
        "    df_agua[col].replace('s/i', np.nan,inplace=True)\n",
        "    df_agua[col].replace(0, np.nan,inplace=True)\n",
        "\n",
        "###testeo si reemplazo valores null por promedio de los otros\n",
        "df_agua['promedio_icas'] = df_agua[columnas_ica].astype(float).mean(axis=1)\n",
        "icas_sin_ceros = df_agua[columnas_ica].astype(float)\n",
        "icas_sin_ceros['promedio']=df_agua['promedio_icas']\n",
        "\n",
        "icas_sin_ceros['ica_otoño'].fillna(icas_sin_ceros['promedio'], inplace=True)\n",
        "icas_sin_ceros['ica_invierno'].fillna(icas_sin_ceros['promedio'], inplace=True)\n",
        "icas_sin_ceros['ica_verano'].fillna(icas_sin_ceros['promedio'], inplace=True)\n",
        "icas_sin_ceros['ica_primavera'].fillna(icas_sin_ceros['promedio'], inplace=True)\n",
        "df_agua['promedio_icas_sin_ceros']=icas_sin_ceros[columnas_ica].astype(float).mean(axis=1)\n",
        "icas_sin_ceros['promedio_icas_sin_ceros']=icas_sin_ceros[columnas_ica].astype(float).mean(axis=1)\n",
        "df_agua.head(10)"
      ]
    },
    {
      "attachments": {},
      "cell_type": "markdown",
      "metadata": {
        "id": "TEcfkKh25H35"
      },
      "source": [
        "# Como el dataset tiene promedio anual y por estacion , voy a probar de dos maneras para anilizar los datos"
      ]
    },
    {
      "cell_type": "code",
      "execution_count": 5,
      "metadata": {
        "id": "G0TI9hhq11aa",
        "outputId": "1a9dabd1-0f42-481e-b68c-47906d944cfa"
      },
      "outputs": [
        {
          "name": "stdout",
          "output_type": "stream",
          "text": [
            "<class 'pandas.core.frame.DataFrame'>\n",
            "Index: 312 entries, 0 to 327\n",
            "Data columns (total 7 columns):\n",
            " #   Column                   Non-Null Count  Dtype  \n",
            "---  ------                   --------------  -----  \n",
            " 0   año                      312 non-null    int64  \n",
            " 1   localidad                312 non-null    object \n",
            " 2   ica_verano               312 non-null    float64\n",
            " 3   ica_invierno             312 non-null    float64\n",
            " 4   ica_otoño                312 non-null    float64\n",
            " 5   ica_primavera            312 non-null    float64\n",
            " 6   promedio_icas_sin_ceros  312 non-null    float64\n",
            "dtypes: float64(5), int64(1), object(1)\n",
            "memory usage: 19.5+ KB\n"
          ]
        },
        {
          "data": {
            "text/plain": [
              "Index(['año', 'localidad', 'ica_verano', 'ica_invierno', 'ica_otoño',\n",
              "       'ica_primavera', 'promedio_icas_sin_ceros'],\n",
              "      dtype='object')"
            ]
          },
          "execution_count": 5,
          "metadata": {},
          "output_type": "execute_result"
        }
      ],
      "source": [
        "### Ya limpio hago un nuevo df para usar para los graficos y la exploracion\n",
        "df_agua_filtro=pd.DataFrame()\n",
        "df_agua_filtro['año']=df_agua['año'].astype(int)\n",
        "df_agua_filtro['localidad']=df_agua['localidad'].astype(str)\n",
        "df_agua_filtro['ica_verano']=icas_sin_ceros['ica_verano'].astype(float)\n",
        "df_agua_filtro['ica_invierno']=icas_sin_ceros['ica_invierno'].astype(float)\n",
        "df_agua_filtro['ica_otoño']=icas_sin_ceros['ica_otoño'].astype(float)\n",
        "df_agua_filtro['ica_primavera']=icas_sin_ceros['ica_primavera'].astype(float)\n",
        "df_agua_filtro['promedio_icas_sin_ceros']=df_agua['promedio_icas_sin_ceros'].astype(float)\n",
        "\n",
        "#Eliminamos valores finales nulos\n",
        "df_agua_filtro.dropna(inplace=True)\n",
        "df_agua_filtro.info()\n",
        "df_agua_filtro.columns\n"
      ]
    },
    {
      "cell_type": "code",
      "execution_count": 9,
      "metadata": {
        "id": "RIbciHiq11ab",
        "outputId": "c15cc2e1-8602-4a16-f278-cda44d975f9c"
      },
      "outputs": [
        {
          "data": {
            "text/html": [
              "<div>\n",
              "<style scoped>\n",
              "    .dataframe tbody tr th:only-of-type {\n",
              "        vertical-align: middle;\n",
              "    }\n",
              "\n",
              "    .dataframe tbody tr th {\n",
              "        vertical-align: top;\n",
              "    }\n",
              "\n",
              "    .dataframe thead th {\n",
              "        text-align: right;\n",
              "    }\n",
              "</style>\n",
              "<table border=\"1\" class=\"dataframe\">\n",
              "  <thead>\n",
              "    <tr style=\"text-align: right;\">\n",
              "      <th></th>\n",
              "      <th>localidad</th>\n",
              "      <th>año</th>\n",
              "      <th>ica_verano</th>\n",
              "      <th>ica_invierno</th>\n",
              "      <th>ica_otoño</th>\n",
              "      <th>ica_primavera</th>\n",
              "      <th>promedio_icas_sin_ceros</th>\n",
              "    </tr>\n",
              "  </thead>\n",
              "  <tbody>\n",
              "    <tr>\n",
              "      <th>0</th>\n",
              "      <td>Avellaneda</td>\n",
              "      <td>2016</td>\n",
              "      <td>36.200000</td>\n",
              "      <td>36.000000</td>\n",
              "      <td>33.400000</td>\n",
              "      <td>27.400000</td>\n",
              "      <td>33.250000</td>\n",
              "    </tr>\n",
              "    <tr>\n",
              "      <th>1</th>\n",
              "      <td>Avellaneda</td>\n",
              "      <td>2017</td>\n",
              "      <td>31.000000</td>\n",
              "      <td>40.600000</td>\n",
              "      <td>29.000000</td>\n",
              "      <td>40.600000</td>\n",
              "      <td>35.300000</td>\n",
              "    </tr>\n",
              "    <tr>\n",
              "      <th>2</th>\n",
              "      <td>Avellaneda</td>\n",
              "      <td>2018</td>\n",
              "      <td>44.800000</td>\n",
              "      <td>61.600000</td>\n",
              "      <td>48.400000</td>\n",
              "      <td>55.600000</td>\n",
              "      <td>52.600000</td>\n",
              "    </tr>\n",
              "    <tr>\n",
              "      <th>3</th>\n",
              "      <td>Avellaneda</td>\n",
              "      <td>2019</td>\n",
              "      <td>48.600000</td>\n",
              "      <td>54.400000</td>\n",
              "      <td>40.400000</td>\n",
              "      <td>42.200000</td>\n",
              "      <td>46.400000</td>\n",
              "    </tr>\n",
              "    <tr>\n",
              "      <th>4</th>\n",
              "      <td>Avellaneda</td>\n",
              "      <td>2020</td>\n",
              "      <td>59.400000</td>\n",
              "      <td>53.800000</td>\n",
              "      <td>53.800000</td>\n",
              "      <td>48.200000</td>\n",
              "      <td>53.800000</td>\n",
              "    </tr>\n",
              "    <tr>\n",
              "      <th>...</th>\n",
              "      <td>...</td>\n",
              "      <td>...</td>\n",
              "      <td>...</td>\n",
              "      <td>...</td>\n",
              "      <td>...</td>\n",
              "      <td>...</td>\n",
              "      <td>...</td>\n",
              "    </tr>\n",
              "    <tr>\n",
              "      <th>73</th>\n",
              "      <td>Vicente Lopez</td>\n",
              "      <td>2019</td>\n",
              "      <td>42.333333</td>\n",
              "      <td>40.000000</td>\n",
              "      <td>40.666667</td>\n",
              "      <td>44.000000</td>\n",
              "      <td>41.750000</td>\n",
              "    </tr>\n",
              "    <tr>\n",
              "      <th>74</th>\n",
              "      <td>Vicente Lopez</td>\n",
              "      <td>2020</td>\n",
              "      <td>43.666667</td>\n",
              "      <td>43.666667</td>\n",
              "      <td>43.666667</td>\n",
              "      <td>43.666667</td>\n",
              "      <td>43.666667</td>\n",
              "    </tr>\n",
              "    <tr>\n",
              "      <th>75</th>\n",
              "      <td>Vicente Lopez</td>\n",
              "      <td>2021</td>\n",
              "      <td>41.333333</td>\n",
              "      <td>47.000000</td>\n",
              "      <td>42.444444</td>\n",
              "      <td>42.666667</td>\n",
              "      <td>43.361111</td>\n",
              "    </tr>\n",
              "    <tr>\n",
              "      <th>76</th>\n",
              "      <td>Vicente Lopez</td>\n",
              "      <td>2022</td>\n",
              "      <td>39.333333</td>\n",
              "      <td>39.000000</td>\n",
              "      <td>41.666667</td>\n",
              "      <td>52.666667</td>\n",
              "      <td>43.166667</td>\n",
              "    </tr>\n",
              "    <tr>\n",
              "      <th>77</th>\n",
              "      <td>Vicente Lopez</td>\n",
              "      <td>2023</td>\n",
              "      <td>34.666667</td>\n",
              "      <td>34.666667</td>\n",
              "      <td>34.666667</td>\n",
              "      <td>34.666667</td>\n",
              "      <td>34.666667</td>\n",
              "    </tr>\n",
              "  </tbody>\n",
              "</table>\n",
              "<p>78 rows × 7 columns</p>\n",
              "</div>"
            ],
            "text/plain": [
              "        localidad   año  ica_verano  ica_invierno  ica_otoño  ica_primavera  \\\n",
              "0      Avellaneda  2016   36.200000     36.000000  33.400000      27.400000   \n",
              "1      Avellaneda  2017   31.000000     40.600000  29.000000      40.600000   \n",
              "2      Avellaneda  2018   44.800000     61.600000  48.400000      55.600000   \n",
              "3      Avellaneda  2019   48.600000     54.400000  40.400000      42.200000   \n",
              "4      Avellaneda  2020   59.400000     53.800000  53.800000      48.200000   \n",
              "..            ...   ...         ...           ...        ...            ...   \n",
              "73  Vicente Lopez  2019   42.333333     40.000000  40.666667      44.000000   \n",
              "74  Vicente Lopez  2020   43.666667     43.666667  43.666667      43.666667   \n",
              "75  Vicente Lopez  2021   41.333333     47.000000  42.444444      42.666667   \n",
              "76  Vicente Lopez  2022   39.333333     39.000000  41.666667      52.666667   \n",
              "77  Vicente Lopez  2023   34.666667     34.666667  34.666667      34.666667   \n",
              "\n",
              "    promedio_icas_sin_ceros  \n",
              "0                 33.250000  \n",
              "1                 35.300000  \n",
              "2                 52.600000  \n",
              "3                 46.400000  \n",
              "4                 53.800000  \n",
              "..                      ...  \n",
              "73                41.750000  \n",
              "74                43.666667  \n",
              "75                43.361111  \n",
              "76                43.166667  \n",
              "77                34.666667  \n",
              "\n",
              "[78 rows x 7 columns]"
            ]
          },
          "execution_count": 9,
          "metadata": {},
          "output_type": "execute_result"
        }
      ],
      "source": [
        "#### Hay varios resgistros por localidad por año, porq estan tomadas las mediciones en varias estaciones\n",
        "## de esta manera dejamos solo una por localidad, para luego poder hacer merge con el otro dataset\n",
        "#para no perder datos, usamos el promedio entre valores\n",
        "df_agua_filtro = df_agua_filtro.groupby(['localidad', 'año']).mean().reset_index()\n",
        "\n",
        "df_agua_filtro\n"
      ]
    },
    {
      "cell_type": "code",
      "execution_count": null,
      "metadata": {
        "id": "0aScvM4V11ab",
        "outputId": "f4a2f152-1a5a-4fbc-ac7a-1bced7242d8e"
      },
      "outputs": [
        {
          "name": "stdout",
          "output_type": "stream",
          "text": [
            "<class 'pandas.core.frame.DataFrame'>\n",
            "RangeIndex: 78 entries, 0 to 77\n",
            "Data columns (total 7 columns):\n",
            " #   Column                   Non-Null Count  Dtype  \n",
            "---  ------                   --------------  -----  \n",
            " 0   localidad                78 non-null     object \n",
            " 1   año                      78 non-null     int64  \n",
            " 2   ica_verano               78 non-null     float64\n",
            " 3   ica_invierno             78 non-null     float64\n",
            " 4   ica_otoño                78 non-null     float64\n",
            " 5   ica_primavera            78 non-null     float64\n",
            " 6   promedio_icas_sin_ceros  78 non-null     float64\n",
            "dtypes: float64(5), int64(1), object(1)\n",
            "memory usage: 4.4+ KB\n"
          ]
        }
      ],
      "source": [
        "##Testeo para ver nulls o errores\n",
        "\n",
        "# df_agua_filtro['año'] = df_agua_filtro.index.astype(int)\n",
        "# df_agua_filtro.info()\n"
      ]
    },
    {
      "cell_type": "code",
      "execution_count": 102,
      "metadata": {
        "id": "7OJmYdc811ab",
        "outputId": "53a5bf88-30b1-44b8-d40c-56c89fa10279"
      },
      "outputs": [
        {
          "data": {
            "image/png": "[encoded data removed]",
            "text/plain": [
              "<Figure size 640x480 with 1 Axes>"
            ]
          },
          "metadata": {},
          "output_type": "display_data"
        },
        {
          "data": {
            "application/vnd.plotly.v1+json": {
              "config": {
                "plotlyServerURL": "https://plot.ly"
              },
              "data": [
                {
                  "hovertemplate": "<b>%{hovertext}</b><br><br>municipio_nombre=Avellaneda<br>año_estacion=%{x}<br>promedio_icas_sin_ceros=%{marker.size}<extra></extra>",
                  "hovertext": [
                    "Avellaneda",
                    "Avellaneda",
                    "Avellaneda",
                    "Avellaneda",
                    "Avellaneda",
                    "Avellaneda",
                    "Avellaneda",
                    "Avellaneda"
                  ],
                  "legendgroup": "Avellaneda",
                  "marker": {
                    "color": "#636efa",
                    "size": [
                      33.25,
                      35.3,
                      52.6,
                      46.4,
                      53.8,
                      43.1,
                      42,
                      39.8
                    ],
                    "sizemode": "area",
                    "sizeref": 0.022685185185185187,
                    "symbol": "circle"
                  },
                  "mode": "markers",
                  "name": "Avellaneda",
                  "orientation": "v",
                  "showlegend": true,
                  "type": "scatter",
                  "x": [
                    "2016.1",
                    "2017.2",
                    "2018.3",
                    "2019.4",
                    "2020.1",
                    null,
                    null,
                    null
                  ],
                  "xaxis": "x",
                  "y": [
                    33.25,
                    35.3,
                    52.6,
                    46.4,
                    53.8,
                    43.1,
                    42,
                    39.8
                  ],
                  "yaxis": "y"
                },
                {
                  "hovertemplate": "<b>%{hovertext}</b><br><br>municipio_nombre=Berazategui<br>año_estacion=%{x}<br>promedio_icas_sin_ceros=%{marker.size}<extra></extra>",
                  "hovertext": [
                    "Berazategui",
                    "Berazategui",
                    "Berazategui",
                    "Berazategui",
                    "Berazategui",
                    "Berazategui",
                    "Berazategui"
                  ],
                  "legendgroup": "Berazategui",
                  "marker": {
                    "color": "#EF553B",
                    "size": [
                      51.916666666666664,
                      42.583333333333336,
                      49.833333333333336,
                      44.833333333333336,
                      47.833333333333336,
                      43.25,
                      39.77777777777778
                    ],
                    "sizemode": "area",
                    "sizeref": 0.022685185185185187,
                    "symbol": "circle"
                  },
                  "mode": "markers",
                  "name": "Berazategui",
                  "orientation": "v",
                  "showlegend": true,
                  "type": "scatter",
                  "x": [
                    "2016.1",
                    "2017.2",
                    "2018.3",
                    "2019.4",
                    "2020.1",
                    null,
                    null
                  ],
                  "xaxis": "x",
                  "y": [
                    51.916666666666664,
                    42.583333333333336,
                    49.833333333333336,
                    44.833333333333336,
                    47.833333333333336,
                    43.25,
                    39.77777777777778
                  ],
                  "yaxis": "y"
                },
                {
                  "hovertemplate": "<b>%{hovertext}</b><br><br>municipio_nombre=Berisso<br>año_estacion=%{x}<br>promedio_icas_sin_ceros=%{marker.size}<extra></extra>",
                  "hovertext": [
                    "Berisso",
                    "Berisso",
                    "Berisso",
                    "Berisso",
                    "Berisso",
                    "Berisso",
                    "Berisso"
                  ],
                  "legendgroup": "Berisso",
                  "marker": {
                    "color": "#00cc96",
                    "size": [
                      37.81666666666667,
                      42.766666666666666,
                      47.55,
                      42.45,
                      48.2,
                      41,
                      42.2
                    ],
                    "sizemode": "area",
                    "sizeref": 0.022685185185185187,
                    "symbol": "circle"
                  },
                  "mode": "markers",
                  "name": "Berisso",
                  "orientation": "v",
                  "showlegend": true,
                  "type": "scatter",
                  "x": [
                    "2016.4",
                    "2017.1",
                    "2018.2",
                    "2019.3",
                    "2020.4",
                    null,
                    null
                  ],
                  "xaxis": "x",
                  "y": [
                    37.81666666666667,
                    42.766666666666666,
                    47.55,
                    42.45,
                    48.2,
                    41,
                    42.2
                  ],
                  "yaxis": "y"
                },
                {
                  "hovertemplate": "<b>%{hovertext}</b><br><br>municipio_nombre=Boca Cerrada (Res.Nat. Punta Lara)<br>año_estacion=%{x}<br>promedio_icas_sin_ceros=%{marker.size}<extra></extra>",
                  "hovertext": [
                    "Boca Cerrada (Res.Nat. Punta Lara)"
                  ],
                  "legendgroup": "Boca Cerrada (Res.Nat. Punta Lara)",
                  "marker": {
                    "color": "#ab63fa",
                    "size": [
                      43.5
                    ],
                    "sizemode": "area",
                    "sizeref": 0.022685185185185187,
                    "symbol": "circle"
                  },
                  "mode": "markers",
                  "name": "Boca Cerrada (Res.Nat. Punta Lara)",
                  "orientation": "v",
                  "showlegend": true,
                  "type": "scatter",
                  "x": [
                    null
                  ],
                  "xaxis": "x",
                  "y": [
                    43.5
                  ],
                  "yaxis": "y"
                },
                {
                  "hovertemplate": "<b>%{hovertext}</b><br><br>municipio_nombre=CABA<br>año_estacion=%{x}<br>promedio_icas_sin_ceros=%{marker.size}<extra></extra>",
                  "hovertext": [
                    "CABA",
                    "CABA",
                    "CABA",
                    "CABA",
                    "CABA",
                    "CABA",
                    "CABA",
                    "CABA"
                  ],
                  "legendgroup": "CABA",
                  "marker": {
                    "color": "#FFA15A",
                    "size": [
                      34.4375,
                      44.125,
                      43,
                      41.75,
                      53.125,
                      42.416666666666664,
                      45.625,
                      43
                    ],
                    "sizemode": "area",
                    "sizeref": 0.022685185185185187,
                    "symbol": "circle"
                  },
                  "mode": "markers",
                  "name": "CABA",
                  "orientation": "v",
                  "showlegend": true,
                  "type": "scatter",
                  "x": [
                    "2016.4",
                    "2017.1",
                    "2018.2",
                    "2019.3",
                    "2020.4",
                    null,
                    null,
                    null
                  ],
                  "xaxis": "x",
                  "y": [
                    34.4375,
                    44.125,
                    43,
                    41.75,
                    53.125,
                    42.416666666666664,
                    45.625,
                    43
                  ],
                  "yaxis": "y"
                },
                {
                  "hovertemplate": "<b>%{hovertext}</b><br><br>municipio_nombre=Ensenada<br>año_estacion=%{x}<br>promedio_icas_sin_ceros=%{marker.size}<extra></extra>",
                  "hovertext": [
                    "Ensenada",
                    "Ensenada",
                    "Ensenada",
                    "Ensenada",
                    "Ensenada",
                    "Ensenada",
                    "Ensenada"
                  ],
                  "legendgroup": "Ensenada",
                  "marker": {
                    "color": "#19d3f3",
                    "size": [
                      55.5625,
                      52.1875,
                      55.5625,
                      53.5,
                      59.25,
                      56.4375,
                      47
                    ],
                    "sizemode": "area",
                    "sizeref": 0.022685185185185187,
                    "symbol": "circle"
                  },
                  "mode": "markers",
                  "name": "Ensenada",
                  "orientation": "v",
                  "showlegend": true,
                  "type": "scatter",
                  "x": [
                    "2016.4",
                    "2017.1",
                    "2018.2",
                    "2019.3",
                    "2020.4",
                    null,
                    null
                  ],
                  "xaxis": "x",
                  "y": [
                    55.5625,
                    52.1875,
                    55.5625,
                    53.5,
                    59.25,
                    56.4375,
                    47
                  ],
                  "yaxis": "y"
                },
                {
                  "hovertemplate": "<b>%{hovertext}</b><br><br>municipio_nombre=Quilmes<br>año_estacion=%{x}<br>promedio_icas_sin_ceros=%{marker.size}<extra></extra>",
                  "hovertext": [
                    "Quilmes",
                    "Quilmes",
                    "Quilmes",
                    "Quilmes",
                    "Quilmes",
                    "Quilmes",
                    "Quilmes",
                    "Quilmes"
                  ],
                  "legendgroup": "Quilmes",
                  "marker": {
                    "color": "#FF6692",
                    "size": [
                      35.916666666666664,
                      58.111111111111114,
                      50.55555555555555,
                      49.916666666666664,
                      81.66666666666667,
                      48.583333333333336,
                      43.333333333333336,
                      43.666666666666664
                    ],
                    "sizemode": "area",
                    "sizeref": 0.022685185185185187,
                    "symbol": "circle"
                  },
                  "mode": "markers",
                  "name": "Quilmes",
                  "orientation": "v",
                  "showlegend": true,
                  "type": "scatter",
                  "x": [
                    "2016.3",
                    "2017.4",
                    "2018.1",
                    "2019.2",
                    "2020.3",
                    null,
                    null,
                    null
                  ],
                  "xaxis": "x",
                  "y": [
                    35.916666666666664,
                    58.111111111111114,
                    50.55555555555555,
                    49.916666666666664,
                    81.66666666666667,
                    48.583333333333336,
                    43.333333333333336,
                    43.666666666666664
                  ],
                  "yaxis": "y"
                },
                {
                  "hovertemplate": "<b>%{hovertext}</b><br><br>municipio_nombre=San Fernando<br>año_estacion=%{x}<br>promedio_icas_sin_ceros=%{marker.size}<extra></extra>",
                  "hovertext": [
                    "San Fernando",
                    "San Fernando",
                    "San Fernando",
                    "San Fernando",
                    "San Fernando",
                    "San Fernando",
                    "San Fernando",
                    "San Fernando"
                  ],
                  "legendgroup": "San Fernando",
                  "marker": {
                    "color": "#B6E880",
                    "size": [
                      35,
                      36,
                      48,
                      40,
                      44.5,
                      46,
                      45.5,
                      35
                    ],
                    "sizemode": "area",
                    "sizeref": 0.022685185185185187,
                    "symbol": "circle"
                  },
                  "mode": "markers",
                  "name": "San Fernando",
                  "orientation": "v",
                  "showlegend": true,
                  "type": "scatter",
                  "x": [
                    "2016.3",
                    "2017.4",
                    "2018.1",
                    "2019.2",
                    "2020.3",
                    null,
                    null,
                    null
                  ],
                  "xaxis": "x",
                  "y": [
                    35,
                    36,
                    48,
                    40,
                    44.5,
                    46,
                    45.5,
                    35
                  ],
                  "yaxis": "y"
                },
                {
                  "hovertemplate": "<b>%{hovertext}</b><br><br>municipio_nombre=San Isidro<br>año_estacion=%{x}<br>promedio_icas_sin_ceros=%{marker.size}<extra></extra>",
                  "hovertext": [
                    "San Isidro",
                    "San Isidro",
                    "San Isidro",
                    "San Isidro",
                    "San Isidro",
                    "San Isidro",
                    "San Isidro",
                    "San Isidro"
                  ],
                  "legendgroup": "San Isidro",
                  "marker": {
                    "color": "#FF97FF",
                    "size": [
                      40.1875,
                      46.9375,
                      50.0625,
                      47.5,
                      43.5,
                      42.916666666666664,
                      45.666666666666664,
                      38.5
                    ],
                    "sizemode": "area",
                    "sizeref": 0.022685185185185187,
                    "symbol": "circle"
                  },
                  "mode": "markers",
                  "name": "San Isidro",
                  "orientation": "v",
                  "showlegend": true,
                  "type": "scatter",
                  "x": [
                    "2016.3",
                    "2017.4",
                    "2018.1",
                    "2019.2",
                    "2020.3",
                    null,
                    null,
                    null
                  ],
                  "xaxis": "x",
                  "y": [
                    40.1875,
                    46.9375,
                    50.0625,
                    47.5,
                    43.5,
                    42.916666666666664,
                    45.666666666666664,
                    38.5
                  ],
                  "yaxis": "y"
                },
                {
                  "hovertemplate": "<b>%{hovertext}</b><br><br>municipio_nombre=Tigre<br>año_estacion=%{x}<br>promedio_icas_sin_ceros=%{marker.size}<extra></extra>",
                  "hovertext": [
                    "Tigre",
                    "Tigre",
                    "Tigre",
                    "Tigre",
                    "Tigre",
                    "Tigre",
                    "Tigre",
                    "Tigre"
                  ],
                  "legendgroup": "Tigre",
                  "marker": {
                    "color": "#FECB52",
                    "size": [
                      32.94444444444444,
                      37.94444444444444,
                      49.75,
                      50.94444444444444,
                      54.44444444444444,
                      43.47222222222222,
                      45.75,
                      39.666666666666664
                    ],
                    "sizemode": "area",
                    "sizeref": 0.022685185185185187,
                    "symbol": "circle"
                  },
                  "mode": "markers",
                  "name": "Tigre",
                  "orientation": "v",
                  "showlegend": true,
                  "type": "scatter",
                  "x": [
                    "2016.3",
                    "2017.4",
                    "2018.1",
                    "2019.2",
                    "2020.3",
                    null,
                    null,
                    null
                  ],
                  "xaxis": "x",
                  "y": [
                    32.94444444444444,
                    37.94444444444444,
                    49.75,
                    50.94444444444444,
                    54.44444444444444,
                    43.47222222222222,
                    45.75,
                    39.666666666666664
                  ],
                  "yaxis": "y"
                },
                {
                  "hovertemplate": "<b>%{hovertext}</b><br><br>municipio_nombre=Vicente Lopez<br>año_estacion=%{x}<br>promedio_icas_sin_ceros=%{marker.size}<extra></extra>",
                  "hovertext": [
                    "Vicente Lopez",
                    "Vicente Lopez",
                    "Vicente Lopez",
                    "Vicente Lopez",
                    "Vicente Lopez",
                    "Vicente Lopez",
                    "Vicente Lopez",
                    "Vicente Lopez"
                  ],
                  "legendgroup": "Vicente Lopez",
                  "marker": {
                    "color": "#636efa",
                    "size": [
                      40.333333333333336,
                      40,
                      45.916666666666664,
                      41.75,
                      43.666666666666664,
                      43.361111111111114,
                      43.166666666666664,
                      34.666666666666664
                    ],
                    "sizemode": "area",
                    "sizeref": 0.022685185185185187,
                    "symbol": "circle"
                  },
                  "mode": "markers",
                  "name": "Vicente Lopez",
                  "orientation": "v",
                  "showlegend": true,
                  "type": "scatter",
                  "x": [
                    "2016.3",
                    "2017.4",
                    "2018.1",
                    "2019.2",
                    "2020.3",
                    null,
                    null,
                    null
                  ],
                  "xaxis": "x",
                  "y": [
                    40.333333333333336,
                    40,
                    45.916666666666664,
                    41.75,
                    43.666666666666664,
                    43.361111111111114,
                    43.166666666666664,
                    34.666666666666664
                  ],
                  "yaxis": "y"
                }
              ],
              "layout": {
                "legend": {
                  "itemsizing": "constant",
                  "title": {
                    "text": "municipio_nombre"
                  },
                  "tracegroupgap": 0
                },
                "margin": {
                  "t": 60
                },
                "template": {
                  "data": {
                    "bar": [
                      {
                        "error_x": {
                          "color": "#2a3f5f"
                        },
                        "error_y": {
                          "color": "#2a3f5f"
                        },
                        "marker": {
                          "line": {
                            "color": "#E5ECF6",
                            "width": 0.5
                          },
                          "pattern": {
                            "fillmode": "overlay",
                            "size": 10,
                            "solidity": 0.2
                          }
                        },
                        "type": "bar"
                      }
                    ],
                    "barpolar": [
                      {
                        "marker": {
                          "line": {
                            "color": "#E5ECF6",
                            "width": 0.5
                          },
                          "pattern": {
                            "fillmode": "overlay",
                            "size": 10,
                            "solidity": 0.2
                          }
                        },
                        "type": "barpolar"
                      }
                    ],
                    "carpet": [
                      {
                        "aaxis": {
                          "endlinecolor": "#2a3f5f",
                          "gridcolor": "white",
                          "linecolor": "white",
                          "minorgridcolor": "white",
                          "startlinecolor": "#2a3f5f"
                        },
                        "baxis": {
                          "endlinecolor": "#2a3f5f",
                          "gridcolor": "white",
                          "linecolor": "white",
                          "minorgridcolor": "white",
                          "startlinecolor": "#2a3f5f"
                        },
                        "type": "carpet"
                      }
                    ],
                    "choropleth": [
                      {
                        "colorbar": {
                          "outlinewidth": 0,
                          "ticks": ""
                        },
                        "type": "choropleth"
                      }
                    ],
                    "contour": [
                      {
                        "colorbar": {
                          "outlinewidth": 0,
                          "ticks": ""
                        },
                        "colorscale": [
                          [
                            0,
                            "#0d0887"
                          ],
                          [
                            0.1111111111111111,
                            "#46039f"
                          ],
                          [
                            0.2222222222222222,
                            "#7201a8"
                          ],
                          [
                            0.3333333333333333,
                            "#9c179e"
                          ],
                          [
                            0.4444444444444444,
                            "#bd3786"
                          ],
                          [
                            0.5555555555555556,
                            "#d8576b"
                          ],
                          [
                            0.6666666666666666,
                            "#ed7953"
                          ],
                          [
                            0.7777777777777778,
                            "#fb9f3a"
                          ],
                          [
                            0.8888888888888888,
                            "#fdca26"
                          ],
                          [
                            1,
                            "#f0f921"
                          ]
                        ],
                        "type": "contour"
                      }
                    ],
                    "contourcarpet": [
                      {
                        "colorbar": {
                          "outlinewidth": 0,
                          "ticks": ""
                        },
                        "type": "contourcarpet"
                      }
                    ],
                    "heatmap": [
                      {
                        "colorbar": {
                          "outlinewidth": 0,
                          "ticks": ""
                        },
                        "colorscale": [
                          [
                            0,
                            "#0d0887"
                          ],
                          [
                            0.1111111111111111,
                            "#46039f"
                          ],
                          [
                            0.2222222222222222,
                            "#7201a8"
                          ],
                          [
                            0.3333333333333333,
                            "#9c179e"
                          ],
                          [
                            0.4444444444444444,
                            "#bd3786"
                          ],
                          [
                            0.5555555555555556,
                            "#d8576b"
                          ],
                          [
                            0.6666666666666666,
                            "#ed7953"
                          ],
                          [
                            0.7777777777777778,
                            "#fb9f3a"
                          ],
                          [
                            0.8888888888888888,
                            "#fdca26"
                          ],
                          [
                            1,
                            "#f0f921"
                          ]
                        ],
                        "type": "heatmap"
                      }
                    ],
                    "heatmapgl": [
                      {
                        "colorbar": {
                          "outlinewidth": 0,
                          "ticks": ""
                        },
                        "colorscale": [
                          [
                            0,
                            "#0d0887"
                          ],
                          [
                            0.1111111111111111,
                            "#46039f"
                          ],
                          [
                            0.2222222222222222,
                            "#7201a8"
                          ],
                          [
                            0.3333333333333333,
                            "#9c179e"
                          ],
                          [
                            0.4444444444444444,
                            "#bd3786"
                          ],
                          [
                            0.5555555555555556,
                            "#d8576b"
                          ],
                          [
                            0.6666666666666666,
                            "#ed7953"
                          ],
                          [
                            0.7777777777777778,
                            "#fb9f3a"
                          ],
                          [
                            0.8888888888888888,
                            "#fdca26"
                          ],
                          [
                            1,
                            "#f0f921"
                          ]
                        ],
                        "type": "heatmapgl"
                      }
                    ],
                    "histogram": [
                      {
                        "marker": {
                          "pattern": {
                            "fillmode": "overlay",
                            "size": 10,
                            "solidity": 0.2
                          }
                        },
                        "type": "histogram"
                      }
                    ],
                    "histogram2d": [
                      {
                        "colorbar": {
                          "outlinewidth": 0,
                          "ticks": ""
                        },
                        "colorscale": [
                          [
                            0,
                            "#0d0887"
                          ],
                          [
                            0.1111111111111111,
                            "#46039f"
                          ],
                          [
                            0.2222222222222222,
                            "#7201a8"
                          ],
                          [
                            0.3333333333333333,
                            "#9c179e"
                          ],
                          [
                            0.4444444444444444,
                            "#bd3786"
                          ],
                          [
                            0.5555555555555556,
                            "#d8576b"
                          ],
                          [
                            0.6666666666666666,
                            "#ed7953"
                          ],
                          [
                            0.7777777777777778,
                            "#fb9f3a"
                          ],
                          [
                            0.8888888888888888,
                            "#fdca26"
                          ],
                          [
                            1,
                            "#f0f921"
                          ]
                        ],
                        "type": "histogram2d"
                      }
                    ],
                    "histogram2dcontour": [
                      {
                        "colorbar": {
                          "outlinewidth": 0,
                          "ticks": ""
                        },
                        "colorscale": [
                          [
                            0,
                            "#0d0887"
                          ],
                          [
                            0.1111111111111111,
                            "#46039f"
                          ],
                          [
                            0.2222222222222222,
                            "#7201a8"
                          ],
                          [
                            0.3333333333333333,
                            "#9c179e"
                          ],
                          [
                            0.4444444444444444,
                            "#bd3786"
                          ],
                          [
                            0.5555555555555556,
                            "#d8576b"
                          ],
                          [
                            0.6666666666666666,
                            "#ed7953"
                          ],
                          [
                            0.7777777777777778,
                            "#fb9f3a"
                          ],
                          [
                            0.8888888888888888,
                            "#fdca26"
                          ],
                          [
                            1,
                            "#f0f921"
                          ]
                        ],
                        "type": "histogram2dcontour"
                      }
                    ],
                    "mesh3d": [
                      {
                        "colorbar": {
                          "outlinewidth": 0,
                          "ticks": ""
                        },
                        "type": "mesh3d"
                      }
                    ],
                    "parcoords": [
                      {
                        "line": {
                          "colorbar": {
                            "outlinewidth": 0,
                            "ticks": ""
                          }
                        },
                        "type": "parcoords"
                      }
                    ],
                    "pie": [
                      {
                        "automargin": true,
                        "type": "pie"
                      }
                    ],
                    "scatter": [
                      {
                        "fillpattern": {
                          "fillmode": "overlay",
                          "size": 10,
                          "solidity": 0.2
                        },
                        "type": "scatter"
                      }
                    ],
                    "scatter3d": [
                      {
                        "line": {
                          "colorbar": {
                            "outlinewidth": 0,
                            "ticks": ""
                          }
                        },
                        "marker": {
                          "colorbar": {
                            "outlinewidth": 0,
                            "ticks": ""
                          }
                        },
                        "type": "scatter3d"
                      }
                    ],
                    "scattercarpet": [
                      {
                        "marker": {
                          "colorbar": {
                            "outlinewidth": 0,
                            "ticks": ""
                          }
                        },
                        "type": "scattercarpet"
                      }
                    ],
                    "scattergeo": [
                      {
                        "marker": {
                          "colorbar": {
                            "outlinewidth": 0,
                            "ticks": ""
                          }
                        },
                        "type": "scattergeo"
                      }
                    ],
                    "scattergl": [
                      {
                        "marker": {
                          "colorbar": {
                            "outlinewidth": 0,
                            "ticks": ""
                          }
                        },
                        "type": "scattergl"
                      }
                    ],
                    "scattermapbox": [
                      {
                        "marker": {
                          "colorbar": {
                            "outlinewidth": 0,
                            "ticks": ""
                          }
                        },
                        "type": "scattermapbox"
                      }
                    ],
                    "scatterpolar": [
                      {
                        "marker": {
                          "colorbar": {
                            "outlinewidth": 0,
                            "ticks": ""
                          }
                        },
                        "type": "scatterpolar"
                      }
                    ],
                    "scatterpolargl": [
                      {
                        "marker": {
                          "colorbar": {
                            "outlinewidth": 0,
                            "ticks": ""
                          }
                        },
                        "type": "scatterpolargl"
                      }
                    ],
                    "scatterternary": [
                      {
                        "marker": {
                          "colorbar": {
                            "outlinewidth": 0,
                            "ticks": ""
                          }
                        },
                        "type": "scatterternary"
                      }
                    ],
                    "surface": [
                      {
                        "colorbar": {
                          "outlinewidth": 0,
                          "ticks": ""
                        },
                        "colorscale": [
                          [
                            0,
                            "#0d0887"
                          ],
                          [
                            0.1111111111111111,
                            "#46039f"
                          ],
                          [
                            0.2222222222222222,
                            "#7201a8"
                          ],
                          [
                            0.3333333333333333,
                            "#9c179e"
                          ],
                          [
                            0.4444444444444444,
                            "#bd3786"
                          ],
                          [
                            0.5555555555555556,
                            "#d8576b"
                          ],
                          [
                            0.6666666666666666,
                            "#ed7953"
                          ],
                          [
                            0.7777777777777778,
                            "#fb9f3a"
                          ],
                          [
                            0.8888888888888888,
                            "#fdca26"
                          ],
                          [
                            1,
                            "#f0f921"
                          ]
                        ],
                        "type": "surface"
                      }
                    ],
                    "table": [
                      {
                        "cells": {
                          "fill": {
                            "color": "#EBF0F8"
                          },
                          "line": {
                            "color": "white"
                          }
                        },
                        "header": {
                          "fill": {
                            "color": "#C8D4E3"
                          },
                          "line": {
                            "color": "white"
                          }
                        },
                        "type": "table"
                      }
                    ]
                  },
                  "layout": {
                    "annotationdefaults": {
                      "arrowcolor": "#2a3f5f",
                      "arrowhead": 0,
                      "arrowwidth": 1
                    },
                    "autotypenumbers": "strict",
                    "coloraxis": {
                      "colorbar": {
                        "outlinewidth": 0,
                        "ticks": ""
                      }
                    },
                    "colorscale": {
                      "diverging": [
                        [
                          0,
                          "#8e0152"
                        ],
                        [
                          0.1,
                          "#c51b7d"
                        ],
                        [
                          0.2,
                          "#de77ae"
                        ],
                        [
                          0.3,
                          "#f1b6da"
                        ],
                        [
                          0.4,
                          "#fde0ef"
                        ],
                        [
                          0.5,
                          "#f7f7f7"
                        ],
                        [
                          0.6,
                          "#e6f5d0"
                        ],
                        [
                          0.7,
                          "#b8e186"
                        ],
                        [
                          0.8,
                          "#7fbc41"
                        ],
                        [
                          0.9,
                          "#4d9221"
                        ],
                        [
                          1,
                          "#276419"
                        ]
                      ],
                      "sequential": [
                        [
                          0,
                          "#0d0887"
                        ],
                        [
                          0.1111111111111111,
                          "#46039f"
                        ],
                        [
                          0.2222222222222222,
                          "#7201a8"
                        ],
                        [
                          0.3333333333333333,
                          "#9c179e"
                        ],
                        [
                          0.4444444444444444,
                          "#bd3786"
                        ],
                        [
                          0.5555555555555556,
                          "#d8576b"
                        ],
                        [
                          0.6666666666666666,
                          "#ed7953"
                        ],
                        [
                          0.7777777777777778,
                          "#fb9f3a"
                        ],
                        [
                          0.8888888888888888,
                          "#fdca26"
                        ],
                        [
                          1,
                          "#f0f921"
                        ]
                      ],
                      "sequentialminus": [
                        [
                          0,
                          "#0d0887"
                        ],
                        [
                          0.1111111111111111,
                          "#46039f"
                        ],
                        [
                          0.2222222222222222,
                          "#7201a8"
                        ],
                        [
                          0.3333333333333333,
                          "#9c179e"
                        ],
                        [
                          0.4444444444444444,
                          "#bd3786"
                        ],
                        [
                          0.5555555555555556,
                          "#d8576b"
                        ],
                        [
                          0.6666666666666666,
                          "#ed7953"
                        ],
                        [
                          0.7777777777777778,
                          "#fb9f3a"
                        ],
                        [
                          0.8888888888888888,
                          "#fdca26"
                        ],
                        [
                          1,
                          "#f0f921"
                        ]
                      ]
                    },
                    "colorway": [
                      "#636efa",
                      "#EF553B",
                      "#00cc96",
                      "#ab63fa",
                      "#FFA15A",
                      "#19d3f3",
                      "#FF6692",
                      "#B6E880",
                      "#FF97FF",
                      "#FECB52"
                    ],
                    "font": {
                      "color": "#2a3f5f"
                    },
                    "geo": {
                      "bgcolor": "white",
                      "lakecolor": "white",
                      "landcolor": "#E5ECF6",
                      "showlakes": true,
                      "showland": true,
                      "subunitcolor": "white"
                    },
                    "hoverlabel": {
                      "align": "left"
                    },
                    "hovermode": "closest",
                    "mapbox": {
                      "style": "light"
                    },
                    "paper_bgcolor": "white",
                    "plot_bgcolor": "#E5ECF6",
                    "polar": {
                      "angularaxis": {
                        "gridcolor": "white",
                        "linecolor": "white",
                        "ticks": ""
                      },
                      "bgcolor": "#E5ECF6",
                      "radialaxis": {
                        "gridcolor": "white",
                        "linecolor": "white",
                        "ticks": ""
                      }
                    },
                    "scene": {
                      "xaxis": {
                        "backgroundcolor": "#E5ECF6",
                        "gridcolor": "white",
                        "gridwidth": 2,
                        "linecolor": "white",
                        "showbackground": true,
                        "ticks": "",
                        "zerolinecolor": "white"
                      },
                      "yaxis": {
                        "backgroundcolor": "#E5ECF6",
                        "gridcolor": "white",
                        "gridwidth": 2,
                        "linecolor": "white",
                        "showbackground": true,
                        "ticks": "",
                        "zerolinecolor": "white"
                      },
                      "zaxis": {
                        "backgroundcolor": "#E5ECF6",
                        "gridcolor": "white",
                        "gridwidth": 2,
                        "linecolor": "white",
                        "showbackground": true,
                        "ticks": "",
                        "zerolinecolor": "white"
                      }
                    },
                    "shapedefaults": {
                      "line": {
                        "color": "#2a3f5f"
                      }
                    },
                    "ternary": {
                      "aaxis": {
                        "gridcolor": "white",
                        "linecolor": "white",
                        "ticks": ""
                      },
                      "baxis": {
                        "gridcolor": "white",
                        "linecolor": "white",
                        "ticks": ""
                      },
                      "bgcolor": "#E5ECF6",
                      "caxis": {
                        "gridcolor": "white",
                        "linecolor": "white",
                        "ticks": ""
                      }
                    },
                    "title": {
                      "x": 0.05
                    },
                    "xaxis": {
                      "automargin": true,
                      "gridcolor": "white",
                      "linecolor": "white",
                      "ticks": "",
                      "title": {
                        "standoff": 15
                      },
                      "zerolinecolor": "white",
                      "zerolinewidth": 2
                    },
                    "yaxis": {
                      "automargin": true,
                      "gridcolor": "white",
                      "linecolor": "white",
                      "ticks": "",
                      "title": {
                        "standoff": 15
                      },
                      "zerolinecolor": "white",
                      "zerolinewidth": 2
                    }
                  }
                },
                "xaxis": {
                  "anchor": "y",
                  "domain": [
                    0,
                    1
                  ],
                  "title": {
                    "text": "año_estacion"
                  },
                  "type": "log"
                },
                "yaxis": {
                  "anchor": "x",
                  "domain": [
                    0,
                    1
                  ],
                  "title": {
                    "text": "promedio_icas_sin_ceros"
                  }
                }
              }
            }
          },
          "metadata": {},
          "output_type": "display_data"
        },
        {
          "data": {
            "application/vnd.plotly.v1+json": {
              "config": {
                "plotlyServerURL": "https://plot.ly"
              },
              "data": [
                {
                  "autobinx": false,
                  "histnorm": "probability density",
                  "legendgroup": "Verano",
                  "marker": {
                    "color": "rgb(31, 119, 180)"
                  },
                  "name": "Verano",
                  "opacity": 0.7,
                  "type": "histogram",
                  "x": [
                    36.2,
                    31,
                    44.8,
                    48.6,
                    59.4,
                    41,
                    49.6,
                    39.8,
                    47.666666666666664,
                    43,
                    46.666666666666664,
                    43.333333333333336,
                    38.333333333333336,
                    39.666666666666664,
                    47.44444444444445,
                    35.4,
                    38.5,
                    47.8,
                    43.8,
                    48.2,
                    41.2,
                    45.2,
                    40,
                    33.25,
                    38.75,
                    43,
                    54.25,
                    53.5,
                    40.75,
                    55,
                    43,
                    40.25,
                    42.5,
                    42,
                    53,
                    62.75,
                    49.5,
                    49.75,
                    38.666666666666664,
                    53.94444444444445,
                    50.55555555555555,
                    64.33333333333333,
                    81.66666666666667,
                    45,
                    46.666666666666664,
                    43.666666666666664,
                    30,
                    36,
                    48,
                    41,
                    44,
                    41,
                    51,
                    35,
                    41.5,
                    42.25,
                    55,
                    47.75,
                    43,
                    39,
                    42.333333333333336,
                    38.5,
                    28.88888888888889,
                    36.111111111111114,
                    41.666666666666664,
                    55.111111111111114,
                    57.666666666666664,
                    38.888888888888886,
                    45.666666666666664,
                    39.666666666666664,
                    38,
                    38,
                    49.666666666666664,
                    42.333333333333336,
                    43.666666666666664,
                    41.333333333333336,
                    39.333333333333336,
                    34.666666666666664
                  ],
                  "xaxis": "x",
                  "xbins": {
                    "end": 81.66666666666667,
                    "size": 2,
                    "start": 28.88888888888889
                  },
                  "yaxis": "y"
                },
                {
                  "autobinx": false,
                  "histnorm": "probability density",
                  "legendgroup": "Primavera",
                  "marker": {
                    "color": "rgb(255, 127, 14)"
                  },
                  "name": "Primavera",
                  "opacity": 0.7,
                  "type": "histogram",
                  "x": [
                    27.4,
                    40.6,
                    55.6,
                    42.2,
                    48.2,
                    47.2,
                    44.4,
                    39.8,
                    47.666666666666664,
                    44.333333333333336,
                    50.333333333333336,
                    41.666666666666664,
                    57.333333333333336,
                    41.333333333333336,
                    39.666666666666664,
                    38.46666666666667,
                    41.4,
                    48.2,
                    37.4,
                    48.2,
                    42.8,
                    40.4,
                    41,
                    33.5,
                    35.25,
                    40.5,
                    40.5,
                    52.75,
                    44.25,
                    45.625,
                    43,
                    45.25,
                    49.25,
                    63.5,
                    53.75,
                    55.75,
                    55,
                    42.5,
                    37.666666666666664,
                    50.5,
                    49.333333333333336,
                    37.333333333333336,
                    81.66666666666667,
                    50.666666666666664,
                    46.333333333333336,
                    43.666666666666664,
                    35,
                    40,
                    38,
                    40,
                    45,
                    51,
                    58,
                    35,
                    33.25,
                    39,
                    46,
                    44.75,
                    44,
                    47,
                    50,
                    38.5,
                    20.88888888888889,
                    39.111111111111114,
                    49.22222222222222,
                    46.22222222222222,
                    51.22222222222222,
                    43.111111111111114,
                    50.22222222222222,
                    39.666666666666664,
                    39.666666666666664,
                    36.666666666666664,
                    43.333333333333336,
                    44,
                    43.666666666666664,
                    42.666666666666664,
                    52.666666666666664,
                    34.666666666666664
                  ],
                  "xaxis": "x",
                  "xbins": {
                    "end": 81.66666666666667,
                    "size": 2,
                    "start": 20.88888888888889
                  },
                  "yaxis": "y"
                },
                {
                  "autobinx": false,
                  "histnorm": "probability density",
                  "legendgroup": "Otoño",
                  "marker": {
                    "color": "rgb(44, 160, 44)"
                  },
                  "name": "Otoño",
                  "opacity": 0.7,
                  "type": "histogram",
                  "x": [
                    33.4,
                    29,
                    48.4,
                    40.4,
                    53.8,
                    40,
                    37,
                    39.8,
                    58.333333333333336,
                    36.666666666666664,
                    55,
                    49.333333333333336,
                    47.833333333333336,
                    42.333333333333336,
                    37.333333333333336,
                    35.4,
                    48.4,
                    54.2,
                    49.2,
                    48.2,
                    41,
                    46.8,
                    51,
                    36.5,
                    49,
                    45.5,
                    41.75,
                    53.125,
                    42.416666666666664,
                    41.5,
                    43,
                    56.75,
                    58.25,
                    62.5,
                    56.75,
                    59.25,
                    60,
                    54.5,
                    20,
                    71.66666666666667,
                    50.666666666666664,
                    46,
                    81.66666666666667,
                    45.333333333333336,
                    43.333333333333336,
                    43.666666666666664,
                    40,
                    36,
                    53,
                    37,
                    44.5,
                    46,
                    39,
                    35,
                    59.75,
                    48,
                    50.5,
                    51.25,
                    43.5,
                    40.666666666666664,
                    44.666666666666664,
                    38.5,
                    52.666666666666664,
                    38.888888888888886,
                    53.666666666666664,
                    48.666666666666664,
                    54.44444444444444,
                    42.111111111111114,
                    45.666666666666664,
                    39.666666666666664,
                    46.333333333333336,
                    48,
                    47,
                    40.666666666666664,
                    43.666666666666664,
                    42.44444444444445,
                    41.666666666666664,
                    34.666666666666664
                  ],
                  "xaxis": "x",
                  "xbins": {
                    "end": 81.66666666666667,
                    "size": 2,
                    "start": 20
                  },
                  "yaxis": "y"
                },
                {
                  "autobinx": false,
                  "histnorm": "probability density",
                  "legendgroup": "Invierno",
                  "marker": {
                    "color": "rgb(214, 39, 40)"
                  },
                  "name": "Invierno",
                  "opacity": 0.7,
                  "type": "histogram",
                  "x": [
                    36,
                    40.6,
                    61.6,
                    54.4,
                    53.8,
                    44.2,
                    37,
                    39.8,
                    54,
                    46.333333333333336,
                    47.333333333333336,
                    45,
                    47.833333333333336,
                    49.666666666666664,
                    34.666666666666664,
                    42,
                    42.766666666666666,
                    40,
                    39.4,
                    48.2,
                    39,
                    36.4,
                    42,
                    34.5,
                    53.5,
                    43,
                    30.5,
                    53.125,
                    42.25,
                    40.375,
                    43,
                    80,
                    58.75,
                    54.25,
                    50.5,
                    59.25,
                    61.25,
                    41.25,
                    47.333333333333336,
                    56.333333333333336,
                    51.666666666666664,
                    52,
                    81.66666666666667,
                    53.333333333333336,
                    37,
                    43.666666666666664,
                    35,
                    32,
                    53,
                    42,
                    44.5,
                    46,
                    34,
                    35,
                    26.25,
                    58.5,
                    48.75,
                    46.25,
                    43.5,
                    45,
                    45.666666666666664,
                    38.5,
                    29.333333333333332,
                    37.666666666666664,
                    54.44444444444444,
                    53.77777777777778,
                    54.44444444444444,
                    49.77777777777778,
                    41.44444444444444,
                    39.666666666666664,
                    37.333333333333336,
                    37.333333333333336,
                    43.666666666666664,
                    40,
                    43.666666666666664,
                    47,
                    39,
                    34.666666666666664
                  ],
                  "xaxis": "x",
                  "xbins": {
                    "end": 81.66666666666667,
                    "size": 2,
                    "start": 26.25
                  },
                  "yaxis": "y"
                },
                {
                  "legendgroup": "Verano",
                  "marker": {
                    "color": "rgb(31, 119, 180)"
                  },
                  "mode": "lines",
                  "name": "Verano",
                  "showlegend": false,
                  "type": "scatter",
                  "x": [
                    28.88888888888889,
                    28.994444444444444,
                    29.1,
                    29.205555555555556,
                    29.31111111111111,
                    29.416666666666668,
                    29.522222222222222,
                    29.62777777777778,
                    29.733333333333334,
                    29.83888888888889,
                    29.944444444444446,
                    30.05,
                    30.155555555555555,
                    30.261111111111113,
                    30.366666666666667,
                    30.47222222222222,
                    30.57777777777778,
                    30.683333333333334,
                    30.788888888888888,
                    30.894444444444446,
                    31,
                    31.105555555555554,
                    31.211111111111112,
                    31.316666666666666,
                    31.422222222222224,
                    31.52777777777778,
                    31.633333333333333,
                    31.73888888888889,
                    31.844444444444445,
                    31.950000000000003,
                    32.05555555555556,
                    32.16111111111111,
                    32.266666666666666,
                    32.37222222222222,
                    32.47777777777778,
                    32.583333333333336,
                    32.68888888888889,
                    32.794444444444444,
                    32.9,
                    33.00555555555556,
                    33.111111111111114,
                    33.21666666666667,
                    33.32222222222222,
                    33.42777777777778,
                    33.53333333333333,
                    33.63888888888889,
                    33.74444444444445,
                    33.85,
                    33.955555555555556,
                    34.06111111111111,
                    34.16666666666667,
                    34.272222222222226,
                    34.37777777777778,
                    34.483333333333334,
                    34.58888888888889,
                    34.69444444444444,
                    34.800000000000004,
                    34.90555555555556,
                    35.01111111111111,
                    35.11666666666667,
                    35.22222222222222,
                    35.32777777777778,
                    35.43333333333334,
                    35.53888888888889,
                    35.644444444444446,
                    35.75,
                    35.855555555555554,
                    35.961111111111116,
                    36.06666666666667,
                    36.172222222222224,
                    36.27777777777778,
                    36.38333333333333,
                    36.48888888888889,
                    36.59444444444445,
                    36.7,
                    36.80555555555556,
                    36.91111111111111,
                    37.016666666666666,
                    37.12222222222222,
                    37.22777777777778,
                    37.333333333333336,
                    37.43888888888889,
                    37.544444444444444,
                    37.650000000000006,
                    37.75555555555556,
                    37.861111111111114,
                    37.96666666666667,
                    38.07222222222222,
                    38.17777777777778,
                    38.28333333333333,
                    38.38888888888889,
                    38.49444444444445,
                    38.6,
                    38.705555555555556,
                    38.81111111111112,
                    38.91666666666667,
                    39.022222222222226,
                    39.12777777777778,
                    39.233333333333334,
                    39.33888888888889,
                    39.44444444444444,
                    39.550000000000004,
                    39.65555555555556,
                    39.76111111111111,
                    39.86666666666667,
                    39.97222222222223,
                    40.07777777777778,
                    40.18333333333334,
                    40.28888888888889,
                    40.394444444444446,
                    40.5,
                    40.605555555555554,
                    40.711111111111116,
                    40.81666666666667,
                    40.922222222222224,
                    41.02777777777778,
                    41.13333333333334,
                    41.238888888888894,
                    41.34444444444445,
                    41.45,
                    41.55555555555556,
                    41.66111111111111,
                    41.766666666666666,
                    41.87222222222223,
                    41.97777777777778,
                    42.083333333333336,
                    42.18888888888889,
                    42.29444444444445,
                    42.400000000000006,
                    42.50555555555556,
                    42.611111111111114,
                    42.71666666666667,
                    42.82222222222222,
                    42.92777777777778,
                    43.03333333333334,
                    43.13888888888889,
                    43.24444444444445,
                    43.35,
                    43.45555555555556,
                    43.56111111111112,
                    43.66666666666667,
                    43.772222222222226,
                    43.87777777777778,
                    43.983333333333334,
                    44.08888888888889,
                    44.19444444444445,
                    44.300000000000004,
                    44.40555555555556,
                    44.51111111111111,
                    44.616666666666674,
                    44.72222222222223,
                    44.82777777777778,
                    44.93333333333334,
                    45.03888888888889,
                    45.144444444444446,
                    45.25,
                    45.355555555555554,
                    45.461111111111116,
                    45.56666666666667,
                    45.672222222222224,
                    45.77777777777778,
                    45.88333333333333,
                    45.988888888888894,
                    46.09444444444445,
                    46.2,
                    46.30555555555556,
                    46.41111111111111,
                    46.516666666666666,
                    46.62222222222222,
                    46.72777777777778,
                    46.83333333333334,
                    46.9388888888889,
                    47.04444444444445,
                    47.150000000000006,
                    47.25555555555556,
                    47.361111111111114,
                    47.46666666666667,
                    47.57222222222222,
                    47.67777777777778,
                    47.78333333333334,
                    47.88888888888889,
                    47.99444444444445,
                    48.1,
                    48.205555555555556,
                    48.31111111111112,
                    48.41666666666667,
                    48.522222222222226,
                    48.62777777777778,
                    48.733333333333334,
                    48.83888888888889,
                    48.94444444444444,
                    49.05,
                    49.155555555555566,
                    49.26111111111112,
                    49.366666666666674,
                    49.47222222222223,
                    49.57777777777778,
                    49.68333333333334,
                    49.78888888888889,
                    49.894444444444446,
                    50,
                    50.10555555555556,
                    50.211111111111116,
                    50.31666666666667,
                    50.422222222222224,
                    50.52777777777778,
                    50.63333333333334,
                    50.738888888888894,
                    50.84444444444445,
                    50.95,
                    51.05555555555556,
                    51.16111111111111,
                    51.266666666666666,
                    51.37222222222222,
                    51.47777777777778,
                    51.58333333333334,
                    51.6888888888889,
                    51.79444444444445,
                    51.900000000000006,
                    52.00555555555556,
                    52.111111111111114,
                    52.21666666666667,
                    52.32222222222222,
                    52.427777777777784,
                    52.53333333333334,
                    52.63888888888889,
                    52.74444444444445,
                    52.85,
                    52.95555555555556,
                    53.06111111111112,
                    53.16666666666667,
                    53.272222222222226,
                    53.37777777777778,
                    53.483333333333334,
                    53.58888888888889,
                    53.69444444444444,
                    53.8,
                    53.905555555555566,
                    54.01111111111112,
                    54.116666666666674,
                    54.22222222222223,
                    54.32777777777778,
                    54.43333333333334,
                    54.53888888888889,
                    54.644444444444446,
                    54.75000000000001,
                    54.85555555555556,
                    54.961111111111116,
                    55.06666666666667,
                    55.172222222222224,
                    55.277777777777786,
                    55.38333333333334,
                    55.488888888888894,
                    55.59444444444445,
                    55.7,
                    55.80555555555556,
                    55.91111111111111,
                    56.016666666666666,
                    56.12222222222222,
                    56.22777777777779,
                    56.33333333333334,
                    56.4388888888889,
                    56.54444444444445,
                    56.650000000000006,
                    56.75555555555556,
                    56.861111111111114,
                    56.96666666666667,
                    57.07222222222222,
                    57.177777777777784,
                    57.28333333333334,
                    57.38888888888889,
                    57.49444444444445,
                    57.60000000000001,
                    57.70555555555556,
                    57.81111111111112,
                    57.91666666666667,
                    58.022222222222226,
                    58.12777777777778,
                    58.233333333333334,
                    58.33888888888889,
                    58.44444444444444,
                    58.55000000000001,
                    58.655555555555566,
                    58.76111111111112,
                    58.866666666666674,
                    58.97222222222223,
                    59.07777777777778,
                    59.18333333333334,
                    59.28888888888889,
                    59.394444444444446,
                    59.50000000000001,
                    59.60555555555556,
                    59.711111111111116,
                    59.81666666666667,
                    59.92222222222223,
                    60.027777777777786,
                    60.13333333333334,
                    60.238888888888894,
                    60.34444444444445,
                    60.45,
                    60.55555555555556,
                    60.66111111111111,
                    60.766666666666666,
                    60.87222222222223,
                    60.97777777777779,
                    61.08333333333334,
                    61.1888888888889,
                    61.29444444444445,
                    61.400000000000006,
                    61.50555555555556,
                    61.611111111111114,
                    61.71666666666667,
                    61.82222222222222,
                    61.92777777777778,
                    62.033333333333346,
                    62.1388888888889,
                    62.244444444444454,
                    62.35000000000001,
                    62.45555555555556,
                    62.56111111111112,
                    62.66666666666667,
                    62.772222222222226,
                    62.87777777777778,
                    62.98333333333335,
                    63.0888888888889,
                    63.19444444444446,
                    63.30000000000001,
                    63.405555555555566,
                    63.51111111111112,
                    63.616666666666674,
                    63.72222222222223,
                    63.82777777777778,
                    63.93333333333334,
                    64.03888888888889,
                    64.14444444444445,
                    64.25,
                    64.35555555555555,
                    64.46111111111111,
                    64.56666666666668,
                    64.67222222222223,
                    64.77777777777779,
                    64.88333333333334,
                    64.9888888888889,
                    65.09444444444445,
                    65.2,
                    65.30555555555556,
                    65.41111111111111,
                    65.51666666666667,
                    65.62222222222222,
                    65.72777777777779,
                    65.83333333333334,
                    65.9388888888889,
                    66.04444444444445,
                    66.15,
                    66.25555555555556,
                    66.36111111111111,
                    66.46666666666667,
                    66.57222222222222,
                    66.67777777777779,
                    66.78333333333335,
                    66.8888888888889,
                    66.99444444444445,
                    67.10000000000001,
                    67.20555555555556,
                    67.31111111111112,
                    67.41666666666667,
                    67.52222222222223,
                    67.62777777777778,
                    67.73333333333335,
                    67.8388888888889,
                    67.94444444444446,
                    68.05000000000001,
                    68.15555555555557,
                    68.26111111111112,
                    68.36666666666667,
                    68.47222222222223,
                    68.57777777777778,
                    68.68333333333334,
                    68.78888888888889,
                    68.89444444444445,
                    69,
                    69.10555555555555,
                    69.21111111111111,
                    69.31666666666668,
                    69.42222222222223,
                    69.52777777777779,
                    69.63333333333334,
                    69.7388888888889,
                    69.84444444444445,
                    69.95,
                    70.05555555555556,
                    70.16111111111111,
                    70.26666666666667,
                    70.37222222222223,
                    70.47777777777779,
                    70.58333333333334,
                    70.6888888888889,
                    70.79444444444445,
                    70.9,
                    71.00555555555556,
                    71.11111111111111,
                    71.21666666666667,
                    71.32222222222224,
                    71.42777777777779,
                    71.53333333333335,
                    71.6388888888889,
                    71.74444444444445,
                    71.85000000000001,
                    71.95555555555556,
                    72.06111111111112,
                    72.16666666666667,
                    72.27222222222223,
                    72.37777777777778,
                    72.48333333333335,
                    72.5888888888889,
                    72.69444444444446,
                    72.80000000000001,
                    72.90555555555557,
                    73.01111111111112,
                    73.11666666666667,
                    73.22222222222223,
                    73.32777777777778,
                    73.43333333333334,
                    73.53888888888889,
                    73.64444444444445,
                    73.75,
                    73.85555555555555,
                    73.96111111111111,
                    74.06666666666668,
                    74.17222222222223,
                    74.27777777777779,
                    74.38333333333334,
                    74.4888888888889,
                    74.59444444444445,
                    74.7,
                    74.80555555555556,
                    74.91111111111111,
                    75.01666666666668,
                    75.12222222222223,
                    75.22777777777779,
                    75.33333333333334,
                    75.4388888888889,
                    75.54444444444445,
                    75.65,
                    75.75555555555556,
                    75.86111111111111,
                    75.96666666666668,
                    76.07222222222224,
                    76.17777777777779,
                    76.28333333333335,
                    76.3888888888889,
                    76.49444444444445,
                    76.60000000000001,
                    76.70555555555556,
                    76.81111111111112,
                    76.91666666666667,
                    77.02222222222223,
                    77.12777777777778,
                    77.23333333333335,
                    77.3388888888889,
                    77.44444444444446,
                    77.55000000000001,
                    77.65555555555557,
                    77.76111111111112,
                    77.86666666666667,
                    77.97222222222223,
                    78.07777777777778,
                    78.18333333333334,
                    78.28888888888889,
                    78.39444444444445,
                    78.5,
                    78.60555555555555,
                    78.71111111111111,
                    78.81666666666668,
                    78.92222222222223,
                    79.02777777777779,
                    79.13333333333334,
                    79.2388888888889,
                    79.34444444444445,
                    79.45,
                    79.55555555555556,
                    79.66111111111111,
                    79.76666666666668,
                    79.87222222222223,
                    79.97777777777779,
                    80.08333333333334,
                    80.1888888888889,
                    80.29444444444445,
                    80.4,
                    80.50555555555556,
                    80.61111111111113,
                    80.71666666666668,
                    80.82222222222224,
                    80.92777777777779,
                    81.03333333333335,
                    81.1388888888889,
                    81.24444444444445,
                    81.35000000000001,
                    81.45555555555556,
                    81.56111111111112
                  ],
                  "xaxis": "x",
                  "y": [
                    0.006594679620420465,
                    0.0067740111205643345,
                    0.00695655308821891,
                    0.007142408769657922,
                    0.007331688853321692,
                    0.007524511443254679,
                    0.007721001991905062,
                    0.00792129319147732,
                    0.008125524823238384,
                    0.008333843564391373,
                    0.008546402752345621,
                    0.008763362106427431,
                    0.008984887407289371,
                    0.009211150134487273,
                    0.009442327062899953,
                    0.009678599818868056,
                    0.00992015439712058,
                    0.01016718063974374,
                    0.010419871678621448,
                    0.01067842334294205,
                    0.010943033533519445,
                    0.01121390156581883,
                    0.011491227483706505,
                    0.011775211346059999,
                    0.012066052488478494,
                    0.012363948762424578,
                    0.012669095754206045,
                    0.012981685986272506,
                    0.013301908103354196,
                    0.013629946046013355,
                    0.013965978214207796,
                    0.014310176623488834,
                    0.01466270605646507,
                    0.015023723212168041,
                    0.015393375855949654,
                    0.015771801972530898,
                    0.0161591289248035,
                    0.01655547262096531,
                    0.01696093669254417,
                    0.017375611685837285,
                    0.01779957426926202,
                    0.01823288645908408,
                    0.018675594865954562,
                    0.0191277299646576,
                    0.019589305389436155,
                    0.020060317257234013,
                    0.020540743521160386,
                    0.021030543356454955,
                    0.021529656581200943,
                    0.02203800311400728,
                    0.0225554824708514,
                    0.02308197330324582,
                    0.023617332979863386,
                    0.024161397213722666,
                    0.02471397973700329,
                    0.02527487202552272,
                    0.025843843074864196,
                    0.02642063923009856,
                    0.027004984070989647,
                    0.027596578354509602,
                    0.028195100016422267,
                    0.028800204233611383,
                    0.02941152354874,
                    0.030028668058724572,
                    0.030651225668391596,
                    0.031278762410555425,
                    0.031910822833613496,
                    0.03254693045759633,
                    0.033186588299436375,
                    0.03382927946803262,
                    0.03447446782948211,
                    0.03512159874263102,
                    0.03577009986486311,
                    0.03641938202779444,
                    0.037068840182278684,
                    0.03771785441185281,
                    0.03836579101346204,
                    0.039012003644004076,
                    0.03965583453092362,
                    0.04029661574476942,
                    0.0409336705313022,
                    0.04156631470041401,
                    0.04219385806878598,
                    0.04281560595288152,
                    0.04343086070853927,
                    0.04403892331310453,
                    0.04463909498571678,
                    0.045230678841057366,
                    0.04581298157156206,
                    0.046385315152812336,
                    0.04694699856654838,
                    0.047497359535491626,
                    0.04803573626392997,
                    0.048561479177807905,
                    0.04907395265787621,
                    0.04957253675929756,
                    0.05005662891097174,
                    0.050525645587745686,
                    0.050979023948605706,
                    0.05141622343391601,
                    0.051836727314770285,
                    0.052240044187561625,
                    0.05262570940695398,
                    0.052993286450552776,
                    0.05334236820872797,
                    0.053672578193235725,
                    0.05398357165852038,
                    0.054275036629850316,
                    0.054546694832754344,
                    0.05479830251857522,
                    0.05502965118134696,
                    0.05524056816162442,
                    0.055430917133355684,
                    0.05560059847037748,
                    0.055749549489639026,
                    0.05587774456881038,
                    0.05598519513650919,
                    0.056071949533981515,
                    0.056138092747692526,
                    0.0561837460129208,
                    0.05620906628910154,
                    0.056214245608322826,
                    0.05619951029904594,
                    0.05616512008778651,
                    0.05611136708215668,
                    0.05603857463932542,
                    0.055947096124596765,
                    0.05583731356543354,
                    0.05570963620686,
                    0.055564498974756536,
                    0.055402360854109406,
                    0.05522370318979253,
                    0.055029027917934834,
                    0.05481885573635752,
                    0.054593724222950765,
                    0.05435418591119327,
                    0.05410080633229641,
                    0.0538341620336774,
                    0.05355483858362614,
                    0.053263428572130386,
                    0.05296052961785701,
                    0.052646742391258015,
                    0.05232266866366981,
                    0.051988909392110864,
                    0.051646062849251564,
                    0.051294722807731945,
                    0.05093547678764114,
                    0.050568904375547924,
                    0.050195575622986544,
                    0.049816049531759915,
                    0.04943087263282611,
                    0.04904057766488907,
                    0.04864568235812449,
                    0.048246688327740976,
                    0.04784408008131318,
                    0.04743832414303005,
                    0.047029868297186715,
                    0.04661914095241845,
                    0.046206550627333996,
                    0.045792485557365634,
                    0.045377313421815536,
                    0.04496138118925367,
                    0.044545015078616565,
                    0.04412852063257588,
                    0.04371218289899886,
                    0.04329626671561379,
                    0.04288101709233022,
                    0.04246665968505084,
                    0.04205340135425581,
                    0.04164143080114463,
                    0.041230919273690686,
                    0.04082202133460086,
                    0.040414875682885786,
                    0.04000960602052758,
                    0.039606321955595714,
                    0.03920511993309669,
                    0.03880608418485837,
                    0.038409287689840525,
                    0.038014793136427874,
                    0.0376226538785011,
                    0.03723291487738923,
                    0.03684561362218193,
                    0.0364607810213188,
                    0.0360784422588663,
                    0.03569861760944277,
                    0.03532132320634535,
                    0.034946571758067535,
                    0.03457437320906519,
                    0.03420473534132427,
                    0.03383766431399783,
                    0.03347316513910899,
                    0.033111242092046494,
                    0.032751899056311595,
                    0.03239513980269372,
                    0.03204096820375476,
                    0.03168938838518252,
                    0.03134040481622039,
                    0.030994022341992635,
                    0.030650246161113597,
                    0.0303090817524891,
                    0.029970534755687426,
                    0.02963461080966727,
                    0.02930131535500239,
                    0.02897065340502827,
                    0.028642629291560303,
                    0.02831724639098746,
                    0.027994506836634316,
                    0.027674411223304857,
                    0.027356958309876143,
                    0.027042144725699803,
                    0.02672996468639629,
                    0.02642040972439269,
                    0.026113468439266974,
                    0.02580912627261836,
                    0.025507365311794587,
                    0.025208164126373424,
                    0.024911497640826456,
                    0.024617337046290728,
                    0.02432564975384687,
                    0.02403639939115439,
                    0.023749545843735627,
                    0.02346504534163173,
                    0.023182850591586732,
                    0.02290291095435393,
                    0.022625172666168387,
                    0.022349579102896366,
                    0.022076071084864392,
                    0.021804587219887636,
                    0.021535064281571367,
                    0.02126743761954744,
                    0.02100164159793943,
                    0.020737610058025484,
                    0.020475276800791264,
                    0.020214576084837656,
                    0.019955443134932752,
                    0.019697814656372954,
                    0.01944162935024811,
                    0.01918682842468622,
                    0.018933356097187673,
                    0.018681160083241416,
                    0.018430192066550156,
                    0.01818040814636863,
                    0.017931769257683486,
                    0.017684241560225432,
                    0.01743779679260529,
                    0.017192412588199053,
                    0.016948072749769158,
                    0.016704767480197166,
                    0.016462493567110423,
                    0.01622125451960865,
                    0.01598106065573133,
                    0.015741929139747937,
                    0.015503883968795627,
                    0.015266955908831132,
                    0.015031182380296179,
                    0.01479660729432061,
                    0.014563280840695159,
                    0.014331259229236686,
                    0.014100604386538566,
                    0.013871383610442425,
                    0.01364366918488682,
                    0.013417537958075652,
                    0.013193070887167624,
                    0.01297035255291313,
                    0.012749470647855332,
                    0.012530515441870801,
                    0.01231357922894617,
                    0.012098755759175317,
                    0.011886139660015324,
                    0.011675825850858398,
                    0.011467908954964027,
                    0.011262482712751164,
                    0.011059639400375576,
                    0.010859469257414316,
                    0.01066205992734994,
                    0.010467495914393445,
                    0.010275858060008958,
                    0.010087223042307083,
                    0.009901662901260183,
                    0.009719244592464643,
                    0.009540029571933051,
                    0.009364073414146976,
                    0.009191425465341952,
                    0.009022128533728161,
                    0.008856218618082952,
                    0.008693724675878062,
                    0.008534668431834294,
                    0.008379064227528142,
                    0.008226918912409276,
                    0.008078231776329917,
                    0.007932994523434538,
                    0.007791191287015042,
                    0.007652798684702809,
                    0.0075177859131456875,
                    0.007386114881106285,
                    0.0072577403797180655,
                    0.007132610288449665,
                    0.007010665815154421,
                    0.0068918417684226485,
                    0.006776066860308987,
                    0.006663264037376435,
                    0.006553350837881952,
                    0.006446239772826567,
                    0.006341838728505728,
                    0.006240051388122158,
                    0.00614077766996492,
                    0.006043914179613686,
                    0.0059493546735962235,
                    0.005856990531910216,
                    0.005766711236816547,
                    0.005678404855320299,
                    0.005591958522778335,
                    0.005507258925105859,
                    0.0054241927771016135,
                    0.0053426472944689204,
                    0.005262510657179092,
                    0.005183672461904018,
                    0.005106024161334923,
                    0.005029459488304271,
                    0.004953874862737682,
                    0.004879169779580359,
                    0.004805247175969355,
                    0.004732013776056535,
                    0.004659380412027739,
                    0.004587262320010936,
                    0.004515579409717799,
                    0.004444256506820736,
                    0.00437322356722779,
                    0.004302415862581629,
                    0.004231774136475016,
                    0.004161244731042215,
                    0.004090779683753043,
                    0.004020336794403573,
                    0.003949879662462441,
                    0.003879377695094474,
                    0.0038088060863429142,
                    0.003738145768105843,
                    0.003667383333692293,
                    0.0035965109348865165,
                    0.003525526153584748,
                    0.00345443184919708,
                    0.003383235983126233,
                    0.00331195142174458,
                    0.0032405957193907347,
                    0.0031691908829954273,
                    0.003097763120024399,
                    0.0030263425714915984,
                    0.0029549630318498896,
                    0.002883661657608194,
                    0.0028124786665528526,
                    0.002741457029467652,
                    0.0026706421562512463,
                    0.0026000815783222293,
                    0.0025298246291820606,
                    0.0024599221249738414,
                    0.0023904260468314217,
                    0.002321389226759312,
                    0.002252865038719113,
                    0.0021849070965239965,
                    0.0021175689600601484,
                    0.0020509038512623325,
                    0.0019849643811732055,
                    0.0019198022893107166,
                    0.0018554681964580765,
                    0.0017920113718763004,
                    0.0017294795158211015,
                    0.0016679185581252478,
                    0.001607372473485567,
                    0.0015478831139705271,
                    0.0014894900591423106,
                    0.0014322304840655442,
                    0.0013761390453559741,
                    0.0013212477853059824,
                    0.0012675860540111194,
                    0.0012151804493138278,
                    0.00116405477427721,
                    0.0011142300118041468,
                    0.0010657243159258576,
                    0.001018553019199015,
                    0.0009727286555727163,
                    0.0009282609980161402,
                    0.000885157110134438,
                    0.0008434214109448847,
                    0.000803055751937607,
                    0.0007640595055047798,
                    0.0007264296637897635,
                    0.0006901609469824973,
                    0.0006552459200694856,
                    0.0006216751170360966,
                    0.0005894371715145667,
                    0.0005585189528736077,
                    0.0005289057067537027,
                    0.0005005811990660881,
                    0.00047352786249264117,
                    0.0004477269445475912,
                    0.0004231586562900252,
                    0.0003998023208082108,
                    0.00037763652063165426,
                    0.0003566392432650575,
                    0.00033678802407857895,
                    0.00031806008583116526,
                    0.0003004324741475851,
                    0.00028388218831467777,
                    0.0002683863068079912,
                    0.0002539221070060479,
                    0.00024046717859552909,
                    0.00022799953021656778,
                    0.00021649768894271411,
                    0.00020594079223483692,
                    0.00019630867205211892,
                    0.00018758193084610154,
                    0.00017974200920548264,
                    0.00017277124495995974,
                    0.000166652923590687,
                    0.00016137131983307815,
                    0.00015691173039451614,
                    0.00015326049774527518,
                    0.0001504050249755426,
                    0.00014833378174498185,
                    0.00014703630138389797,
                    0.00014650316923685348,
                    0.00014672600237062308,
                    0.0001476974207988266,
                    0.0001494110104055101,
                    0.00015186127777949641,
                    0.0001550435972005717,
                    0.0001589541500476237,
                    0.00016358985692775465,
                    0.00016894830285421844,
                    0.00017502765582980126,
                    0.00018182657922103944,
                    0.00018934413833729456,
                    0.00019757970165736638,
                    0.00020653283717468826,
                    0.00021620320436034713,
                    0.00022659044227093885,
                    0.0002376940543554633,
                    0.0002495132905420192,
                    0.0002620470272105503,
                    0.00027529364568236003,
                    0.0002892509098800357,
                    0.00030391584383271023,
                    0.0003192846097208831,
                    0.0003353523871720403,
                    0.00035211325453264825,
                    0.0003695600728536732,
                    0.0003876843733349333,
                    0.0004064762489783359,
                    0.0004259242512009732,
                    0.00044601529215560864,
                    0.0004667345534986145,
                    0.00048806540233293046,
                    0.0005099893150365172,
                    0.0005324858096645662,
                    0.0005555323875862446,
                    0.0005791044849841405,
                    0.0006031754348065493,
                    0.0006277164397193133,
                    0.000652696556555347,
                    0.0006780826927061241,
                    0.0007038396148405163,
                    0.0007299299702727363,
                    0.0007563143212328993,
                    0.0007829511922213474,
                    0.0008097971305517002,
                    0.0008368067801079383,
                    0.0008639329682584854,
                    0.0008911268057855123,
                    0.000918337799601108,
                    0.0009455139779345819,
                    0.000972602027587021,
                    0.0009995474427616246,
                    0.0010262946848916565,
                    0.0010527873528028053,
                    0.001078968362464333,
                    0.0011047801355042292,
                    0.001130164795588087,
                    0.0011550643716911472,
                    0.0011794210072275388,
                    0.0012031771739418008,
                    0.001226275889415374,
                    0.0012486609369955967,
                    0.0012702770869175667,
                    0.0012910703173602761,
                    0.0013109880341581402,
                    0.0013299792878779268,
                    0.0013479949869691346,
                    0.0013649881057035125,
                    0.0013809138856365755,
                    0.0013957300293506334,
                    0.0014093968852751406,
                    0.001421877622425665,
                    0.0014331383939573301,
                    0.001443148488491872,
                    0.0014518804682489513,
                    0.001459310293091643,
                    0.0014654174296824397,
                    0.0014701849450389787,
                    0.001473599583877393,
                    0.0014756518292347695
                  ],
                  "yaxis": "y"
                },
                {
                  "legendgroup": "Primavera",
                  "marker": {
                    "color": "rgb(255, 127, 14)"
                  },
                  "mode": "lines",
                  "name": "Primavera",
                  "showlegend": false,
                  "type": "scatter",
                  "x": [
                    20.88888888888889,
                    21.010444444444445,
                    21.132,
                    21.253555555555558,
                    21.37511111111111,
                    21.496666666666666,
                    21.618222222222222,
                    21.73977777777778,
                    21.861333333333334,
                    21.98288888888889,
                    22.104444444444447,
                    22.226,
                    22.347555555555555,
                    22.46911111111111,
                    22.590666666666667,
                    22.712222222222223,
                    22.83377777777778,
                    22.955333333333336,
                    23.076888888888888,
                    23.198444444444444,
                    23.32,
                    23.441555555555556,
                    23.563111111111112,
                    23.68466666666667,
                    23.806222222222225,
                    23.927777777777777,
                    24.049333333333333,
                    24.17088888888889,
                    24.292444444444445,
                    24.414,
                    24.535555555555558,
                    24.657111111111114,
                    24.778666666666666,
                    24.900222222222222,
                    25.02177777777778,
                    25.143333333333334,
                    25.26488888888889,
                    25.386444444444447,
                    25.508000000000003,
                    25.629555555555555,
                    25.75111111111111,
                    25.872666666666667,
                    25.994222222222223,
                    26.11577777777778,
                    26.237333333333336,
                    26.35888888888889,
                    26.480444444444444,
                    26.602,
                    26.723555555555556,
                    26.845111111111112,
                    26.96666666666667,
                    27.08822222222222,
                    27.20977777777778,
                    27.331333333333333,
                    27.45288888888889,
                    27.574444444444445,
                    27.696,
                    27.817555555555558,
                    27.939111111111114,
                    28.06066666666667,
                    28.182222222222222,
                    28.30377777777778,
                    28.425333333333334,
                    28.54688888888889,
                    28.668444444444447,
                    28.790000000000003,
                    28.91155555555556,
                    29.03311111111111,
                    29.15466666666667,
                    29.276222222222223,
                    29.39777777777778,
                    29.519333333333336,
                    29.64088888888889,
                    29.762444444444448,
                    29.884,
                    30.005555555555556,
                    30.127111111111113,
                    30.24866666666667,
                    30.370222222222225,
                    30.491777777777777,
                    30.613333333333337,
                    30.73488888888889,
                    30.856444444444445,
                    30.978,
                    31.099555555555558,
                    31.221111111111114,
                    31.342666666666666,
                    31.464222222222226,
                    31.58577777777778,
                    31.707333333333334,
                    31.82888888888889,
                    31.950444444444447,
                    32.072,
                    32.193555555555555,
                    32.315111111111115,
                    32.43666666666667,
                    32.55822222222223,
                    32.67977777777778,
                    32.80133333333333,
                    32.92288888888889,
                    33.044444444444444,
                    33.166000000000004,
                    33.28755555555556,
                    33.409111111111116,
                    33.53066666666667,
                    33.65222222222222,
                    33.77377777777778,
                    33.89533333333333,
                    34.01688888888889,
                    34.138444444444445,
                    34.260000000000005,
                    34.38155555555556,
                    34.50311111111111,
                    34.62466666666667,
                    34.74622222222223,
                    34.86777777777778,
                    34.989333333333335,
                    35.110888888888894,
                    35.23244444444445,
                    35.354,
                    35.47555555555556,
                    35.59711111111111,
                    35.71866666666667,
                    35.84022222222222,
                    35.96177777777778,
                    36.083333333333336,
                    36.20488888888889,
                    36.32644444444445,
                    36.448,
                    36.56955555555555,
                    36.69111111111111,
                    36.81266666666667,
                    36.934222222222225,
                    37.05577777777778,
                    37.17733333333334,
                    37.2988888888889,
                    37.42044444444445,
                    37.542,
                    37.66355555555556,
                    37.78511111111111,
                    37.906666666666666,
                    38.028222222222226,
                    38.14977777777778,
                    38.27133333333333,
                    38.39288888888889,
                    38.51444444444445,
                    38.636,
                    38.757555555555555,
                    38.879111111111115,
                    39.000666666666675,
                    39.12222222222222,
                    39.24377777777778,
                    39.36533333333334,
                    39.48688888888889,
                    39.608444444444444,
                    39.730000000000004,
                    39.85155555555556,
                    39.973111111111116,
                    40.09466666666667,
                    40.21622222222223,
                    40.33777777777778,
                    40.45933333333333,
                    40.58088888888889,
                    40.70244444444445,
                    40.824,
                    40.94555555555556,
                    41.06711111111112,
                    41.18866666666667,
                    41.31022222222222,
                    41.43177777777778,
                    41.55333333333334,
                    41.674888888888894,
                    41.79644444444445,
                    41.918000000000006,
                    42.03955555555556,
                    42.16111111111111,
                    42.28266666666667,
                    42.404222222222224,
                    42.525777777777776,
                    42.647333333333336,
                    42.768888888888895,
                    42.89044444444445,
                    43.012,
                    43.13355555555556,
                    43.25511111111112,
                    43.376666666666665,
                    43.498222222222225,
                    43.619777777777784,
                    43.74133333333334,
                    43.86288888888889,
                    43.98444444444445,
                    44.106,
                    44.22755555555556,
                    44.349111111111114,
                    44.47066666666667,
                    44.592222222222226,
                    44.71377777777778,
                    44.83533333333334,
                    44.9568888888889,
                    45.07844444444444,
                    45.2,
                    45.32155555555556,
                    45.443111111111115,
                    45.56466666666667,
                    45.68622222222223,
                    45.80777777777778,
                    45.92933333333334,
                    46.05088888888889,
                    46.17244444444445,
                    46.294000000000004,
                    46.41555555555556,
                    46.537111111111116,
                    46.65866666666667,
                    46.78022222222222,
                    46.90177777777778,
                    47.02333333333334,
                    47.14488888888889,
                    47.266444444444446,
                    47.388000000000005,
                    47.509555555555565,
                    47.63111111111111,
                    47.75266666666667,
                    47.87422222222223,
                    47.99577777777778,
                    48.117333333333335,
                    48.238888888888894,
                    48.36044444444445,
                    48.482,
                    48.60355555555556,
                    48.72511111111112,
                    48.84666666666667,
                    48.968222222222224,
                    49.08977777777778,
                    49.21133333333334,
                    49.33288888888889,
                    49.45444444444445,
                    49.57600000000001,
                    49.69755555555556,
                    49.81911111111111,
                    49.94066666666667,
                    50.062222222222225,
                    50.183777777777784,
                    50.30533333333334,
                    50.4268888888889,
                    50.54844444444445,
                    50.67,
                    50.79155555555556,
                    50.913111111111114,
                    51.034666666666666,
                    51.156222222222226,
                    51.277777777777786,
                    51.39933333333334,
                    51.52088888888889,
                    51.64244444444445,
                    51.76400000000001,
                    51.88555555555556,
                    52.007111111111115,
                    52.128666666666675,
                    52.25022222222222,
                    52.37177777777778,
                    52.49333333333334,
                    52.61488888888889,
                    52.736444444444444,
                    52.858000000000004,
                    52.979555555555564,
                    53.10111111111111,
                    53.22266666666667,
                    53.34422222222223,
                    53.46577777777779,
                    53.58733333333333,
                    53.70888888888889,
                    53.83044444444445,
                    53.95200000000001,
                    54.07355555555556,
                    54.19511111111112,
                    54.31666666666668,
                    54.43822222222222,
                    54.55977777777778,
                    54.68133333333333,
                    54.8028888888889,
                    54.92444444444445,
                    55.04600000000001,
                    55.167555555555566,
                    55.28911111111111,
                    55.41066666666667,
                    55.53222222222223,
                    55.653777777777776,
                    55.775333333333336,
                    55.896888888888896,
                    56.018444444444455,
                    56.14,
                    56.26155555555556,
                    56.38311111111112,
                    56.504666666666665,
                    56.626222222222225,
                    56.747777777777785,
                    56.869333333333344,
                    56.99088888888889,
                    57.11244444444445,
                    57.23400000000001,
                    57.355555555555554,
                    57.477111111111114,
                    57.598666666666674,
                    57.72022222222222,
                    57.84177777777778,
                    57.96333333333334,
                    58.0848888888889,
                    58.20644444444446,
                    58.328,
                    58.44955555555556,
                    58.57111111111112,
                    58.69266666666667,
                    58.81422222222223,
                    58.93577777777777,
                    59.05733333333335,
                    59.17888888888889,
                    59.30044444444445,
                    59.42200000000001,
                    59.54355555555556,
                    59.665111111111116,
                    59.786666666666676,
                    59.90822222222222,
                    60.02977777777778,
                    60.15133333333334,
                    60.2728888888889,
                    60.394444444444446,
                    60.516000000000005,
                    60.637555555555565,
                    60.75911111111111,
                    60.88066666666667,
                    61.00222222222223,
                    61.123777777777775,
                    61.245333333333335,
                    61.366888888888894,
                    61.488444444444454,
                    61.61,
                    61.73155555555556,
                    61.85311111111112,
                    61.974666666666664,
                    62.096222222222224,
                    62.21777777777778,
                    62.33933333333334,
                    62.4608888888889,
                    62.58244444444445,
                    62.70400000000001,
                    62.82555555555557,
                    62.94711111111111,
                    63.06866666666667,
                    63.19022222222223,
                    63.31177777777779,
                    63.43333333333334,
                    63.5548888888889,
                    63.676444444444456,
                    63.798,
                    63.91955555555556,
                    64.04111111111112,
                    64.16266666666667,
                    64.28422222222223,
                    64.40577777777779,
                    64.52733333333335,
                    64.64888888888889,
                    64.77044444444445,
                    64.89200000000001,
                    65.01355555555556,
                    65.13511111111112,
                    65.25666666666667,
                    65.37822222222222,
                    65.4997777777778,
                    65.62133333333334,
                    65.7428888888889,
                    65.86444444444444,
                    65.986,
                    66.10755555555556,
                    66.22911111111111,
                    66.35066666666667,
                    66.47222222222223,
                    66.59377777777779,
                    66.71533333333335,
                    66.8368888888889,
                    66.95844444444445,
                    67.08000000000001,
                    67.20155555555556,
                    67.32311111111112,
                    67.44466666666668,
                    67.56622222222224,
                    67.68777777777778,
                    67.80933333333334,
                    67.9308888888889,
                    68.05244444444445,
                    68.174,
                    68.29555555555557,
                    68.41711111111111,
                    68.53866666666667,
                    68.66022222222223,
                    68.78177777777779,
                    68.90333333333334,
                    69.0248888888889,
                    69.14644444444446,
                    69.268,
                    69.38955555555556,
                    69.51111111111112,
                    69.63266666666667,
                    69.75422222222224,
                    69.87577777777778,
                    69.99733333333334,
                    70.11888888888889,
                    70.24044444444445,
                    70.36200000000001,
                    70.48355555555555,
                    70.60511111111111,
                    70.72666666666667,
                    70.84822222222223,
                    70.9697777777778,
                    71.09133333333334,
                    71.2128888888889,
                    71.33444444444446,
                    71.456,
                    71.57755555555556,
                    71.69911111111112,
                    71.82066666666667,
                    71.94222222222223,
                    72.06377777777779,
                    72.18533333333335,
                    72.30688888888889,
                    72.42844444444445,
                    72.55000000000001,
                    72.67155555555556,
                    72.79311111111112,
                    72.91466666666668,
                    73.03622222222224,
                    73.15777777777778,
                    73.27933333333334,
                    73.4008888888889,
                    73.52244444444445,
                    73.644,
                    73.76555555555557,
                    73.88711111111111,
                    74.00866666666668,
                    74.13022222222223,
                    74.25177777777779,
                    74.37333333333333,
                    74.4948888888889,
                    74.61644444444445,
                    74.738,
                    74.85955555555556,
                    74.98111111111112,
                    75.10266666666668,
                    75.22422222222224,
                    75.34577777777778,
                    75.46733333333334,
                    75.5888888888889,
                    75.71044444444445,
                    75.83200000000001,
                    75.95355555555557,
                    76.07511111111111,
                    76.19666666666667,
                    76.31822222222223,
                    76.43977777777779,
                    76.56133333333334,
                    76.6828888888889,
                    76.80444444444446,
                    76.926,
                    77.04755555555556,
                    77.16911111111112,
                    77.29066666666668,
                    77.41222222222223,
                    77.53377777777779,
                    77.65533333333335,
                    77.77688888888889,
                    77.89844444444445,
                    78.02000000000001,
                    78.14155555555556,
                    78.26311111111112,
                    78.38466666666667,
                    78.50622222222223,
                    78.62777777777778,
                    78.74933333333334,
                    78.8708888888889,
                    78.99244444444444,
                    79.114,
                    79.23555555555556,
                    79.35711111111111,
                    79.47866666666668,
                    79.60022222222223,
                    79.72177777777779,
                    79.84333333333335,
                    79.9648888888889,
                    80.08644444444445,
                    80.20800000000001,
                    80.32955555555556,
                    80.45111111111112,
                    80.57266666666668,
                    80.69422222222224,
                    80.81577777777778,
                    80.93733333333334,
                    81.0588888888889,
                    81.18044444444445,
                    81.302,
                    81.42355555555557,
                    81.54511111111113
                  ],
                  "xaxis": "x",
                  "y": [
                    0.0017426334332850848,
                    0.0017594233930652507,
                    0.001775261416351661,
                    0.0017901791059548146,
                    0.001804213685439026,
                    0.0018174077946026832,
                    0.001829809254195887,
                    0.0018414708031974274,
                    0.0018524498123484764,
                    0.0018628079779755985,
                    0.001872611000425181,
                    0.0018819282516704047,
                    0.0018908324368361097,
                    0.0018993992545126162,
                    0.0019077070607938973,
                    0.0019158365419761302,
                    0.0019238704007883286,
                    0.001931893060896758,
                    0.0019399903942296818,
                    0.0019482494754096363,
                    0.001956758367259211,
                    0.001965605940965976,
                    0.0019748817340567272,
                    0.0019846758488450814,
                    0.0019950788934851773,
                    0.002006181967193885,
                    0.0020180766906011914,
                    0.002030855281560728,
                    0.0020446106761074384,
                    0.0020594366935954016,
                    0.0020754282443941063,
                    0.002092681577874889,
                    0.002111294567789124,
                    0.002131367031534978,
                    0.0021530010792383068,
                    0.0021763014880438513,
                    0.0022013760965327715,
                    0.002228336213759268,
                    0.002257297037038602,
                    0.002288378072327671,
                    0.0023217035508218188,
                    0.002357402835252405,
                    0.00239561080931144,
                    0.002436468243654867,
                    0.0024801221320455173,
                    0.002526725991390494,
                    0.0025764401197043902,
                    0.0026294318063872324,
                    0.0026858754896404414,
                    0.002745952856351574,
                    0.0028098528803526795,
                    0.002877771795592109,
                    0.002949913001447377,
                    0.003026486898139144,
                    0.0031077106509746822,
                    0.003193807882943222,
                    0.0032850082959955925,
                    0.0033815472221559364,
                    0.0034836651064228843,
                    0.003591606924211387,
                    0.0037056215368525044,
                    0.0038259609893976938,
                    0.00395287975565475,
                    0.0040866339360063585,
                    0.004227480414119032,
                    0.004375675979132627,
                    0.004531476420320558,
                    0.004695135601523047,
                    0.004866904522873908,
                    0.005047030377462687,
                    0.005235755610595405,
                    0.005433316989237313,
                    0.005639944689040806,
                    0.0058558614060824545,
                    0.006081281500057362,
                    0.006316410175213153,
                    0.006561442704753454,
                    0.0068165637038112206,
                    0.007081946455392856,
                    0.0073577522929344835,
                    0.007644130042304281,
                    0.007941215525237686,
                    0.008249131125322695,
                    0.008567985416767527,
                    0.008897872855301575,
                    0.009238873529691093,
                    0.009591052971511325,
                    0.00995446202001585,
                    0.010329136738198274,
                    0.010715098375460412,
                    0.011112353371696995,
                    0.011520893397090799,
                    0.011940695421491832,
                    0.012371721806937536,
                    0.012813920416666019,
                    0.013267224733882352,
                    0.01373155398356642,
                    0.014206813250754732,
                    0.014692893588995741,
                    0.015189672113055197,
                    0.01569701207044148,
                    0.016214762886916492,
                    0.016742760181850315,
                    0.017280825750059653,
                    0.017828767507625642,
                    0.018386379400108014,
                    0.018953441272542153,
                    0.019529718701611017,
                    0.020114962791409452,
                    0.020708909935245514,
                    0.02131128154694081,
                    0.021921783766075915,
                    0.022540107142570362,
                    0.023165926306864405,
                    0.023798899632774137,
                    0.02443866890080669,
                    0.02508485897033115,
                    0.025737077469499763,
                    0.026394914512186684,
                    0.027057942451454823,
                    0.02772571567916492,
                    0.028397770481306518,
                    0.029073624958451394,
                    0.029752779020408644,
                    0.030434714463702356,
                    0.031118895139896213,
                    0.031804767222069506,
                    0.032491759575907025,
                    0.03317928424091805,
                    0.03386673702625643,
                    0.034553498224488874,
                    0.0352389334454675,
                    0.03592239457122432,
                    0.03660322083152988,
                    0.0372807399984707,
                    0.03795426969711383,
                    0.03862311882805915,
                    0.03928658909645034,
                    0.0399439766408371,
                    0.04059457375417279,
                    0.04123767068820567,
                    0.04187255753158839,
                    0.04249852615120955,
                    0.043114872185539374,
                    0.043720897078198276,
                    0.04431591013950076,
                    0.04489923062340423,
                    0.045470189807101866,
                    0.04602813306044351,
                    0.046572421892442165,
                    0.047102435962325176,
                    0.047617575042907784,
                    0.04811726092449942,
                    0.04860093924808761,
                    0.04906808125716907,
                    0.04951818545830439,
                    0.04995077918124617,
                    0.05036542003032015,
                    0.05076169721960773,
                    0.05113923278538146,
                    0.05149768267015832,
                    0.051836737673658026,
                    0.05215612426686675,
                    0.0524556052663018,
                    0.052734980366442155,
                    0.05299408652912285,
                    0.05323279822948335,
                    0.05345102755880431,
                    0.05364872418526127,
                    0.05382587517426412,
                    0.05398250467063736,
                    0.05411867344543068,
                    0.05423447831062867,
                    0.05433005140546451,
                    0.05440555935842813,
                    0.05446120232941218,
                    0.0544972129367514,
                    0.054513855074201874,
                    0.0545114226231711,
                    0.05449023806576258,
                    0.05445065100444068,
                    0.05439303659436093,
                    0.05431779389465194,
                    0.05422534414518283,
                    0.05411612897560625,
                    0.053990608553736885,
                    0.05384925968060496,
                    0.05369257383982092,
                    0.05352105520919052,
                    0.05333521864283483,
                    0.053135587632387626,
                    0.05292269225615895,
                    0.05269706712546481,
                    0.05245924933761639,
                    0.052209776445334755,
                    0.05194918445259766,
                    0.05167800584712136,
                    0.05139676767983043,
                    0.05110598970175278,
                    0.050806182568796786,
                    0.05049784612480253,
                    0.05018146777311349,
                    0.04985752094666895,
                    0.049526463686275654,
                    0.049188737336269966,
                    0.048844765366222884,
                    0.04849495232667789,
                    0.048139682946135444,
                    0.04777932137561649,
                    0.04741421058615581,
                    0.04704467192349364,
                    0.0466710048230688,
                    0.046293486687168754,
                    0.045912372924780495,
                    0.04552789715332163,
                    0.04514027156002622,
                    0.04474968741933585,
                    0.044356315761214585,
                    0.04396030818389024,
                    0.04356179780313588,
                    0.04316090032886852,
                    0.042757715258573414,
                    0.04235232717587696,
                    0.04194480714151061,
                    0.04153521416294623,
                    0.04112359672815556,
                    0.04070999438826527,
                    0.04029443937335657,
                    0.039876958225306555,
                    0.03945757343138945,
                    0.039036305042358645,
                    0.038613172258918846,
                    0.03818819497086594,
                    0.037761395233723974,
                    0.03733279866843592,
                    0.036902435770559974,
                    0.03647034311647929,
                    0.036036564455330496,
                    0.03560115167669349,
                    0.035164165645531306,
                    0.03472567689741737,
                    0.03428576618871396,
                    0.03384452489805042,
                    0.033402055277171584,
                    0.03295847055096557,
                    0.03251389486821,
                    0.03206846310627937,
                    0.03162232053470855,
                    0.03117562234408825,
                    0.030728533048261137,
                    0.03028122576916742,
                    0.02983388141494413,
                    0.02938668776299784,
                    0.028939838460728926,
                    0.028493531957378866,
                    0.028047970381092063,
                    0.027603358375721396,
                    0.027159901912160465,
                    0.026717807089053233,
                    0.0262772789376127,
                    0.025838520244983502,
                    0.025401730410106033,
                    0.0249671043453993,
                    0.024534831436780282,
                    0.02410509457359334,
                    0.02367806925894888,
                    0.023253922809780773,
                    0.02283281365464485,
                    0.02241489073591069,
                    0.022000293021571367,
                    0.021589149130421925,
                    0.021181577072863993,
                    0.02077768410809413,
                    0.02037756671695247,
                    0.019981310688260055,
                    0.01958899131507851,
                    0.019200673695999235,
                    0.018816413135329828,
                    0.018436255634904572,
                    0.018060238469215797,
                    0.017688390834660523,
                    0.017320734562920794,
                    0.01695728488786821,
                    0.01659805125489213,
                    0.016243038161216986,
                    0.015892246015585348,
                    0.015545672005647788,
                    0.015203310961510359,
                    0.01486515620414837,
                    0.014531200367783947,
                    0.014201436185852003,
                    0.013875857230820157,
                    0.013554458598886694,
                    0.013237237531432279,
                    0.012924193966045052,
                    0.01261533101095334,
                    0.012310655337773101,
                    0.012010177488599843,
                    0.011713912094621389,
                    0.01142187800459642,
                    0.011134098322706655,
                    0.01085060035644659,
                    0.010571415476337104,
                    0.0102965788903357,
                    0.010026129336845699,
                    0.009760108701194802,
                    0.009498561561341962,
                    0.009241534669379435,
                    0.008989076376107867,
                    0.008741236006575635,
                    0.008498063194980579,
                    0.00825960718772804,
                    0.008025916123724715,
                    0.0077970363011578055,
                    0.007573011440064213,
                    0.007353881949939824,
                    0.007139684211471538,
                    0.006930449881203845,
                    0.006726205227578818,
                    0.0065269705063214015,
                    0.006332759382589491,
                    0.006143578406673961,
                    0.005959426549333717,
                    0.005780294802087147,
                    0.005606165846970189,
                    0.005437013799419299,
                    0.005272804027058443,
                    0.0051134930462716855,
                    0.004959028497539122,
                    0.0048093491996149245,
                    0.00466438528174202,
                    0.004524058392237938,
                    0.004388281980962277,
                    0.004256961652395743,
                    0.004129995585331014,
                    0.004007275014507774,
                    0.003888684768920367,
                    0.0037741038609967296,
                    0.0036634061203918047,
                    0.0035564608657659186,
                    0.003453133607626827,
                    0.003353286775108071,
                    0.003256780459434411,
                    0.0031634731667884836,
                    0.0030732225733378278,
                    0.002985886275308142,
                    0.002901322527190728,
                    0.0028193909614475784,
                    0.002739953283420468,
                    0.0026628739355538393,
                    0.002588020725501487,
                    0.0025152654131938993,
                    0.002444484252492496,
                    0.0023755584836380418,
                    0.0023083747733089145,
                    0.0022428255997293625,
                    0.002178809580903185,
                    0.0021162317446849167,
                    0.0020550037400323593,
                    0.0019950439894023445,
                    0.0019362777828511996,
                    0.0018786373149737553,
                    0.0018220616663564128,
                    0.001766496731723311,
                    0.0017118950974171503,
                    0.0016582158712731417,
                    0.0016054244683119169,
                    0.0015534923559943872,
                    0.0015023967630447615,
                    0.0014521203560575395,
                    0.001402650888259665,
                    0.001353980824900147,
                    0.0013061069497880317,
                    0.0012590299574969383,
                    0.0012127540357025654,
                    0.0011672864420222326,
                    0.001122637079584346,
                    0.001078818075376311,
                    0.0010358433652036968,
                    0.0009937282888473973,
                    0.0009524891987323325,
                    0.0009121430851257898,
                    0.0008727072205708361,
                    0.0008341988259339397,
                    0.0007966347601114869,
                    0.000760031235100839,
                    0.00072440355780278,
                    0.0006897658995869083,
                    0.000656131094324015,
                    0.0006235104652725584,
                    0.0005919136809036291,
                    0.0005613486394620335,
                    0.0005318213817936937,
                    0.0005033360317223168,
                    0.0004758947630333798,
                    0.0004494977919216723,
                    0.00042414339358086444,
                    0.00039982794145998886,
                    0.00037654596758236443,
                    0.00035429024221735446,
                    0.00033305187111323185,
                    0.00031282040844005354,
                    0.0002935839835532154,
                    0.0002753294396704192,
                    0.0002580424825549991,
                    0.00024170783731625439,
                    0.00022630941146973695,
                    0.00021183046244679224,
                    0.00019825376780015268,
                    0.00018556179642012028,
                    0.00017373687915149031,
                    0.00016276137728343709,
                    0.0001526178474715005,
                    0.00014328920174096302,
                    0.00013475886131294963,
                    0.00012701090308742046,
                    0.00012003019770953551,
                    0.00011380253823698555,
                    0.0001083147585149477,
                    0.00010355484045170048,
                    0.00009951200947142891,
                    0.00009617681750090148,
                    0.00009354121292360197,
                    0.00009159859700853787,
                    0.00009034386639157865,
                    0.0000897734412550996,
                    0.00008988527891739342,
                    0.00009067887260726303,
                    0.00009215523526203316,
                    0.00009431686824954935,
                    0.00009716771497723677,
                    0.00010071309941465782,
                    0.00010495964962085109,
                    0.00010991520643473453,
                    0.00011558871755651806,
                    0.00012199011732088585,
                    0.00012913019253913444,
                    0.00013702043486763028,
                    0.00014567288024417888,
                    0.0001550999360220941,
                    0.00016531419652378497,
                    0.00017632824783132587,
                    0.00018815446273018547,
                    0.0002008047868235125,
                    0.00021429051693735442,
                    0.00022862207304084005,
                    0.0002438087650088696,
                    0.00025985855565670497,
                    0.0002767778215749084,
                    0.0002945711133877874,
                    0.0003132409171473166,
                    0.0003327874186559392,
                    0.00035320827258374804,
                    0.0003744983783070447,
                    0.0003966496644441345,
                    0.0004196508840991182,
                    0.00044348742284348815,
                    0.00046814112146762425,
                    0.0004935901155177457,
                    0.0005198086935981933,
                    0.0005467671763622843,
                    0.000574431818037517,
                    0.0006027647322312251,
                    0.0006317238436413507,
                    0.0006612628671535924,
                    0.0006913313156409334,
                    0.0007218745375955197,
                    0.0007528337855166568,
                    0.0007841463157539446,
                    0.0008157455202623484,
                    0.0008475610904689397,
                    0.0008795192131806071,
                    0.0009115427981813336,
                    0.0009435517368787085,
                    0.000975463191066063,
                    0.0010071919105709346,
                    0.0010386505782670307,
                    0.0010697501806376313,
                    0.0011004004017981467,
                    0.0011305100386165353,
                    0.001159987434317,
                    0.0011887409277176663,
                    0.0012166793150398519,
                    0.0012437123210387179,
                    0.0012697510760448837,
                    0.0012947085953764338,
                    0.0013185002574836193,
                    0.00134104427712532,
                    0.001362262169849166,
                    0.0013820792040570775,
                    0.001400424836985067,
                    0.001417233131011167,
                    0.0014324431468275345,
                    0.001445999310171589,
                    0.0014578517490050024,
                    0.0014679565982569226,
                    0.001476276269506637,
                    0.0014827796832684527,
                    0.001487442461854822,
                    0.0014902470811294704
                  ],
                  "yaxis": "y"
                },
                {
                  "legendgroup": "Otoño",
                  "marker": {
                    "color": "rgb(44, 160, 44)"
                  },
                  "mode": "lines",
                  "name": "Otoño",
                  "showlegend": false,
                  "type": "scatter",
                  "x": [
                    20,
                    20.123333333333335,
                    20.246666666666666,
                    20.37,
                    20.493333333333332,
                    20.616666666666667,
                    20.74,
                    20.863333333333333,
                    20.986666666666668,
                    21.11,
                    21.233333333333334,
                    21.356666666666666,
                    21.48,
                    21.60333333333333,
                    21.726666666666667,
                    21.85,
                    21.973333333333333,
                    22.096666666666668,
                    22.22,
                    22.343333333333334,
                    22.46666666666667,
                    22.59,
                    22.713333333333335,
                    22.836666666666666,
                    22.96,
                    23.083333333333332,
                    23.206666666666667,
                    23.330000000000002,
                    23.453333333333333,
                    23.576666666666668,
                    23.7,
                    23.823333333333334,
                    23.946666666666665,
                    24.07,
                    24.193333333333335,
                    24.316666666666666,
                    24.44,
                    24.563333333333333,
                    24.686666666666667,
                    24.81,
                    24.933333333333334,
                    25.056666666666665,
                    25.18,
                    25.303333333333335,
                    25.426666666666666,
                    25.55,
                    25.673333333333332,
                    25.796666666666667,
                    25.92,
                    26.043333333333333,
                    26.166666666666668,
                    26.29,
                    26.413333333333334,
                    26.53666666666667,
                    26.66,
                    26.783333333333335,
                    26.906666666666666,
                    27.03,
                    27.153333333333336,
                    27.276666666666667,
                    27.400000000000002,
                    27.523333333333333,
                    27.64666666666667,
                    27.770000000000003,
                    27.893333333333334,
                    28.016666666666666,
                    28.14,
                    28.263333333333335,
                    28.38666666666667,
                    28.509999999999998,
                    28.633333333333333,
                    28.756666666666668,
                    28.880000000000003,
                    29.003333333333334,
                    29.12666666666667,
                    29.25,
                    29.373333333333335,
                    29.49666666666667,
                    29.619999999999997,
                    29.743333333333332,
                    29.866666666666667,
                    29.990000000000002,
                    30.113333333333333,
                    30.236666666666668,
                    30.36,
                    30.483333333333334,
                    30.60666666666667,
                    30.73,
                    30.85333333333333,
                    30.976666666666667,
                    31.1,
                    31.223333333333336,
                    31.346666666666668,
                    31.47,
                    31.593333333333334,
                    31.71666666666667,
                    31.84,
                    31.963333333333335,
                    32.086666666666666,
                    32.21,
                    32.333333333333336,
                    32.45666666666666,
                    32.58,
                    32.70333333333333,
                    32.82666666666667,
                    32.95,
                    33.07333333333334,
                    33.196666666666665,
                    33.32,
                    33.443333333333335,
                    33.56666666666667,
                    33.69,
                    33.81333333333333,
                    33.93666666666667,
                    34.06,
                    34.18333333333334,
                    34.30666666666667,
                    34.43,
                    34.553333333333335,
                    34.67666666666667,
                    34.800000000000004,
                    34.92333333333333,
                    35.04666666666667,
                    35.17,
                    35.29333333333334,
                    35.41666666666667,
                    35.540000000000006,
                    35.663333333333334,
                    35.78666666666667,
                    35.910000000000004,
                    36.03333333333333,
                    36.156666666666666,
                    36.28,
                    36.403333333333336,
                    36.52666666666667,
                    36.65,
                    36.77333333333334,
                    36.89666666666667,
                    37.019999999999996,
                    37.14333333333333,
                    37.266666666666666,
                    37.39,
                    37.513333333333335,
                    37.63666666666667,
                    37.760000000000005,
                    37.88333333333334,
                    38.00666666666667,
                    38.129999999999995,
                    38.25333333333334,
                    38.376666666666665,
                    38.5,
                    38.623333333333335,
                    38.74666666666667,
                    38.870000000000005,
                    38.99333333333334,
                    39.11666666666667,
                    39.239999999999995,
                    39.36333333333334,
                    39.486666666666665,
                    39.61,
                    39.733333333333334,
                    39.85666666666667,
                    39.980000000000004,
                    40.10333333333334,
                    40.22666666666667,
                    40.35,
                    40.473333333333336,
                    40.596666666666664,
                    40.72,
                    40.843333333333334,
                    40.96666666666667,
                    41.09,
                    41.21333333333334,
                    41.33666666666667,
                    41.46,
                    41.583333333333336,
                    41.70666666666666,
                    41.83,
                    41.95333333333333,
                    42.07666666666667,
                    42.2,
                    42.32333333333334,
                    42.44666666666667,
                    42.57,
                    42.693333333333335,
                    42.81666666666666,
                    42.94,
                    43.06333333333333,
                    43.18666666666667,
                    43.31,
                    43.43333333333334,
                    43.55666666666667,
                    43.68,
                    43.803333333333335,
                    43.92666666666667,
                    44.050000000000004,
                    44.17333333333333,
                    44.29666666666667,
                    44.42,
                    44.54333333333334,
                    44.66666666666667,
                    44.790000000000006,
                    44.913333333333334,
                    45.03666666666667,
                    45.160000000000004,
                    45.28333333333333,
                    45.406666666666666,
                    45.53,
                    45.653333333333336,
                    45.77666666666667,
                    45.900000000000006,
                    46.02333333333334,
                    46.14666666666667,
                    46.27,
                    46.39333333333333,
                    46.516666666666666,
                    46.64,
                    46.763333333333335,
                    46.88666666666667,
                    47.010000000000005,
                    47.13333333333334,
                    47.25666666666667,
                    47.38,
                    47.50333333333334,
                    47.626666666666665,
                    47.75,
                    47.873333333333335,
                    47.99666666666667,
                    48.120000000000005,
                    48.24333333333334,
                    48.36666666666667,
                    48.49,
                    48.61333333333334,
                    48.736666666666665,
                    48.86,
                    48.983333333333334,
                    49.10666666666667,
                    49.230000000000004,
                    49.35333333333334,
                    49.47666666666667,
                    49.60000000000001,
                    49.723333333333336,
                    49.846666666666664,
                    49.97,
                    50.093333333333334,
                    50.21666666666667,
                    50.34,
                    50.46333333333334,
                    50.58666666666667,
                    50.71000000000001,
                    50.833333333333336,
                    50.95666666666666,
                    51.080000000000005,
                    51.20333333333333,
                    51.32666666666667,
                    51.45,
                    51.57333333333334,
                    51.69666666666667,
                    51.82000000000001,
                    51.943333333333335,
                    52.06666666666667,
                    52.190000000000005,
                    52.31333333333333,
                    52.43666666666667,
                    52.56,
                    52.68333333333334,
                    52.80666666666667,
                    52.93,
                    53.053333333333335,
                    53.17666666666667,
                    53.3,
                    53.42333333333334,
                    53.546666666666674,
                    53.67,
                    53.79333333333334,
                    53.91666666666667,
                    54.04,
                    54.163333333333334,
                    54.28666666666667,
                    54.41,
                    54.53333333333334,
                    54.65666666666667,
                    54.78,
                    54.903333333333336,
                    55.02666666666667,
                    55.15,
                    55.27333333333333,
                    55.39666666666667,
                    55.52,
                    55.64333333333334,
                    55.76666666666667,
                    55.89,
                    56.013333333333335,
                    56.13666666666667,
                    56.26,
                    56.38333333333333,
                    56.506666666666675,
                    56.63,
                    56.75333333333334,
                    56.87666666666667,
                    57,
                    57.123333333333335,
                    57.24666666666667,
                    57.37,
                    57.49333333333333,
                    57.616666666666674,
                    57.74,
                    57.86333333333334,
                    57.98666666666667,
                    58.11,
                    58.233333333333334,
                    58.35666666666667,
                    58.48,
                    58.60333333333334,
                    58.726666666666674,
                    58.85,
                    58.973333333333336,
                    59.09666666666667,
                    59.22,
                    59.343333333333334,
                    59.46666666666667,
                    59.59,
                    59.71333333333334,
                    59.83666666666667,
                    59.96,
                    60.083333333333336,
                    60.20666666666667,
                    60.33,
                    60.45333333333333,
                    60.57666666666667,
                    60.7,
                    60.82333333333334,
                    60.94666666666667,
                    61.07,
                    61.193333333333335,
                    61.31666666666667,
                    61.44,
                    61.56333333333333,
                    61.686666666666675,
                    61.81,
                    61.93333333333334,
                    62.05666666666667,
                    62.18,
                    62.303333333333335,
                    62.42666666666667,
                    62.55,
                    62.67333333333334,
                    62.796666666666674,
                    62.92,
                    63.04333333333334,
                    63.16666666666667,
                    63.29,
                    63.413333333333334,
                    63.53666666666667,
                    63.66,
                    63.78333333333334,
                    63.90666666666667,
                    64.03,
                    64.15333333333334,
                    64.27666666666667,
                    64.4,
                    64.52333333333334,
                    64.64666666666668,
                    64.77000000000001,
                    64.89333333333335,
                    65.01666666666668,
                    65.14,
                    65.26333333333334,
                    65.38666666666667,
                    65.50999999999999,
                    65.63333333333333,
                    65.75666666666667,
                    65.88,
                    66.00333333333333,
                    66.12666666666667,
                    66.25,
                    66.37333333333333,
                    66.49666666666667,
                    66.62,
                    66.74333333333334,
                    66.86666666666667,
                    66.99000000000001,
                    67.11333333333334,
                    67.23666666666668,
                    67.36,
                    67.48333333333333,
                    67.60666666666667,
                    67.73,
                    67.85333333333334,
                    67.97666666666667,
                    68.10000000000001,
                    68.22333333333333,
                    68.34666666666666,
                    68.47,
                    68.59333333333333,
                    68.71666666666667,
                    68.84,
                    68.96333333333334,
                    69.08666666666667,
                    69.21000000000001,
                    69.33333333333334,
                    69.45666666666668,
                    69.58000000000001,
                    69.70333333333333,
                    69.82666666666667,
                    69.95000000000002,
                    70.07333333333334,
                    70.19666666666667,
                    70.32000000000001,
                    70.44333333333333,
                    70.56666666666666,
                    70.69,
                    70.81333333333333,
                    70.93666666666667,
                    71.06,
                    71.18333333333334,
                    71.30666666666667,
                    71.43,
                    71.55333333333334,
                    71.67666666666668,
                    71.80000000000001,
                    71.92333333333335,
                    72.04666666666668,
                    72.17000000000002,
                    72.29333333333334,
                    72.41666666666667,
                    72.54,
                    72.66333333333333,
                    72.78666666666666,
                    72.91000000000001,
                    73.03333333333333,
                    73.15666666666667,
                    73.28,
                    73.40333333333334,
                    73.52666666666667,
                    73.65,
                    73.77333333333334,
                    73.89666666666668,
                    74.02000000000001,
                    74.14333333333335,
                    74.26666666666668,
                    74.39000000000001,
                    74.51333333333334,
                    74.63666666666667,
                    74.76,
                    74.88333333333333,
                    75.00666666666667,
                    75.13000000000001,
                    75.25333333333333,
                    75.37666666666667,
                    75.5,
                    75.62333333333333,
                    75.74666666666667,
                    75.87,
                    75.99333333333334,
                    76.11666666666667,
                    76.24000000000001,
                    76.36333333333334,
                    76.48666666666668,
                    76.61000000000001,
                    76.73333333333333,
                    76.85666666666667,
                    76.98,
                    77.10333333333334,
                    77.22666666666667,
                    77.35000000000001,
                    77.47333333333333,
                    77.59666666666666,
                    77.72,
                    77.84333333333333,
                    77.96666666666667,
                    78.09,
                    78.21333333333334,
                    78.33666666666667,
                    78.46000000000001,
                    78.58333333333334,
                    78.70666666666668,
                    78.83000000000001,
                    78.95333333333333,
                    79.07666666666667,
                    79.20000000000002,
                    79.32333333333334,
                    79.44666666666667,
                    79.57000000000001,
                    79.69333333333333,
                    79.81666666666666,
                    79.94,
                    80.06333333333333,
                    80.18666666666667,
                    80.31,
                    80.43333333333334,
                    80.55666666666667,
                    80.68,
                    80.80333333333334,
                    80.92666666666668,
                    81.05000000000001,
                    81.17333333333335,
                    81.29666666666668,
                    81.42000000000002,
                    81.54333333333334
                  ],
                  "xaxis": "x",
                  "y": [
                    0.0014172266558868192,
                    0.0014240736541965603,
                    0.0014300791998834454,
                    0.0014352749653171646,
                    0.001439697420109036,
                    0.0014433877704571752,
                    0.0014463918777446383,
                    0.001448760157174587,
                    0.0014505474573952115,
                    0.0014518129222289896,
                    0.001452619835774527,
                    0.0014530354522929354,
                    0.0014531308124230812,
                    0.0014529805473896661,
                    0.0014526626729735672,
                    0.0014522583751041362,
                    0.0014518517890069814,
                    0.0014515297738973312,
                    0.0014513816852475291,
                    0.00145149914667694,
                    0.0014519758235130768,
                    0.0014529072000537713,
                    0.0014543903625216202,
                    0.0014565237896437227,
                    0.001459407152712235,
                    0.0014631411268847983,
                    0.0014678272153691367,
                    0.001473567588003777,
                    0.0014804649355979697,
                    0.0014886223412294143,
                    0.0014981431695198673,
                    0.0015091309747172921,
                    0.0015216894282106392,
                    0.0015359222658913436,
                    0.0015519332555558232,
                    0.0015698261843178863,
                    0.001589704865770725,
                    0.0016116731664073728,
                    0.001635835050578256,
                    0.0016622946430367921,
                    0.0016911563079014366,
                    0.0017225247426468518,
                    0.001756505085530741,
                    0.0017932030346679332,
                    0.0018327249767820474,
                    0.001875178123499259,
                    0.0019206706529002508,
                    0.0019693118539173844,
                    0.0020212122710556554,
                    0.002076483846830113,
                    0.002135240059249953,
                    0.0021975960516419026,
                    0.0022636687520934825,
                    0.002333576979810997,
                    0.0024074415357282007,
                    0.002485385274769464,
                    0.0025675331572662104,
                    0.0026540122771466345,
                    0.0027449518646662494,
                    0.002840483261619017,
                    0.002940739867165405,
                    0.003045857052632608,
                    0.0031559720438821427,
                    0.0032712237700990815,
                    0.003391752678133103,
                    0.0035177005118122726,
                    0.0036492100559529627,
                    0.0037864248451017412,
                    0.003929488837363524,
                    0.00407854605399261,
                    0.004233740185746116,
                    0.00439521416731916,
                    0.0045631097214959525,
                    0.004737566874955839,
                    0.004918723447966923,
                    0.005106714520477669,
                    0.005301671877377107,
                    0.005503723435932811,
                    0.0057129926586313344,
                    0.005929597954834924,
                    0.006153652074828989,
                    0.006385261499965948,
                    0.006624525832709186,
                    0.006871537190447114,
                    0.007126379606978099,
                    0.007389128445564008,
                    0.0076598498274115506,
                    0.007938600079367015,
                    0.008225425204502526,
                    0.00852036037913018,
                    0.008823429479607297,
                    0.009134644642091762,
                    0.00945400585817356,
                    0.009781500609050121,
                    0.010117103540630433,
                    0.010460776181649893,
                    0.01081246670655774,
                    0.01117210974460435,
                    0.011539626236210767,
                    0.011914923337352465,
                    0.012297894372333421,
                    0.012688418834975549,
                    0.013086362437898446,
                    0.013491577209225713,
                    0.013903901635726764,
                    0.014323160851091593,
                    0.0147491668677435,
                    0.015181718850325062,
                    0.015620603428748409,
                    0.01606559504848205,
                    0.01651645635556074,
                    0.016972938613646866,
                    0.01743478215034978,
                    0.017901716829917688,
                    0.018373462549361966,
                    0.018849729755051035,
                    0.019330219976821293,
                    0.019814626376697026,
                    0.020302634309385312,
                    0.0207939218918157,
                    0.021288160579125134,
                    0.021785015744643768,
                    0.022284147261614602,
                    0.02278521008457325,
                    0.02328785482852629,
                    0.0237917283442857,
                    0.024296474288547296,
                    0.024801733687531587,
                    0.025307145493239196,
                    0.025812347131599266,
                    0.0263169750420111,
                    0.026820665207986233,
                    0.02732305367879248,
                    0.027823777082177925,
                    0.02832247312840645,
                    0.02881878110596838,
                    0.02931234236943634,
                    0.029802800820014082,
                    0.03028980337937846,
                    0.03077300045743355,
                    0.03125204641459083,
                    0.03172660001915039,
                    0.03219632490029362,
                    0.03266088999710537,
                    0.03311997000392594,
                    0.033573245812191926,
                    0.03402040494876383,
                    0.034461142010559484,
                    0.03489515909511782,
                    0.035322166226514656,
                    0.03574188177584108,
                    0.03615403287524047,
                    0.03655835582428922,
                    0.03695459648729825,
                    0.03734251067991715,
                    0.037721864543237824,
                    0.03809243490343099,
                    0.038454009614804906,
                    0.0388063878840568,
                    0.03914938057339842,
                    0.03948281048017696,
                    0.03980651259058793,
                    0.040120334305085464,
                    0.040424135633142,
                    0.040717789355092564,
                    0.04100118114892103,
                    0.041274209680002054,
                    0.041536786652010174,
                    0.04178883681743429,
                    0.04203029794640059,
                    0.042261120752798406,
                    0.04248126877702351,
                    0.04269071822499727,
                    0.042889457763482144,
                    0.04307748827209264,
                    0.04325482255278868,
                    0.043421484998032805,
                    0.04357751121918597,
                    0.04372294763710689,
                    0.04385785103729811,
                    0.043982288092306,
                    0.044096334854424823,
                    0.044200076222072476,
                    0.044293605383492494,
                    0.044377023241689934,
                    0.044450437824722966,
                    0.04451396368564405,
                    0.044567721296511646,
                    0.044611836440974,
                    0.04464643960995663,
                    0.044671665404965775,
                    0.04468765195344994,
                    0.044694540340540344,
                    0.044692474061320195,
                    0.04468159849755389,
                    0.04466206042254173,
                    0.044634007537457256,
                    0.04459758804217604,
                    0.044552950243220237,
                    0.04450024220102798,
                    0.04443961141831368,
                    0.04437120457082302,
                    0.04429516728130687,
                    0.0442116439370501,
                    0.04412077755079938,
                    0.044022709664444985,
                    0.04391758029432964,
                    0.04380552791659315,
                    0.04368668949051463,
                    0.04356120051739592,
                    0.04342919513214136,
                    0.04329080622433841,
                    0.043146165585332505,
                    0.0429954040775241,
                    0.042838651821897916,
                    0.042676038399626866,
                    0.042507693063479596,
                    0.042333744954698715,
                    0.0421543233210118,
                    0.04196955773148552,
                    0.04177957828403463,
                    0.04158451580155246,
                    0.04138450201283213,
                    0.041179669714699836,
                    0.04097015291207359,
                    0.040756086932995435,
                    0.04053760851605207,
                    0.040314855867996664,
                    0.04008796868980598,
                    0.039857088169847454,
                    0.039622356943283525,
                    0.03938391901730029,
                    0.039141919662207626,
                    0.03889650526891273,
                    0.03864782317371265,
                    0.038396021451777715,
                    0.038141248681102115,
                    0.0378836536790747,
                    0.0376233852141682,
                    0.03736059169555295,
                    0.0370954208437119,
                    0.03682801934535903,
                    0.036558532496145255,
                    0.036287103834771725,
                    0.03601387477221672,
                    0.03573898421982258,
                    0.03546256821998108,
                    0.03518475958309969,
                    0.034905687534433114,
                    0.03462547737422028,
                    0.03434425015438517,
                    0.03406212237484031,
                    0.033779205702179814,
                    0.03349560671326751,
                    0.03321142666592013,
                    0.03292676129856187,
                    0.03264170066038556,
                    0.03235632897320738,
                    0.03207072452584833,
                    0.031784959601521716,
                    0.031499100438357984,
                    0.031213207222859793,
                    0.030927334115755857,
                    0.030641529309416788,
                    0.030355835115711265,
                    0.03007028808292308,
                    0.029784919140118608,
                    0.02949975376715312,
                    0.029214812188336454,
                    0.028930109587643093,
                    0.028645656343249396,
                    0.028361458279113166,
                    0.02807751693127697,
                    0.027793829826573184,
                    0.027510390771439092,
                    0.02722719014860773,
                    0.026944215219524958,
                    0.02666145043045268,
                    0.02637887772034772,
                    0.026096476828754277,
                    0.02581422560211018,
                    0.025532100297041088,
                    0.025250075879397187,
                    0.024968126317972062,
                    0.02468622487202869,
                    0.024404344371938697,
                    0.024122457492416788,
                    0.023840537017999232,
                    0.023558556100567764,
                    0.023276488508860663,
                    0.02299430887003586,
                    0.022711992903454385,
                    0.022429517646938218,
                    0.02214686167582063,
                    0.021864005315150162,
                    0.021580930845432042,
                    0.02129762270229185,
                    0.021014067670428183,
                    0.020730255072182506,
                    0.02044617695100077,
                    0.020161828249988974,
                    0.019877206985680695,
                    0.019592314417039014,
                    0.019307155209607865,
                    0.019021737594617682,
                    0.01873607352273253,
                    0.018450178812008732,
                    0.01816407328951847,
                    0.01787778092597977,
                    0.01759132996262775,
                    0.01730475302946395,
                    0.01701808725393598,
                    0.016731374359023783,
                    0.016444660749651216,
                    0.016157997586298555,
                    0.015871440844664922,
                    0.01558505136022278,
                    0.01529889485651738,
                    0.015013041956093228,
                    0.014727568172978944,
                    0.01444255388572872,
                    0.01415808429010249,
                    0.013874249330569514,
                    0.013591143609936383,
                    0.01330886627653147,
                    0.013027520888522126,
                    0.012747215255094481,
                    0.01246806125438892,
                    0.012190174628254058,
                    0.01191367475405595,
                    0.011638684393955554,
                    0.011365329422244372,
                    0.011093738531502336,
                    0.010824042918512905,
                    0.010556375951034244,
                    0.01029087281668232,
                    0.010027670155328136,
                    0.009766905676546731,
                    0.0095087177637794,
                    0.009253245066978156,
                    0.009000626085597237,
                    0.008750998743874621,
                    0.008504499960409155,
                    0.008261265214085463,
                    0.008021428108429048,
                    0.007785119936486499,
                    0.007552469248324485,
                    0.0073236014232222445,
                    0.007098638248598819,
                    0.0068776975076708,
                    0.006660892577774232,
                    0.006448332041212911,
                    0.0062401193104117516,
                    0.006036352269060999,
                    0.005837122930835455,
                    0.005642517117163841,
                    0.005452614155410055,
                    0.00526748659870778,
                    0.005087199968568355,
                    0.00491181252125744,
                    0.004741375038810049,
                    0.004575930645429092,
                    0.00441551464988771,
                    0.004260154414433833,
                    0.00410986925057612,
                    0.0039646703420136145,
                    0.003824560694859853,
                    0.0036895351152040384,
                    0.0035595802139484754,
                    0.003434674438762852,
                    0.003314788132902829,
                    0.0031998836205510933,
                    0.0030899153182557242,
                    0.0029848298719607224,
                    0.0028845663190497643,
                    0.0027890562747526233,
                    0.002698224142197228,
                    0.0026119873453269524,
                    0.002530256583842363,
                    0.002452936109268936,
                    0.0023799240211971845,
                    0.002311112582688579,
                    0.0022463885537889064,
                    0.002185633542041072,
                    0.0021287243688406805,
                    0.0020755334504299347,
                    0.0020259291922794494,
                    0.0019797763955615435,
                    0.0019369366743747195,
                    0.0018972688823357244,
                    0.0018606295471138034,
                    0.001826873311441846,
                    0.0017958533791010368,
                    0.0017674219643399735,
                    0.0017414307431563329,
                    0.0017177313048398451,
                    0.001696175602149467,
                    0.0016766163984765316,
                    0.0016589077103293032,
                    0.001642905243463564,
                    0.001628466820979245,
                    0.0016154528017050633,
                    0.0016037264872022902,
                    0.00159315451573567,
                    0.0015836072415843386,
                    0.0015749590980991628,
                    0.0015670889429550451,
                    0.0015598803840980626,
                    0.0015532220849478256,
                    0.0015470080474851266,
                    0.0015411378719340158,
                    0.0015355169918355247,
                    0.0015300568834073645,
                    0.0015246752481895105,
                    0.0015192961680894849,
                    0.0015138502320626549,
                    0.0015082746337914533,
                    0.0015025132398625504,
                    0.0014965166280815323,
                    0.0014902420957102868,
                    0.0014836536375615707,
                    0.0014767218940376515,
                    0.0014694240693542133,
                    0.0014617438203459612,
                    0.0014536711164054219,
                    0.001445202071260346,
                    0.0014363387474466988,
                    0.001427088934482413,
                    0.0014174659018909251,
                    0.0014074881283618191,
                    0.0013971790084678832,
                    0.0013865665384823842,
                    0.0013756829829567451,
                    0.0013645645238259585,
                    0.0013532508939065628,
                    0.0013417849967388713,
                    0.0013302125148009635,
                    0.0013185815081862156,
                    0.0013069420058882636,
                    0.0012953455918771899,
                    0.0012838449881778637,
                    0.0012724936371758964,
                    0.001261345285378214,
                    0.0012504535708440635,
                    0.0012398716164783734,
                    0.0012296516313428571,
                    0.0012198445220915725,
                    0.0012104995165769254,
                    0.0012016638015998806,
                    0.001193382176694848,
                    0.0011856967257458328,
                    0.0011786465081266317,
                    0.0011722672709446307,
                    0.0011665911838459862,
                    0.0011616465977100907,
                    0.0011574578284242977,
                    0.0011540449667863874,
                    0.0011514237154332725,
                    0.0011496052535405878,
                    0.0011485961298800887,
                    0.0011483981846609566,
                    0.001149008500418145,
                    0.001150419382046626,
                    0.0011526183659157155,
                    0.0011555882578335372,
                    0.0011593071994689113,
                    0.0011637487626775446,
                    0.0011688820710221554,
                    0.001174671947623017,
                    0.0011810790883272407,
                    0.0011880602590426958,
                    0.0011955685159467783,
                    0.0012035534471519377,
                    0.0012119614342898405,
                    0.0012207359323650078,
                    0.001229817766127426,
                    0.0012391454411226134,
                    0.0012486554674976816,
                    0.0012582826945734438,
                    0.0012679606541362606,
                    0.0012776219103593969,
                    0.0012871984142326547,
                    0.0012966218603611857,
                    0.0013058240439898343,
                    0.0013147372161184247,
                    0.0013232944345959049,
                    0.0013314299091172729,
                    0.0013390793380965548,
                    0.001346180235451541,
                    0.0013526722454111119,
                    0.0013584974435434203,
                    0.0013636006223023938,
                    0.0013679295595002213,
                    0.0013714352682341435,
                    0.0013740722269259785,
                    0.0013757985882715217,
                    0.0013765763660433723,
                    0.001376371598843563,
                    0.0013751544900607565,
                    0.001372899523449284
                  ],
                  "yaxis": "y"
                },
                {
                  "legendgroup": "Invierno",
                  "marker": {
                    "color": "rgb(214, 39, 40)"
                  },
                  "mode": "lines",
                  "name": "Invierno",
                  "showlegend": false,
                  "type": "scatter",
                  "x": [
                    26.25,
                    26.360833333333332,
                    26.471666666666668,
                    26.5825,
                    26.693333333333335,
                    26.804166666666667,
                    26.915,
                    27.025833333333335,
                    27.136666666666667,
                    27.2475,
                    27.358333333333334,
                    27.469166666666666,
                    27.58,
                    27.690833333333334,
                    27.801666666666666,
                    27.9125,
                    28.023333333333333,
                    28.134166666666665,
                    28.245,
                    28.355833333333333,
                    28.46666666666667,
                    28.5775,
                    28.688333333333333,
                    28.799166666666668,
                    28.91,
                    29.020833333333332,
                    29.131666666666668,
                    29.2425,
                    29.35333333333333,
                    29.464166666666667,
                    29.575,
                    29.685833333333335,
                    29.796666666666667,
                    29.9075,
                    30.018333333333334,
                    30.129166666666666,
                    30.240000000000002,
                    30.350833333333334,
                    30.461666666666666,
                    30.572499999999998,
                    30.683333333333334,
                    30.79416666666667,
                    30.905,
                    31.015833333333333,
                    31.126666666666665,
                    31.2375,
                    31.348333333333333,
                    31.45916666666667,
                    31.57,
                    31.680833333333332,
                    31.791666666666668,
                    31.9025,
                    32.013333333333335,
                    32.12416666666667,
                    32.235,
                    32.34583333333333,
                    32.45666666666666,
                    32.5675,
                    32.678333333333335,
                    32.78916666666667,
                    32.9,
                    33.01083333333334,
                    33.12166666666667,
                    33.2325,
                    33.343333333333334,
                    33.454166666666666,
                    33.565,
                    33.67583333333334,
                    33.78666666666667,
                    33.8975,
                    34.00833333333333,
                    34.119166666666665,
                    34.230000000000004,
                    34.340833333333336,
                    34.45166666666667,
                    34.5625,
                    34.67333333333333,
                    34.784166666666664,
                    34.894999999999996,
                    35.005833333333335,
                    35.11666666666667,
                    35.2275,
                    35.33833333333334,
                    35.44916666666667,
                    35.56,
                    35.670833333333334,
                    35.781666666666666,
                    35.8925,
                    36.00333333333333,
                    36.11416666666667,
                    36.225,
                    36.33583333333333,
                    36.446666666666665,
                    36.5575,
                    36.66833333333334,
                    36.77916666666667,
                    36.89,
                    37.00083333333333,
                    37.111666666666665,
                    37.222500000000004,
                    37.333333333333336,
                    37.44416666666667,
                    37.555,
                    37.66583333333333,
                    37.77666666666667,
                    37.8875,
                    37.998333333333335,
                    38.10916666666667,
                    38.22,
                    38.33083333333333,
                    38.44166666666667,
                    38.5525,
                    38.663333333333334,
                    38.774166666666666,
                    38.885000000000005,
                    38.99583333333334,
                    39.10666666666667,
                    39.2175,
                    39.32833333333333,
                    39.439166666666665,
                    39.550000000000004,
                    39.660833333333336,
                    39.77166666666667,
                    39.8825,
                    39.99333333333333,
                    40.10416666666667,
                    40.215,
                    40.325833333333335,
                    40.43666666666667,
                    40.5475,
                    40.65833333333333,
                    40.76916666666666,
                    40.88,
                    40.990833333333335,
                    41.10166666666667,
                    41.212500000000006,
                    41.32333333333334,
                    41.43416666666667,
                    41.545,
                    41.655833333333334,
                    41.766666666666666,
                    41.8775,
                    41.98833333333333,
                    42.09916666666667,
                    42.21,
                    42.32083333333333,
                    42.43166666666667,
                    42.542500000000004,
                    42.653333333333336,
                    42.76416666666667,
                    42.875,
                    42.98583333333333,
                    43.096666666666664,
                    43.207499999999996,
                    43.318333333333335,
                    43.42916666666667,
                    43.54,
                    43.65083333333334,
                    43.76166666666667,
                    43.8725,
                    43.983333333333334,
                    44.094166666666666,
                    44.205,
                    44.31583333333334,
                    44.42666666666667,
                    44.5375,
                    44.64833333333334,
                    44.75916666666667,
                    44.870000000000005,
                    44.98083333333334,
                    45.09166666666667,
                    45.2025,
                    45.31333333333333,
                    45.424166666666665,
                    45.535,
                    45.645833333333336,
                    45.75666666666667,
                    45.8675,
                    45.97833333333334,
                    46.08916666666667,
                    46.2,
                    46.310833333333335,
                    46.42166666666667,
                    46.5325,
                    46.64333333333333,
                    46.75416666666666,
                    46.864999999999995,
                    46.975833333333334,
                    47.08666666666667,
                    47.197500000000005,
                    47.30833333333334,
                    47.41916666666667,
                    47.53,
                    47.64083333333333,
                    47.751666666666665,
                    47.862500000000004,
                    47.973333333333336,
                    48.08416666666667,
                    48.19500000000001,
                    48.30583333333334,
                    48.41666666666667,
                    48.5275,
                    48.638333333333335,
                    48.74916666666667,
                    48.86,
                    48.97083333333333,
                    49.08166666666666,
                    49.1925,
                    49.303333333333335,
                    49.41416666666667,
                    49.525000000000006,
                    49.63583333333334,
                    49.74666666666667,
                    49.8575,
                    49.968333333333334,
                    50.079166666666666,
                    50.190000000000005,
                    50.30083333333334,
                    50.41166666666667,
                    50.52250000000001,
                    50.63333333333334,
                    50.74416666666667,
                    50.855000000000004,
                    50.965833333333336,
                    51.07666666666667,
                    51.1875,
                    51.29833333333333,
                    51.409166666666664,
                    51.52,
                    51.630833333333335,
                    51.74166666666667,
                    51.852500000000006,
                    51.96333333333334,
                    52.07416666666667,
                    52.185,
                    52.295833333333334,
                    52.406666666666666,
                    52.517500000000005,
                    52.62833333333334,
                    52.73916666666667,
                    52.85000000000001,
                    52.96083333333334,
                    53.07166666666667,
                    53.182500000000005,
                    53.29333333333334,
                    53.40416666666667,
                    53.515,
                    53.62583333333333,
                    53.736666666666665,
                    53.847500000000004,
                    53.958333333333336,
                    54.06916666666667,
                    54.18000000000001,
                    54.29083333333334,
                    54.40166666666667,
                    54.5125,
                    54.623333333333335,
                    54.73416666666667,
                    54.845,
                    54.95583333333333,
                    55.06666666666666,
                    55.1775,
                    55.288333333333334,
                    55.39916666666667,
                    55.510000000000005,
                    55.62083333333334,
                    55.73166666666667,
                    55.8425,
                    55.95333333333333,
                    56.064166666666665,
                    56.175000000000004,
                    56.285833333333336,
                    56.39666666666667,
                    56.50750000000001,
                    56.61833333333334,
                    56.72916666666667,
                    56.84,
                    56.950833333333335,
                    57.06166666666667,
                    57.1725,
                    57.28333333333333,
                    57.39416666666666,
                    57.505,
                    57.615833333333335,
                    57.72666666666667,
                    57.837500000000006,
                    57.94833333333334,
                    58.05916666666667,
                    58.17,
                    58.280833333333334,
                    58.391666666666666,
                    58.502500000000005,
                    58.61333333333334,
                    58.72416666666667,
                    58.835,
                    58.94583333333333,
                    59.05666666666667,
                    59.1675,
                    59.278333333333336,
                    59.38916666666667,
                    59.5,
                    59.61083333333334,
                    59.72166666666667,
                    59.8325,
                    59.943333333333335,
                    60.054166666666674,
                    60.165,
                    60.27583333333334,
                    60.38666666666667,
                    60.4975,
                    60.608333333333334,
                    60.71916666666667,
                    60.83,
                    60.94083333333334,
                    61.05166666666667,
                    61.1625,
                    61.27333333333333,
                    61.38416666666667,
                    61.495,
                    61.60583333333334,
                    61.71666666666667,
                    61.8275,
                    61.93833333333333,
                    62.04916666666667,
                    62.16,
                    62.270833333333336,
                    62.381666666666675,
                    62.4925,
                    62.60333333333334,
                    62.71416666666667,
                    62.825,
                    62.935833333333335,
                    63.046666666666674,
                    63.1575,
                    63.26833333333334,
                    63.37916666666667,
                    63.49,
                    63.600833333333334,
                    63.71166666666667,
                    63.8225,
                    63.93333333333334,
                    64.04416666666667,
                    64.155,
                    64.26583333333333,
                    64.37666666666667,
                    64.4875,
                    64.59833333333333,
                    64.70916666666668,
                    64.82,
                    64.93083333333334,
                    65.04166666666667,
                    65.1525,
                    65.26333333333334,
                    65.37416666666667,
                    65.485,
                    65.59583333333333,
                    65.70666666666668,
                    65.8175,
                    65.92833333333334,
                    66.03916666666667,
                    66.15,
                    66.26083333333334,
                    66.37166666666667,
                    66.4825,
                    66.59333333333333,
                    66.70416666666668,
                    66.815,
                    66.92583333333334,
                    67.03666666666666,
                    67.14750000000001,
                    67.25833333333333,
                    67.36916666666667,
                    67.47999999999999,
                    67.59083333333334,
                    67.70166666666667,
                    67.8125,
                    67.92333333333335,
                    68.03416666666666,
                    68.14500000000001,
                    68.25583333333333,
                    68.36666666666667,
                    68.47749999999999,
                    68.58833333333334,
                    68.69916666666667,
                    68.81,
                    68.92083333333333,
                    69.03166666666667,
                    69.14250000000001,
                    69.25333333333333,
                    69.36416666666668,
                    69.47500000000001,
                    69.58583333333334,
                    69.69666666666667,
                    69.8075,
                    69.91833333333334,
                    70.02916666666667,
                    70.14000000000001,
                    70.25083333333333,
                    70.36166666666668,
                    70.47250000000001,
                    70.58333333333334,
                    70.69416666666667,
                    70.805,
                    70.91583333333334,
                    71.02666666666667,
                    71.13750000000002,
                    71.24833333333333,
                    71.35916666666668,
                    71.47,
                    71.58083333333335,
                    71.69166666666666,
                    71.80250000000001,
                    71.91333333333333,
                    72.02416666666667,
                    72.135,
                    72.24583333333334,
                    72.35666666666667,
                    72.4675,
                    72.57833333333333,
                    72.68916666666667,
                    72.80000000000001,
                    72.91083333333333,
                    73.02166666666668,
                    73.13250000000001,
                    73.24333333333334,
                    73.35416666666667,
                    73.465,
                    73.57583333333334,
                    73.68666666666667,
                    73.79750000000001,
                    73.90833333333333,
                    74.01916666666668,
                    74.13000000000001,
                    74.24083333333334,
                    74.35166666666667,
                    74.4625,
                    74.57333333333334,
                    74.68416666666667,
                    74.79500000000002,
                    74.90583333333333,
                    75.01666666666668,
                    75.1275,
                    75.23833333333334,
                    75.34916666666666,
                    75.46000000000001,
                    75.57083333333333,
                    75.68166666666667,
                    75.7925,
                    75.90333333333334,
                    76.01416666666667,
                    76.125,
                    76.23583333333335,
                    76.34666666666666,
                    76.45750000000001,
                    76.56833333333333,
                    76.67916666666667,
                    76.79,
                    76.90083333333334,
                    77.01166666666667,
                    77.1225,
                    77.23333333333333,
                    77.34416666666667,
                    77.45500000000001,
                    77.56583333333333,
                    77.67666666666668,
                    77.78750000000001,
                    77.89833333333334,
                    78.00916666666667,
                    78.12,
                    78.23083333333334,
                    78.34166666666667,
                    78.45250000000001,
                    78.56333333333333,
                    78.67416666666668,
                    78.78500000000001,
                    78.89583333333334,
                    79.00666666666667,
                    79.1175,
                    79.22833333333334,
                    79.33916666666667,
                    79.45000000000002,
                    79.56083333333333,
                    79.67166666666668,
                    79.7825,
                    79.89333333333335,
                    80.00416666666666,
                    80.11500000000001,
                    80.22583333333333,
                    80.33666666666667,
                    80.4475,
                    80.55833333333334,
                    80.66916666666667,
                    80.78,
                    80.89083333333333,
                    81.00166666666667,
                    81.11250000000001,
                    81.22333333333333,
                    81.33416666666668,
                    81.44500000000001,
                    81.55583333333334
                  ],
                  "xaxis": "x",
                  "y": [
                    0.004674236858530091,
                    0.004811478676273341,
                    0.00495184429452358,
                    0.005095396517070851,
                    0.005242199064648432,
                    0.005392316471578293,
                    0.0055458139719986995,
                    0.005702757375702209,
                    0.005863212933666468,
                    0.006027247193415561,
                    0.006194926844406251,
                    0.0063663185536906985,
                    0.00654148879216519,
                    0.006720503651772137,
                    0.00690342865408035,
                    0.007090328550725951,
                    0.007281267116251935,
                    0.007476306933939876,
                    0.00767550917527986,
                    0.00787893337377603,
                    0.008086637193833799,
                    0.008298676195520169,
                    0.008515103596031703,
                    0.008735970028743007,
                    0.008961323300744183,
                    0.009191208149806339,
                    0.00942566600174053,
                    0.009664734729137047,
                    0.009908448412488407,
                    0.010156837104710362,
                    0.010409926600080967,
                    0.01066773820861769,
                    0.010930288536906474,
                    0.011197589276385105,
                    0.011469647000065296,
                    0.01174646296865443,
                    0.012028032947008169,
                    0.01231434703180967,
                    0.012605389491330094,
                    0.01290113861807817,
                    0.013201566595094564,
                    0.013506639376589845,
                    0.01381631658356226,
                    0.014130551414965728,
                    0.014449290574927423,
                    0.014772474216440252,
                    0.015100035901878259,
                    0.01543190258060241,
                    0.01576799458384198,
                    0.016108225636952966,
                    0.016452502889068892,
                    0.01680072696007439,
                    0.017152792004745673,
                    0.017508585793816877,
                    0.017867989811647535,
                    0.018230879370084028,
                    0.018597123738028295,
                    0.018966586286150538,
                    0.019339124646108843,
                    0.019714590883570828,
                    0.02009283168426613,
                    0.02047368855224137,
                    0.02085699801943319,
                    0.021242591865629254,
                    0.021630297347843892,
                    0.0220199374381009,
                    0.02241133106858816,
                    0.022804293383127866,
                    0.023198635993891555,
                    0.023594167242285188,
                    0.02399069246292783,
                    0.02438801424965905,
                    0.024785932722523888,
                    0.02518424579470863,
                    0.02558274943843094,
                    0.025981237948823586,
                    0.026379504204896338,
                    0.026777339926708516,
                    0.027174535927940453,
                    0.02757088236311316,
                    0.027966168968769453,
                    0.028360185298000662,
                    0.028752720947774715,
                    0.02914356577859824,
                    0.02953251012612393,
                    0.029919345004393832,
                    0.030303862300491795,
                    0.030685854960458846,
                    0.031065117166407932,
                    0.03144144450485476,
                    0.03181463412636029,
                    0.03218448489665848,
                    0.03255079753951622,
                    0.0329133747716433,
                    0.03327202143003823,
                    0.03362654459221665,
                    0.03397675368982796,
                    0.034322460616217076,
                    0.034663479828534315,
                    0.034999628445037886,
                    0.03533072633826478,
                    0.03565659622477531,
                    0.03597706375219438,
                    0.0362919575842869,
                    0.03660110948480976,
                    0.03690435440088165,
                    0.037201530546603495,
                    0.03749247948764701,
                    0.03777704622750458,
                    0.03805507929606797,
                    0.03832643084116342,
                    0.0385909567236316,
                    0.03884851661649263,
                    0.039098974108681364,
                    0.039342196813782176,
                    0.03957805648412713,
                    0.039806429130555564,
                    0.04002719514806174,
                    0.04024023944748234,
                    0.040445451593300104,
                    0.04064272594756007,
                    0.040831961819814355,
                    0.041013063622931105,
                    0.04118594103451991,
                    0.04135050916364589,
                    0.04150668872242245,
                    0.0416544062019937,
                    0.04179359405233956,
                    0.04192419086526088,
                    0.04204614155982837,
                    0.04215939756951117,
                    0.042263917030132984,
                    0.042359664967743176,
                    0.042446613485432556,
                    0.04252474194807096,
                    0.04259403716389665,
                    0.04265449356184522,
                    0.042706113363470834,
                    0.04274890674828082,
                    0.042782892011282686,
                    0.042808095711523275,
                    0.0428245528103903,
                    0.04283230679844128,
                    0.04283140980952741,
                    0.042821922720989156,
                    0.042803915238716156,
                    0.04277746596588646,
                    0.04274266245423021,
                    0.04269960123669816,
                    0.042648387840458844,
                    0.042589136779197415,
                    0.042521971523744616,
                    0.042447024450126644,
                    0.04236443676419467,
                    0.042274358402067,
                    0.042176947905696274,
                    0.042072372272959804,
                    0.041960806781761575,
                    0.0418424347877299,
                    0.04171744749519499,
                    0.04158604370123599,
                    0.04144842951269498,
                    0.041304818036168624,
                    0.04115542904110435,
                    0.04100048859624649,
                    0.040840228679799494,
                    0.04067488676380003,
                    0.04050470537331425,
                    0.04032993162120403,
                    0.04015081671933364,
                    0.039967615467216,
                    0.03978058571922521,
                    0.03958998783162901,
                    0.03939608409082001,
                    0.03919913812424727,
                    0.03899941429567105,
                    0.03879717708648014,
                    0.038592690464923946,
                    0.03838621724522067,
                    0.03817801843860517,
                    0.03796835259847705,
                    0.03775747516189924,
                    0.037545637789780636,
                    0.03733308770814906,
                    0.03712006705298709,
                    0.03690681222115876,
                    0.03669355322999987,
                    0.03648051308817937,
                    0.036267907180461884,
                    0.036055942669012936,
                    0.035844817913884344,
                    0.035634721915305693,
                    0.03542583378037538,
                    0.03521832221670554,
                    0.03501234505551698,
                    0.034808048806609475,
                    0.034605568247548395,
                    0.03440502604930794,
                    0.03420653244049778,
                    0.034010184912171094,
                    0.03381606796506969,
                    0.03362425290100616,
                    0.03343479765991388,
                    0.033247746703913124,
                    0.03306313094954976,
                    0.03288096774915635,
                    0.03270126092207201,
                    0.032524000836233226,
                    0.0323491645404149,
                    0.03217671594716316,
                    0.03200660606621603,
                    0.03183877328795945,
                    0.03167314371621505,
                    0.03150963154940251,
                    0.03134813950886734,
                    0.031188559312913772,
                    0.03103077219483549,
                    0.030874649462994976,
                    0.030720053100766437,
                    0.030566836403931305,
                    0.030414844652898308,
                    0.030263915816914715,
                    0.03011388128724495,
                    0.029964566636114465,
                    0.029815792398057293,
                    0.029667374870161835,
                    0.029519126927585272,
                    0.029370858850603008,
                    0.02922237915937464,
                    0.02907349545254783,
                    0.028924015245780265,
                    0.02877374680624477,
                    0.028622499979188885,
                    0.02847008700265047,
                    0.028316323306486244,
                    0.028161028291946503,
                    0.02800402608813111,
                    0.027845146281785416,
                    0.027684224617040166,
                    0.027521103661866924,
                    0.027355633438207825,
                    0.027187672012944475,
                    0.027017086047095445,
                    0.026843751300872066,
                    0.026667553092477467,
                    0.02648838670880205,
                    0.026306157766447905,
                    0.02612078252180344,
                    0.025932188129185043,
                    0.025740312846364025,
                    0.02554510618710145,
                    0.025346529020617282,
                    0.025144553618226276,
                    0.024939163647671417,
                    0.024730354115982546,
                    0.024518131261974465,
                    0.024302512399776915,
                    0.0240835257150565,
                    0.023861210015842464,
                    0.023635614440107835,
                    0.023406798122478947,
                    0.023174829822649616,
                    0.022939787518261576,
                    0.02270175796517547,
                    0.022460836228200252,
                    0.022217125185468117,
                    0.021970735009739548,
                    0.02172178262999673,
                    0.021470391176734095,
                    0.021216689414380402,
                    0.020960811164290976,
                    0.020702894721727073,
                    0.02044308227019731,
                    0.02018151929647046,
                    0.019918354009482744,
                    0.019653736766255932,
                    0.01938781950781704,
                    0.01912075520796681,
                    0.01885269733758409,
                    0.018583799346977885,
                    0.01831421416861165,
                    0.01804409374232305,
                    0.01777358856495371,
                    0.017502847266085003,
                    0.017232016211351345,
                    0.016961239134574767,
                    0.01669065679973212,
                    0.0164204066935344,
                    0.016150622749167665,
                    0.015881435101514383,
                    0.015612969873952507,
                    0.01534534899660986,
                    0.01507869005574172,
                    0.01481310617369812,
                    0.014548705918755714,
                    0.014285593243910115,
                    0.014023867453556441,
                    0.013763623196833264,
                    0.013504950486264863,
                    0.013247934740213015,
                    0.012992656847540012,
                    0.012739193252792092,
                    0.012487616060135322,
                    0.012237993154215192,
                    0.011990388336066922,
                    0.0117448614721748,
                    0.011501468654766176,
                    0.011260262371427864,
                    0.011021291682151237,
                    0.010784602401941566,
                    0.010550237287174356,
                    0.01031823622393697,
                    0.010088636416663826,
                    0.009861472575452774,
                    0.009636777100540207,
                    0.00941458026250953,
                    0.009194910376914256,
                    0.008977793972107755,
                    0.008763255949189972,
                    0.008551319733101028,
                    0.008342007414017387,
                    0.008135339878330884,
                    0.007931336928617784,
                    0.007730017392131758,
                    0.00753139921747876,
                    0.007335499559254267,
                    0.007142334850543622,
                    0.006951920863299248,
                    0.006764272756720574,
                    0.00657940511386594,
                    0.006397331966823767,
                    0.006218066810862696,
                    0.006041622608063166,
                    0.005868011781010333,
                    0.005697246197195574,
                    0.00552933714483482,
                    0.0053642953008625986,
                    0.005202130691904359,
                    0.005042852649064012,
                    0.004886469757389602,
                    0.004732989800897596,
                    0.004582419704046704,
                    0.004434765470552373,
                    0.0042900321204288805,
                    0.004148223626131604,
                    0.004009342848652772,
                    0.0038733914743977124,
                    0.003740369953636102,
                    0.0036102774412858037,
                    0.003483111740743485,
                    0.0033588692514308948,
                    0.003237544920673528,
                    0.0031191322004760352,
                    0.003003623009701683,
                    0.002891007702104735,
                    0.002781275040604767,
                    0.0026744121781307703,
                    0.002570404645301438,
                    0.002469236345145894,
                    0.0023708895550092037,
                    0.0022753449357252585,
                    0.002182581548081855,
                    0.0020925768765451508,
                    0.002005306860155537,
                    0.001920745930454042,
                    0.0018388670562486757,
                    0.0017596417949824559,
                    0.0016830403504208631,
                    0.001609031636335931,
                    0.0015375833458262113,
                    0.001468662025878901,
                    0.0014022331567489887,
                    0.0013382612357052165,
                    0.0012767098646683538,
                    0.0012175418412492874,
                    0.0011607192526780414,
                    0.0011062035721034849,
                    0.0010539557567347051,
                    0.001003936347289845,
                    0.0009561055682169708,
                    0.0009104234281520434,
                    0.0008668498200841716,
                    0.0008253446207048391,
                    0.0007858677884281948,
                    0.000748379459581129,
                    0.0007128400422771309,
                    0.0006792103075041935,
                    0.0006474514769758646,
                    0.0006175253073151352,
                    0.0005893941701626247,
                    0.0005630211278244202,
                    0.0005383700040991471,
                    0.0005154054499502472,
                    0.0004940930037158174,
                    0.0004743991455761369,
                    0.0004562913460272843,
                    0.00043973810813798144,
                    0.00042470900339604815,
                    0.0004111747009803829,
                    0.0003991069903241724,
                    0.00038847879686476584,
                    0.0003792641909056648,
                    0.00037143838954585123,
                    0.00036497775166140277,
                    0.00035985976595388547,
                    0.0003560630321093217,
                    0.00035356723514052223,
                    0.00035235311301420327,
                    0.00035240241769261366,
                    0.0003536978697471496,
                    0.00035622310672880225,
                    0.0003599626255070538,
                    0.00036490171881503467,
                    0.0003710264062643504,
                    0.00037832336011785867,
                    0.0003867798261328581,
                    0.0003963835398104916,
                    0.00040712263840971284,
                    0.0004189855691057214,
                    0.0004319609936934133,
                    0.0004460376902559007,
                    0.00046120445223658466,
                    0.0004774499853704292,
                    0.0004947628029458603,
                    0.000513131119883351,
                    0.0005325427461294568,
                    0.0005529849798765887,
                    0.0005744445011284187,
                    0.000596907266138581,
                    0.0006203584032563774,
                    0.0006447821107170994,
                    0.0006701615569164572,
                    0.0006964787837081782,
                    0.0007237146132614194,
                    0.0007518485590094985,
                    0.0007808587412141159,
                    0.0008107218076593725,
                    0.0008414128599774675,
                    0.0008729053860928373,
                    0.0009051711992539001,
                    0.000938180384101437,
                    0.0009719012501992715,
                    0.0010063002934279962,
                    0.001041342165613637,
                    0.0010769896527332218,
                    0.0011132036620052847,
                    0.0011499432181385427,
                    0.0011871654689735798,
                    0.0012248257007128832,
                    0.0012628773628922442,
                    0.0013012721032031245,
                    0.001339959812229839,
                    0.0013788886781187673,
                    0.001418005251148681,
                    0.0014572545181220514,
                    0.0014965799864477384,
                    0.001535923777734725,
                    0.0015752267306667611,
                    0.0016144285128767695,
                    0.0016534677414904617,
                    0.0016922821119592052,
                    0.0017308085347539149,
                    0.0017689832794450836,
                    0.0018067421256486116,
                    0.0018440205202741972,
                    0.0018807537404714914,
                    0.0019168770616313927,
                    0.001952325929763804,
                    0.0019870361375407893,
                    0.0020209440032649983,
                    0.002053986551997678,
                    0.002086101698058764,
                    0.0021172284280940343,
                    0.0021473069838908376,
                    0.002176279044114517,
                    0.0022040879041334673,
                    0.0022306786531002165,
                    0.0022559983474608114,
                    0.002279996180073789,
                    0.0023026236441339686,
                    0.0023238346911148397,
                    0.0023435858819662123,
                    0.002361836530831555,
                    0.0023785488405810734,
                    0.002393688029492837,
                    0.0024072224484540687,
                    0.002419123688098732,
                    0.002429366675344642,
                    0.0024379297588440468,
                    0.002444794782914998,
                    0.0024499471495770383,
                    0.002453375868373058,
                    0.002455073593719544,
                    0.0024550366495893093,
                    0.0024532650413938146,
                    0.0024497624549960103,
                    0.0024445362428488363,
                    0.0024375973973186182,
                    0.002428960511316408,
                    0.00241864372642309
                  ],
                  "yaxis": "y"
                },
                {
                  "legendgroup": "Verano",
                  "marker": {
                    "color": "rgb(31, 119, 180)",
                    "symbol": "line-ns-open"
                  },
                  "mode": "markers",
                  "name": "Verano",
                  "showlegend": false,
                  "type": "scatter",
                  "x": [
                    36.2,
                    31,
                    44.8,
                    48.6,
                    59.4,
                    41,
                    49.6,
                    39.8,
                    47.666666666666664,
                    43,
                    46.666666666666664,
                    43.333333333333336,
                    38.333333333333336,
                    39.666666666666664,
                    47.44444444444445,
                    35.4,
                    38.5,
                    47.8,
                    43.8,
                    48.2,
                    41.2,
                    45.2,
                    40,
                    33.25,
                    38.75,
                    43,
                    54.25,
                    53.5,
                    40.75,
                    55,
                    43,
                    40.25,
                    42.5,
                    42,
                    53,
                    62.75,
                    49.5,
                    49.75,
                    38.666666666666664,
                    53.94444444444445,
                    50.55555555555555,
                    64.33333333333333,
                    81.66666666666667,
                    45,
                    46.666666666666664,
                    43.666666666666664,
                    30,
                    36,
                    48,
                    41,
                    44,
                    41,
                    51,
                    35,
                    41.5,
                    42.25,
                    55,
                    47.75,
                    43,
                    39,
                    42.333333333333336,
                    38.5,
                    28.88888888888889,
                    36.111111111111114,
                    41.666666666666664,
                    55.111111111111114,
                    57.666666666666664,
                    38.888888888888886,
                    45.666666666666664,
                    39.666666666666664,
                    38,
                    38,
                    49.666666666666664,
                    42.333333333333336,
                    43.666666666666664,
                    41.333333333333336,
                    39.333333333333336,
                    34.666666666666664
                  ],
                  "xaxis": "x",
                  "y": [
                    "Verano",
                    "Verano",
                    "Verano",
                    "Verano",
                    "Verano",
                    "Verano",
                    "Verano",
                    "Verano",
                    "Verano",
                    "Verano",
                    "Verano",
                    "Verano",
                    "Verano",
                    "Verano",
                    "Verano",
                    "Verano",
                    "Verano",
                    "Verano",
                    "Verano",
                    "Verano",
                    "Verano",
                    "Verano",
                    "Verano",
                    "Verano",
                    "Verano",
                    "Verano",
                    "Verano",
                    "Verano",
                    "Verano",
                    "Verano",
                    "Verano",
                    "Verano",
                    "Verano",
                    "Verano",
                    "Verano",
                    "Verano",
                    "Verano",
                    "Verano",
                    "Verano",
                    "Verano",
                    "Verano",
                    "Verano",
                    "Verano",
                    "Verano",
                    "Verano",
                    "Verano",
                    "Verano",
                    "Verano",
                    "Verano",
                    "Verano",
                    "Verano",
                    "Verano",
                    "Verano",
                    "Verano",
                    "Verano",
                    "Verano",
                    "Verano",
                    "Verano",
                    "Verano",
                    "Verano",
                    "Verano",
                    "Verano",
                    "Verano",
                    "Verano",
                    "Verano",
                    "Verano",
                    "Verano",
                    "Verano",
                    "Verano",
                    "Verano",
                    "Verano",
                    "Verano",
                    "Verano",
                    "Verano",
                    "Verano",
                    "Verano",
                    "Verano",
                    "Verano"
                  ],
                  "yaxis": "y2"
                },
                {
                  "legendgroup": "Primavera",
                  "marker": {
                    "color": "rgb(255, 127, 14)",
                    "symbol": "line-ns-open"
                  },
                  "mode": "markers",
                  "name": "Primavera",
                  "showlegend": false,
                  "type": "scatter",
                  "x": [
                    27.4,
                    40.6,
                    55.6,
                    42.2,
                    48.2,
                    47.2,
                    44.4,
                    39.8,
                    47.666666666666664,
                    44.333333333333336,
                    50.333333333333336,
                    41.666666666666664,
                    57.333333333333336,
                    41.333333333333336,
                    39.666666666666664,
                    38.46666666666667,
                    41.4,
                    48.2,
                    37.4,
                    48.2,
                    42.8,
                    40.4,
                    41,
                    33.5,
                    35.25,
                    40.5,
                    40.5,
                    52.75,
                    44.25,
                    45.625,
                    43,
                    45.25,
                    49.25,
                    63.5,
                    53.75,
                    55.75,
                    55,
                    42.5,
                    37.666666666666664,
                    50.5,
                    49.333333333333336,
                    37.333333333333336,
                    81.66666666666667,
                    50.666666666666664,
                    46.333333333333336,
                    43.666666666666664,
                    35,
                    40,
                    38,
                    40,
                    45,
                    51,
                    58,
                    35,
                    33.25,
                    39,
                    46,
                    44.75,
                    44,
                    47,
                    50,
                    38.5,
                    20.88888888888889,
                    39.111111111111114,
                    49.22222222222222,
                    46.22222222222222,
                    51.22222222222222,
                    43.111111111111114,
                    50.22222222222222,
                    39.666666666666664,
                    39.666666666666664,
                    36.666666666666664,
                    43.333333333333336,
                    44,
                    43.666666666666664,
                    42.666666666666664,
                    52.666666666666664,
                    34.666666666666664
                  ],
                  "xaxis": "x",
                  "y": [
                    "Primavera",
                    "Primavera",
                    "Primavera",
                    "Primavera",
                    "Primavera",
                    "Primavera",
                    "Primavera",
                    "Primavera",
                    "Primavera",
                    "Primavera",
                    "Primavera",
                    "Primavera",
                    "Primavera",
                    "Primavera",
                    "Primavera",
                    "Primavera",
                    "Primavera",
                    "Primavera",
                    "Primavera",
                    "Primavera",
                    "Primavera",
                    "Primavera",
                    "Primavera",
                    "Primavera",
                    "Primavera",
                    "Primavera",
                    "Primavera",
                    "Primavera",
                    "Primavera",
                    "Primavera",
                    "Primavera",
                    "Primavera",
                    "Primavera",
                    "Primavera",
                    "Primavera",
                    "Primavera",
                    "Primavera",
                    "Primavera",
                    "Primavera",
                    "Primavera",
                    "Primavera",
                    "Primavera",
                    "Primavera",
                    "Primavera",
                    "Primavera",
                    "Primavera",
                    "Primavera",
                    "Primavera",
                    "Primavera",
                    "Primavera",
                    "Primavera",
                    "Primavera",
                    "Primavera",
                    "Primavera",
                    "Primavera",
                    "Primavera",
                    "Primavera",
                    "Primavera",
                    "Primavera",
                    "Primavera",
                    "Primavera",
                    "Primavera",
                    "Primavera",
                    "Primavera",
                    "Primavera",
                    "Primavera",
                    "Primavera",
                    "Primavera",
                    "Primavera",
                    "Primavera",
                    "Primavera",
                    "Primavera",
                    "Primavera",
                    "Primavera",
                    "Primavera",
                    "Primavera",
                    "Primavera",
                    "Primavera"
                  ],
                  "yaxis": "y2"
                },
                {
                  "legendgroup": "Otoño",
                  "marker": {
                    "color": "rgb(44, 160, 44)",
                    "symbol": "line-ns-open"
                  },
                  "mode": "markers",
                  "name": "Otoño",
                  "showlegend": false,
                  "type": "scatter",
                  "x": [
                    33.4,
                    29,
                    48.4,
                    40.4,
                    53.8,
                    40,
                    37,
                    39.8,
                    58.333333333333336,
                    36.666666666666664,
                    55,
                    49.333333333333336,
                    47.833333333333336,
                    42.333333333333336,
                    37.333333333333336,
                    35.4,
                    48.4,
                    54.2,
                    49.2,
                    48.2,
                    41,
                    46.8,
                    51,
                    36.5,
                    49,
                    45.5,
                    41.75,
                    53.125,
                    42.416666666666664,
                    41.5,
                    43,
                    56.75,
                    58.25,
                    62.5,
                    56.75,
                    59.25,
                    60,
                    54.5,
                    20,
                    71.66666666666667,
                    50.666666666666664,
                    46,
                    81.66666666666667,
                    45.333333333333336,
                    43.333333333333336,
                    43.666666666666664,
                    40,
                    36,
                    53,
                    37,
                    44.5,
                    46,
                    39,
                    35,
                    59.75,
                    48,
                    50.5,
                    51.25,
                    43.5,
                    40.666666666666664,
                    44.666666666666664,
                    38.5,
                    52.666666666666664,
                    38.888888888888886,
                    53.666666666666664,
                    48.666666666666664,
                    54.44444444444444,
                    42.111111111111114,
                    45.666666666666664,
                    39.666666666666664,
                    46.333333333333336,
                    48,
                    47,
                    40.666666666666664,
                    43.666666666666664,
                    42.44444444444445,
                    41.666666666666664,
                    34.666666666666664
                  ],
                  "xaxis": "x",
                  "y": [
                    "Otoño",
                    "Otoño",
                    "Otoño",
                    "Otoño",
                    "Otoño",
                    "Otoño",
                    "Otoño",
                    "Otoño",
                    "Otoño",
                    "Otoño",
                    "Otoño",
                    "Otoño",
                    "Otoño",
                    "Otoño",
                    "Otoño",
                    "Otoño",
                    "Otoño",
                    "Otoño",
                    "Otoño",
                    "Otoño",
                    "Otoño",
                    "Otoño",
                    "Otoño",
                    "Otoño",
                    "Otoño",
                    "Otoño",
                    "Otoño",
                    "Otoño",
                    "Otoño",
                    "Otoño",
                    "Otoño",
                    "Otoño",
                    "Otoño",
                    "Otoño",
                    "Otoño",
                    "Otoño",
                    "Otoño",
                    "Otoño",
                    "Otoño",
                    "Otoño",
                    "Otoño",
                    "Otoño",
                    "Otoño",
                    "Otoño",
                    "Otoño",
                    "Otoño",
                    "Otoño",
                    "Otoño",
                    "Otoño",
                    "Otoño",
                    "Otoño",
                    "Otoño",
                    "Otoño",
                    "Otoño",
                    "Otoño",
                    "Otoño",
                    "Otoño",
                    "Otoño",
                    "Otoño",
                    "Otoño",
                    "Otoño",
                    "Otoño",
                    "Otoño",
                    "Otoño",
                    "Otoño",
                    "Otoño",
                    "Otoño",
                    "Otoño",
                    "Otoño",
                    "Otoño",
                    "Otoño",
                    "Otoño",
                    "Otoño",
                    "Otoño",
                    "Otoño",
                    "Otoño",
                    "Otoño",
                    "Otoño"
                  ],
                  "yaxis": "y2"
                },
                {
                  "legendgroup": "Invierno",
                  "marker": {
                    "color": "rgb(214, 39, 40)",
                    "symbol": "line-ns-open"
                  },
                  "mode": "markers",
                  "name": "Invierno",
                  "showlegend": false,
                  "type": "scatter",
                  "x": [
                    36,
                    40.6,
                    61.6,
                    54.4,
                    53.8,
                    44.2,
                    37,
                    39.8,
                    54,
                    46.333333333333336,
                    47.333333333333336,
                    45,
                    47.833333333333336,
                    49.666666666666664,
                    34.666666666666664,
                    42,
                    42.766666666666666,
                    40,
                    39.4,
                    48.2,
                    39,
                    36.4,
                    42,
                    34.5,
                    53.5,
                    43,
                    30.5,
                    53.125,
                    42.25,
                    40.375,
                    43,
                    80,
                    58.75,
                    54.25,
                    50.5,
                    59.25,
                    61.25,
                    41.25,
                    47.333333333333336,
                    56.333333333333336,
                    51.666666666666664,
                    52,
                    81.66666666666667,
                    53.333333333333336,
                    37,
                    43.666666666666664,
                    35,
                    32,
                    53,
                    42,
                    44.5,
                    46,
                    34,
                    35,
                    26.25,
                    58.5,
                    48.75,
                    46.25,
                    43.5,
                    45,
                    45.666666666666664,
                    38.5,
                    29.333333333333332,
                    37.666666666666664,
                    54.44444444444444,
                    53.77777777777778,
                    54.44444444444444,
                    49.77777777777778,
                    41.44444444444444,
                    39.666666666666664,
                    37.333333333333336,
                    37.333333333333336,
                    43.666666666666664,
                    40,
                    43.666666666666664,
                    47,
                    39,
                    34.666666666666664
                  ],
                  "xaxis": "x",
                  "y": [
                    "Invierno",
                    "Invierno",
                    "Invierno",
                    "Invierno",
                    "Invierno",
                    "Invierno",
                    "Invierno",
                    "Invierno",
                    "Invierno",
                    "Invierno",
                    "Invierno",
                    "Invierno",
                    "Invierno",
                    "Invierno",
                    "Invierno",
                    "Invierno",
                    "Invierno",
                    "Invierno",
                    "Invierno",
                    "Invierno",
                    "Invierno",
                    "Invierno",
                    "Invierno",
                    "Invierno",
                    "Invierno",
                    "Invierno",
                    "Invierno",
                    "Invierno",
                    "Invierno",
                    "Invierno",
                    "Invierno",
                    "Invierno",
                    "Invierno",
                    "Invierno",
                    "Invierno",
                    "Invierno",
                    "Invierno",
                    "Invierno",
                    "Invierno",
                    "Invierno",
                    "Invierno",
                    "Invierno",
                    "Invierno",
                    "Invierno",
                    "Invierno",
                    "Invierno",
                    "Invierno",
                    "Invierno",
                    "Invierno",
                    "Invierno",
                    "Invierno",
                    "Invierno",
                    "Invierno",
                    "Invierno",
                    "Invierno",
                    "Invierno",
                    "Invierno",
                    "Invierno",
                    "Invierno",
                    "Invierno",
                    "Invierno",
                    "Invierno",
                    "Invierno",
                    "Invierno",
                    "Invierno",
                    "Invierno",
                    "Invierno",
                    "Invierno",
                    "Invierno",
                    "Invierno",
                    "Invierno",
                    "Invierno",
                    "Invierno",
                    "Invierno",
                    "Invierno",
                    "Invierno",
                    "Invierno",
                    "Invierno"
                  ],
                  "yaxis": "y2"
                }
              ],
              "layout": {
                "barmode": "overlay",
                "hovermode": "closest",
                "legend": {
                  "traceorder": "reversed"
                },
                "template": {
                  "data": {
                    "bar": [
                      {
                        "error_x": {
                          "color": "#2a3f5f"
                        },
                        "error_y": {
                          "color": "#2a3f5f"
                        },
                        "marker": {
                          "line": {
                            "color": "#E5ECF6",
                            "width": 0.5
                          },
                          "pattern": {
                            "fillmode": "overlay",
                            "size": 10,
                            "solidity": 0.2
                          }
                        },
                        "type": "bar"
                      }
                    ],
                    "barpolar": [
                      {
                        "marker": {
                          "line": {
                            "color": "#E5ECF6",
                            "width": 0.5
                          },
                          "pattern": {
                            "fillmode": "overlay",
                            "size": 10,
                            "solidity": 0.2
                          }
                        },
                        "type": "barpolar"
                      }
                    ],
                    "carpet": [
                      {
                        "aaxis": {
                          "endlinecolor": "#2a3f5f",
                          "gridcolor": "white",
                          "linecolor": "white",
                          "minorgridcolor": "white",
                          "startlinecolor": "#2a3f5f"
                        },
                        "baxis": {
                          "endlinecolor": "#2a3f5f",
                          "gridcolor": "white",
                          "linecolor": "white",
                          "minorgridcolor": "white",
                          "startlinecolor": "#2a3f5f"
                        },
                        "type": "carpet"
                      }
                    ],
                    "choropleth": [
                      {
                        "colorbar": {
                          "outlinewidth": 0,
                          "ticks": ""
                        },
                        "type": "choropleth"
                      }
                    ],
                    "contour": [
                      {
                        "colorbar": {
                          "outlinewidth": 0,
                          "ticks": ""
                        },
                        "colorscale": [
                          [
                            0,
                            "#0d0887"
                          ],
                          [
                            0.1111111111111111,
                            "#46039f"
                          ],
                          [
                            0.2222222222222222,
                            "#7201a8"
                          ],
                          [
                            0.3333333333333333,
                            "#9c179e"
                          ],
                          [
                            0.4444444444444444,
                            "#bd3786"
                          ],
                          [
                            0.5555555555555556,
                            "#d8576b"
                          ],
                          [
                            0.6666666666666666,
                            "#ed7953"
                          ],
                          [
                            0.7777777777777778,
                            "#fb9f3a"
                          ],
                          [
                            0.8888888888888888,
                            "#fdca26"
                          ],
                          [
                            1,
                            "#f0f921"
                          ]
                        ],
                        "type": "contour"
                      }
                    ],
                    "contourcarpet": [
                      {
                        "colorbar": {
                          "outlinewidth": 0,
                          "ticks": ""
                        },
                        "type": "contourcarpet"
                      }
                    ],
                    "heatmap": [
                      {
                        "colorbar": {
                          "outlinewidth": 0,
                          "ticks": ""
                        },
                        "colorscale": [
                          [
                            0,
                            "#0d0887"
                          ],
                          [
                            0.1111111111111111,
                            "#46039f"
                          ],
                          [
                            0.2222222222222222,
                            "#7201a8"
                          ],
                          [
                            0.3333333333333333,
                            "#9c179e"
                          ],
                          [
                            0.4444444444444444,
                            "#bd3786"
                          ],
                          [
                            0.5555555555555556,
                            "#d8576b"
                          ],
                          [
                            0.6666666666666666,
                            "#ed7953"
                          ],
                          [
                            0.7777777777777778,
                            "#fb9f3a"
                          ],
                          [
                            0.8888888888888888,
                            "#fdca26"
                          ],
                          [
                            1,
                            "#f0f921"
                          ]
                        ],
                        "type": "heatmap"
                      }
                    ],
                    "heatmapgl": [
                      {
                        "colorbar": {
                          "outlinewidth": 0,
                          "ticks": ""
                        },
                        "colorscale": [
                          [
                            0,
                            "#0d0887"
                          ],
                          [
                            0.1111111111111111,
                            "#46039f"
                          ],
                          [
                            0.2222222222222222,
                            "#7201a8"
                          ],
                          [
                            0.3333333333333333,
                            "#9c179e"
                          ],
                          [
                            0.4444444444444444,
                            "#bd3786"
                          ],
                          [
                            0.5555555555555556,
                            "#d8576b"
                          ],
                          [
                            0.6666666666666666,
                            "#ed7953"
                          ],
                          [
                            0.7777777777777778,
                            "#fb9f3a"
                          ],
                          [
                            0.8888888888888888,
                            "#fdca26"
                          ],
                          [
                            1,
                            "#f0f921"
                          ]
                        ],
                        "type": "heatmapgl"
                      }
                    ],
                    "histogram": [
                      {
                        "marker": {
                          "pattern": {
                            "fillmode": "overlay",
                            "size": 10,
                            "solidity": 0.2
                          }
                        },
                        "type": "histogram"
                      }
                    ],
                    "histogram2d": [
                      {
                        "colorbar": {
                          "outlinewidth": 0,
                          "ticks": ""
                        },
                        "colorscale": [
                          [
                            0,
                            "#0d0887"
                          ],
                          [
                            0.1111111111111111,
                            "#46039f"
                          ],
                          [
                            0.2222222222222222,
                            "#7201a8"
                          ],
                          [
                            0.3333333333333333,
                            "#9c179e"
                          ],
                          [
                            0.4444444444444444,
                            "#bd3786"
                          ],
                          [
                            0.5555555555555556,
                            "#d8576b"
                          ],
                          [
                            0.6666666666666666,
                            "#ed7953"
                          ],
                          [
                            0.7777777777777778,
                            "#fb9f3a"
                          ],
                          [
                            0.8888888888888888,
                            "#fdca26"
                          ],
                          [
                            1,
                            "#f0f921"
                          ]
                        ],
                        "type": "histogram2d"
                      }
                    ],
                    "histogram2dcontour": [
                      {
                        "colorbar": {
                          "outlinewidth": 0,
                          "ticks": ""
                        },
                        "colorscale": [
                          [
                            0,
                            "#0d0887"
                          ],
                          [
                            0.1111111111111111,
                            "#46039f"
                          ],
                          [
                            0.2222222222222222,
                            "#7201a8"
                          ],
                          [
                            0.3333333333333333,
                            "#9c179e"
                          ],
                          [
                            0.4444444444444444,
                            "#bd3786"
                          ],
                          [
                            0.5555555555555556,
                            "#d8576b"
                          ],
                          [
                            0.6666666666666666,
                            "#ed7953"
                          ],
                          [
                            0.7777777777777778,
                            "#fb9f3a"
                          ],
                          [
                            0.8888888888888888,
                            "#fdca26"
                          ],
                          [
                            1,
                            "#f0f921"
                          ]
                        ],
                        "type": "histogram2dcontour"
                      }
                    ],
                    "mesh3d": [
                      {
                        "colorbar": {
                          "outlinewidth": 0,
                          "ticks": ""
                        },
                        "type": "mesh3d"
                      }
                    ],
                    "parcoords": [
                      {
                        "line": {
                          "colorbar": {
                            "outlinewidth": 0,
                            "ticks": ""
                          }
                        },
                        "type": "parcoords"
                      }
                    ],
                    "pie": [
                      {
                        "automargin": true,
                        "type": "pie"
                      }
                    ],
                    "scatter": [
                      {
                        "fillpattern": {
                          "fillmode": "overlay",
                          "size": 10,
                          "solidity": 0.2
                        },
                        "type": "scatter"
                      }
                    ],
                    "scatter3d": [
                      {
                        "line": {
                          "colorbar": {
                            "outlinewidth": 0,
                            "ticks": ""
                          }
                        },
                        "marker": {
                          "colorbar": {
                            "outlinewidth": 0,
                            "ticks": ""
                          }
                        },
                        "type": "scatter3d"
                      }
                    ],
                    "scattercarpet": [
                      {
                        "marker": {
                          "colorbar": {
                            "outlinewidth": 0,
                            "ticks": ""
                          }
                        },
                        "type": "scattercarpet"
                      }
                    ],
                    "scattergeo": [
                      {
                        "marker": {
                          "colorbar": {
                            "outlinewidth": 0,
                            "ticks": ""
                          }
                        },
                        "type": "scattergeo"
                      }
                    ],
                    "scattergl": [
                      {
                        "marker": {
                          "colorbar": {
                            "outlinewidth": 0,
                            "ticks": ""
                          }
                        },
                        "type": "scattergl"
                      }
                    ],
                    "scattermapbox": [
                      {
                        "marker": {
                          "colorbar": {
                            "outlinewidth": 0,
                            "ticks": ""
                          }
                        },
                        "type": "scattermapbox"
                      }
                    ],
                    "scatterpolar": [
                      {
                        "marker": {
                          "colorbar": {
                            "outlinewidth": 0,
                            "ticks": ""
                          }
                        },
                        "type": "scatterpolar"
                      }
                    ],
                    "scatterpolargl": [
                      {
                        "marker": {
                          "colorbar": {
                            "outlinewidth": 0,
                            "ticks": ""
                          }
                        },
                        "type": "scatterpolargl"
                      }
                    ],
                    "scatterternary": [
                      {
                        "marker": {
                          "colorbar": {
                            "outlinewidth": 0,
                            "ticks": ""
                          }
                        },
                        "type": "scatterternary"
                      }
                    ],
                    "surface": [
                      {
                        "colorbar": {
                          "outlinewidth": 0,
                          "ticks": ""
                        },
                        "colorscale": [
                          [
                            0,
                            "#0d0887"
                          ],
                          [
                            0.1111111111111111,
                            "#46039f"
                          ],
                          [
                            0.2222222222222222,
                            "#7201a8"
                          ],
                          [
                            0.3333333333333333,
                            "#9c179e"
                          ],
                          [
                            0.4444444444444444,
                            "#bd3786"
                          ],
                          [
                            0.5555555555555556,
                            "#d8576b"
                          ],
                          [
                            0.6666666666666666,
                            "#ed7953"
                          ],
                          [
                            0.7777777777777778,
                            "#fb9f3a"
                          ],
                          [
                            0.8888888888888888,
                            "#fdca26"
                          ],
                          [
                            1,
                            "#f0f921"
                          ]
                        ],
                        "type": "surface"
                      }
                    ],
                    "table": [
                      {
                        "cells": {
                          "fill": {
                            "color": "#EBF0F8"
                          },
                          "line": {
                            "color": "white"
                          }
                        },
                        "header": {
                          "fill": {
                            "color": "#C8D4E3"
                          },
                          "line": {
                            "color": "white"
                          }
                        },
                        "type": "table"
                      }
                    ]
                  },
                  "layout": {
                    "annotationdefaults": {
                      "arrowcolor": "#2a3f5f",
                      "arrowhead": 0,
                      "arrowwidth": 1
                    },
                    "autotypenumbers": "strict",
                    "coloraxis": {
                      "colorbar": {
                        "outlinewidth": 0,
                        "ticks": ""
                      }
                    },
                    "colorscale": {
                      "diverging": [
                        [
                          0,
                          "#8e0152"
                        ],
                        [
                          0.1,
                          "#c51b7d"
                        ],
                        [
                          0.2,
                          "#de77ae"
                        ],
                        [
                          0.3,
                          "#f1b6da"
                        ],
                        [
                          0.4,
                          "#fde0ef"
                        ],
                        [
                          0.5,
                          "#f7f7f7"
                        ],
                        [
                          0.6,
                          "#e6f5d0"
                        ],
                        [
                          0.7,
                          "#b8e186"
                        ],
                        [
                          0.8,
                          "#7fbc41"
                        ],
                        [
                          0.9,
                          "#4d9221"
                        ],
                        [
                          1,
                          "#276419"
                        ]
                      ],
                      "sequential": [
                        [
                          0,
                          "#0d0887"
                        ],
                        [
                          0.1111111111111111,
                          "#46039f"
                        ],
                        [
                          0.2222222222222222,
                          "#7201a8"
                        ],
                        [
                          0.3333333333333333,
                          "#9c179e"
                        ],
                        [
                          0.4444444444444444,
                          "#bd3786"
                        ],
                        [
                          0.5555555555555556,
                          "#d8576b"
                        ],
                        [
                          0.6666666666666666,
                          "#ed7953"
                        ],
                        [
                          0.7777777777777778,
                          "#fb9f3a"
                        ],
                        [
                          0.8888888888888888,
                          "#fdca26"
                        ],
                        [
                          1,
                          "#f0f921"
                        ]
                      ],
                      "sequentialminus": [
                        [
                          0,
                          "#0d0887"
                        ],
                        [
                          0.1111111111111111,
                          "#46039f"
                        ],
                        [
                          0.2222222222222222,
                          "#7201a8"
                        ],
                        [
                          0.3333333333333333,
                          "#9c179e"
                        ],
                        [
                          0.4444444444444444,
                          "#bd3786"
                        ],
                        [
                          0.5555555555555556,
                          "#d8576b"
                        ],
                        [
                          0.6666666666666666,
                          "#ed7953"
                        ],
                        [
                          0.7777777777777778,
                          "#fb9f3a"
                        ],
                        [
                          0.8888888888888888,
                          "#fdca26"
                        ],
                        [
                          1,
                          "#f0f921"
                        ]
                      ]
                    },
                    "colorway": [
                      "#636efa",
                      "#EF553B",
                      "#00cc96",
                      "#ab63fa",
                      "#FFA15A",
                      "#19d3f3",
                      "#FF6692",
                      "#B6E880",
                      "#FF97FF",
                      "#FECB52"
                    ],
                    "font": {
                      "color": "#2a3f5f"
                    },
                    "geo": {
                      "bgcolor": "white",
                      "lakecolor": "white",
                      "landcolor": "#E5ECF6",
                      "showlakes": true,
                      "showland": true,
                      "subunitcolor": "white"
                    },
                    "hoverlabel": {
                      "align": "left"
                    },
                    "hovermode": "closest",
                    "mapbox": {
                      "style": "light"
                    },
                    "paper_bgcolor": "white",
                    "plot_bgcolor": "#E5ECF6",
                    "polar": {
                      "angularaxis": {
                        "gridcolor": "white",
                        "linecolor": "white",
                        "ticks": ""
                      },
                      "bgcolor": "#E5ECF6",
                      "radialaxis": {
                        "gridcolor": "white",
                        "linecolor": "white",
                        "ticks": ""
                      }
                    },
                    "scene": {
                      "xaxis": {
                        "backgroundcolor": "#E5ECF6",
                        "gridcolor": "white",
                        "gridwidth": 2,
                        "linecolor": "white",
                        "showbackground": true,
                        "ticks": "",
                        "zerolinecolor": "white"
                      },
                      "yaxis": {
                        "backgroundcolor": "#E5ECF6",
                        "gridcolor": "white",
                        "gridwidth": 2,
                        "linecolor": "white",
                        "showbackground": true,
                        "ticks": "",
                        "zerolinecolor": "white"
                      },
                      "zaxis": {
                        "backgroundcolor": "#E5ECF6",
                        "gridcolor": "white",
                        "gridwidth": 2,
                        "linecolor": "white",
                        "showbackground": true,
                        "ticks": "",
                        "zerolinecolor": "white"
                      }
                    },
                    "shapedefaults": {
                      "line": {
                        "color": "#2a3f5f"
                      }
                    },
                    "ternary": {
                      "aaxis": {
                        "gridcolor": "white",
                        "linecolor": "white",
                        "ticks": ""
                      },
                      "baxis": {
                        "gridcolor": "white",
                        "linecolor": "white",
                        "ticks": ""
                      },
                      "bgcolor": "#E5ECF6",
                      "caxis": {
                        "gridcolor": "white",
                        "linecolor": "white",
                        "ticks": ""
                      }
                    },
                    "title": {
                      "x": 0.05
                    },
                    "xaxis": {
                      "automargin": true,
                      "gridcolor": "white",
                      "linecolor": "white",
                      "ticks": "",
                      "title": {
                        "standoff": 15
                      },
                      "zerolinecolor": "white",
                      "zerolinewidth": 2
                    },
                    "yaxis": {
                      "automargin": true,
                      "gridcolor": "white",
                      "linecolor": "white",
                      "ticks": "",
                      "title": {
                        "standoff": 15
                      },
                      "zerolinecolor": "white",
                      "zerolinewidth": 2
                    }
                  }
                },
                "xaxis": {
                  "anchor": "y2",
                  "domain": [
                    0,
                    1
                  ],
                  "zeroline": false
                },
                "yaxis": {
                  "anchor": "free",
                  "domain": [
                    0.35,
                    1
                  ],
                  "position": 0
                },
                "yaxis2": {
                  "anchor": "x",
                  "domain": [
                    0,
                    0.25
                  ],
                  "dtick": 1,
                  "showticklabels": false
                }
              }
            }
          },
          "metadata": {},
          "output_type": "display_data"
        },
        {
          "data": {
            "image/png": "[encoded data removed]",
            "text/plain": [
              "<Figure size 640x480 with 1 Axes>"
            ]
          },
          "metadata": {},
          "output_type": "display_data"
        },
        {
          "data": {
            "application/vnd.plotly.v1+json": {
              "config": {
                "plotlyServerURL": "https://plot.ly"
              },
              "data": [
                {
                  "hovertemplate": "municipio_nombre=Avellaneda<br>año=%{x}<br>promedio_icas_sin_ceros=%{y}<extra></extra>",
                  "legendgroup": "Avellaneda",
                  "line": {
                    "color": "#636efa",
                    "dash": "solid"
                  },
                  "marker": {
                    "symbol": "circle"
                  },
                  "mode": "markers+lines",
                  "name": "Avellaneda",
                  "orientation": "v",
                  "showlegend": true,
                  "type": "scatter",
                  "x": [
                    2016,
                    2017,
                    2018,
                    2019,
                    2020,
                    2021,
                    2022,
                    2023
                  ],
                  "xaxis": "x",
                  "y": [
                    33.25,
                    35.3,
                    52.6,
                    46.4,
                    53.8,
                    43.1,
                    42,
                    39.8
                  ],
                  "yaxis": "y"
                },
                {
                  "hovertemplate": "municipio_nombre=Berazategui<br>año=%{x}<br>promedio_icas_sin_ceros=%{y}<extra></extra>",
                  "legendgroup": "Berazategui",
                  "line": {
                    "color": "#EF553B",
                    "dash": "solid"
                  },
                  "marker": {
                    "symbol": "circle"
                  },
                  "mode": "markers+lines",
                  "name": "Berazategui",
                  "orientation": "v",
                  "showlegend": true,
                  "type": "scatter",
                  "x": [
                    2016,
                    2017,
                    2018,
                    2019,
                    2020,
                    2021,
                    2022
                  ],
                  "xaxis": "x",
                  "y": [
                    51.916666666666664,
                    42.583333333333336,
                    49.833333333333336,
                    44.833333333333336,
                    47.833333333333336,
                    43.25,
                    39.77777777777778
                  ],
                  "yaxis": "y"
                },
                {
                  "hovertemplate": "municipio_nombre=Berisso<br>año=%{x}<br>promedio_icas_sin_ceros=%{y}<extra></extra>",
                  "legendgroup": "Berisso",
                  "line": {
                    "color": "#00cc96",
                    "dash": "solid"
                  },
                  "marker": {
                    "symbol": "circle"
                  },
                  "mode": "markers+lines",
                  "name": "Berisso",
                  "orientation": "v",
                  "showlegend": true,
                  "type": "scatter",
                  "x": [
                    2016,
                    2017,
                    2018,
                    2019,
                    2020,
                    2021,
                    2022
                  ],
                  "xaxis": "x",
                  "y": [
                    37.81666666666667,
                    42.766666666666666,
                    47.55,
                    42.45,
                    48.2,
                    41,
                    42.2
                  ],
                  "yaxis": "y"
                },
                {
                  "hovertemplate": "municipio_nombre=Boca Cerrada (Res.Nat. Punta Lara)<br>año=%{x}<br>promedio_icas_sin_ceros=%{y}<extra></extra>",
                  "legendgroup": "Boca Cerrada (Res.Nat. Punta Lara)",
                  "line": {
                    "color": "#ab63fa",
                    "dash": "solid"
                  },
                  "marker": {
                    "symbol": "circle"
                  },
                  "mode": "markers+lines",
                  "name": "Boca Cerrada (Res.Nat. Punta Lara)",
                  "orientation": "v",
                  "showlegend": true,
                  "type": "scatter",
                  "x": [
                    2022
                  ],
                  "xaxis": "x",
                  "y": [
                    43.5
                  ],
                  "yaxis": "y"
                },
                {
                  "hovertemplate": "municipio_nombre=CABA<br>año=%{x}<br>promedio_icas_sin_ceros=%{y}<extra></extra>",
                  "legendgroup": "CABA",
                  "line": {
                    "color": "#FFA15A",
                    "dash": "solid"
                  },
                  "marker": {
                    "symbol": "circle"
                  },
                  "mode": "markers+lines",
                  "name": "CABA",
                  "orientation": "v",
                  "showlegend": true,
                  "type": "scatter",
                  "x": [
                    2016,
                    2017,
                    2018,
                    2019,
                    2020,
                    2021,
                    2022,
                    2023
                  ],
                  "xaxis": "x",
                  "y": [
                    34.4375,
                    44.125,
                    43,
                    41.75,
                    53.125,
                    42.416666666666664,
                    45.625,
                    43
                  ],
                  "yaxis": "y"
                },
                {
                  "hovertemplate": "municipio_nombre=Ensenada<br>año=%{x}<br>promedio_icas_sin_ceros=%{y}<extra></extra>",
                  "legendgroup": "Ensenada",
                  "line": {
                    "color": "#19d3f3",
                    "dash": "solid"
                  },
                  "marker": {
                    "symbol": "circle"
                  },
                  "mode": "markers+lines",
                  "name": "Ensenada",
                  "orientation": "v",
                  "showlegend": true,
                  "type": "scatter",
                  "x": [
                    2016,
                    2017,
                    2018,
                    2019,
                    2020,
                    2021,
                    2022
                  ],
                  "xaxis": "x",
                  "y": [
                    55.5625,
                    52.1875,
                    55.5625,
                    53.5,
                    59.25,
                    56.4375,
                    47
                  ],
                  "yaxis": "y"
                },
                {
                  "hovertemplate": "municipio_nombre=Quilmes<br>año=%{x}<br>promedio_icas_sin_ceros=%{y}<extra></extra>",
                  "legendgroup": "Quilmes",
                  "line": {
                    "color": "#FF6692",
                    "dash": "solid"
                  },
                  "marker": {
                    "symbol": "circle"
                  },
                  "mode": "markers+lines",
                  "name": "Quilmes",
                  "orientation": "v",
                  "showlegend": true,
                  "type": "scatter",
                  "x": [
                    2016,
                    2017,
                    2018,
                    2019,
                    2020,
                    2021,
                    2022,
                    2023
                  ],
                  "xaxis": "x",
                  "y": [
                    35.916666666666664,
                    58.111111111111114,
                    50.55555555555555,
                    49.916666666666664,
                    81.66666666666667,
                    48.583333333333336,
                    43.333333333333336,
                    43.666666666666664
                  ],
                  "yaxis": "y"
                },
                {
                  "hovertemplate": "municipio_nombre=San Fernando<br>año=%{x}<br>promedio_icas_sin_ceros=%{y}<extra></extra>",
                  "legendgroup": "San Fernando",
                  "line": {
                    "color": "#B6E880",
                    "dash": "solid"
                  },
                  "marker": {
                    "symbol": "circle"
                  },
                  "mode": "markers+lines",
                  "name": "San Fernando",
                  "orientation": "v",
                  "showlegend": true,
                  "type": "scatter",
                  "x": [
                    2016,
                    2017,
                    2018,
                    2019,
                    2020,
                    2021,
                    2022,
                    2023
                  ],
                  "xaxis": "x",
                  "y": [
                    35,
                    36,
                    48,
                    40,
                    44.5,
                    46,
                    45.5,
                    35
                  ],
                  "yaxis": "y"
                },
                {
                  "hovertemplate": "municipio_nombre=San Isidro<br>año=%{x}<br>promedio_icas_sin_ceros=%{y}<extra></extra>",
                  "legendgroup": "San Isidro",
                  "line": {
                    "color": "#FF97FF",
                    "dash": "solid"
                  },
                  "marker": {
                    "symbol": "circle"
                  },
                  "mode": "markers+lines",
                  "name": "San Isidro",
                  "orientation": "v",
                  "showlegend": true,
                  "type": "scatter",
                  "x": [
                    2016,
                    2017,
                    2018,
                    2019,
                    2020,
                    2021,
                    2022,
                    2023
                  ],
                  "xaxis": "x",
                  "y": [
                    40.1875,
                    46.9375,
                    50.0625,
                    47.5,
                    43.5,
                    42.916666666666664,
                    45.666666666666664,
                    38.5
                  ],
                  "yaxis": "y"
                },
                {
                  "hovertemplate": "municipio_nombre=Tigre<br>año=%{x}<br>promedio_icas_sin_ceros=%{y}<extra></extra>",
                  "legendgroup": "Tigre",
                  "line": {
                    "color": "#FECB52",
                    "dash": "solid"
                  },
                  "marker": {
                    "symbol": "circle"
                  },
                  "mode": "markers+lines",
                  "name": "Tigre",
                  "orientation": "v",
                  "showlegend": true,
                  "type": "scatter",
                  "x": [
                    2016,
                    2017,
                    2018,
                    2019,
                    2020,
                    2021,
                    2022,
                    2023
                  ],
                  "xaxis": "x",
                  "y": [
                    32.94444444444444,
                    37.94444444444444,
                    49.75,
                    50.94444444444444,
                    54.44444444444444,
                    43.47222222222222,
                    45.75,
                    39.666666666666664
                  ],
                  "yaxis": "y"
                },
                {
                  "hovertemplate": "municipio_nombre=Vicente Lopez<br>año=%{x}<br>promedio_icas_sin_ceros=%{y}<extra></extra>",
                  "legendgroup": "Vicente Lopez",
                  "line": {
                    "color": "#636efa",
                    "dash": "solid"
                  },
                  "marker": {
                    "symbol": "circle"
                  },
                  "mode": "markers+lines",
                  "name": "Vicente Lopez",
                  "orientation": "v",
                  "showlegend": true,
                  "type": "scatter",
                  "x": [
                    2016,
                    2017,
                    2018,
                    2019,
                    2020,
                    2021,
                    2022,
                    2023
                  ],
                  "xaxis": "x",
                  "y": [
                    40.333333333333336,
                    40,
                    45.916666666666664,
                    41.75,
                    43.666666666666664,
                    43.361111111111114,
                    43.166666666666664,
                    34.666666666666664
                  ],
                  "yaxis": "y"
                }
              ],
              "layout": {
                "legend": {
                  "title": {
                    "text": "municipio_nombre"
                  },
                  "tracegroupgap": 0
                },
                "margin": {
                  "t": 60
                },
                "template": {
                  "data": {
                    "bar": [
                      {
                        "error_x": {
                          "color": "#2a3f5f"
                        },
                        "error_y": {
                          "color": "#2a3f5f"
                        },
                        "marker": {
                          "line": {
                            "color": "#E5ECF6",
                            "width": 0.5
                          },
                          "pattern": {
                            "fillmode": "overlay",
                            "size": 10,
                            "solidity": 0.2
                          }
                        },
                        "type": "bar"
                      }
                    ],
                    "barpolar": [
                      {
                        "marker": {
                          "line": {
                            "color": "#E5ECF6",
                            "width": 0.5
                          },
                          "pattern": {
                            "fillmode": "overlay",
                            "size": 10,
                            "solidity": 0.2
                          }
                        },
                        "type": "barpolar"
                      }
                    ],
                    "carpet": [
                      {
                        "aaxis": {
                          "endlinecolor": "#2a3f5f",
                          "gridcolor": "white",
                          "linecolor": "white",
                          "minorgridcolor": "white",
                          "startlinecolor": "#2a3f5f"
                        },
                        "baxis": {
                          "endlinecolor": "#2a3f5f",
                          "gridcolor": "white",
                          "linecolor": "white",
                          "minorgridcolor": "white",
                          "startlinecolor": "#2a3f5f"
                        },
                        "type": "carpet"
                      }
                    ],
                    "choropleth": [
                      {
                        "colorbar": {
                          "outlinewidth": 0,
                          "ticks": ""
                        },
                        "type": "choropleth"
                      }
                    ],
                    "contour": [
                      {
                        "colorbar": {
                          "outlinewidth": 0,
                          "ticks": ""
                        },
                        "colorscale": [
                          [
                            0,
                            "#0d0887"
                          ],
                          [
                            0.1111111111111111,
                            "#46039f"
                          ],
                          [
                            0.2222222222222222,
                            "#7201a8"
                          ],
                          [
                            0.3333333333333333,
                            "#9c179e"
                          ],
                          [
                            0.4444444444444444,
                            "#bd3786"
                          ],
                          [
                            0.5555555555555556,
                            "#d8576b"
                          ],
                          [
                            0.6666666666666666,
                            "#ed7953"
                          ],
                          [
                            0.7777777777777778,
                            "#fb9f3a"
                          ],
                          [
                            0.8888888888888888,
                            "#fdca26"
                          ],
                          [
                            1,
                            "#f0f921"
                          ]
                        ],
                        "type": "contour"
                      }
                    ],
                    "contourcarpet": [
                      {
                        "colorbar": {
                          "outlinewidth": 0,
                          "ticks": ""
                        },
                        "type": "contourcarpet"
                      }
                    ],
                    "heatmap": [
                      {
                        "colorbar": {
                          "outlinewidth": 0,
                          "ticks": ""
                        },
                        "colorscale": [
                          [
                            0,
                            "#0d0887"
                          ],
                          [
                            0.1111111111111111,
                            "#46039f"
                          ],
                          [
                            0.2222222222222222,
                            "#7201a8"
                          ],
                          [
                            0.3333333333333333,
                            "#9c179e"
                          ],
                          [
                            0.4444444444444444,
                            "#bd3786"
                          ],
                          [
                            0.5555555555555556,
                            "#d8576b"
                          ],
                          [
                            0.6666666666666666,
                            "#ed7953"
                          ],
                          [
                            0.7777777777777778,
                            "#fb9f3a"
                          ],
                          [
                            0.8888888888888888,
                            "#fdca26"
                          ],
                          [
                            1,
                            "#f0f921"
                          ]
                        ],
                        "type": "heatmap"
                      }
                    ],
                    "heatmapgl": [
                      {
                        "colorbar": {
                          "outlinewidth": 0,
                          "ticks": ""
                        },
                        "colorscale": [
                          [
                            0,
                            "#0d0887"
                          ],
                          [
                            0.1111111111111111,
                            "#46039f"
                          ],
                          [
                            0.2222222222222222,
                            "#7201a8"
                          ],
                          [
                            0.3333333333333333,
                            "#9c179e"
                          ],
                          [
                            0.4444444444444444,
                            "#bd3786"
                          ],
                          [
                            0.5555555555555556,
                            "#d8576b"
                          ],
                          [
                            0.6666666666666666,
                            "#ed7953"
                          ],
                          [
                            0.7777777777777778,
                            "#fb9f3a"
                          ],
                          [
                            0.8888888888888888,
                            "#fdca26"
                          ],
                          [
                            1,
                            "#f0f921"
                          ]
                        ],
                        "type": "heatmapgl"
                      }
                    ],
                    "histogram": [
                      {
                        "marker": {
                          "pattern": {
                            "fillmode": "overlay",
                            "size": 10,
                            "solidity": 0.2
                          }
                        },
                        "type": "histogram"
                      }
                    ],
                    "histogram2d": [
                      {
                        "colorbar": {
                          "outlinewidth": 0,
                          "ticks": ""
                        },
                        "colorscale": [
                          [
                            0,
                            "#0d0887"
                          ],
                          [
                            0.1111111111111111,
                            "#46039f"
                          ],
                          [
                            0.2222222222222222,
                            "#7201a8"
                          ],
                          [
                            0.3333333333333333,
                            "#9c179e"
                          ],
                          [
                            0.4444444444444444,
                            "#bd3786"
                          ],
                          [
                            0.5555555555555556,
                            "#d8576b"
                          ],
                          [
                            0.6666666666666666,
                            "#ed7953"
                          ],
                          [
                            0.7777777777777778,
                            "#fb9f3a"
                          ],
                          [
                            0.8888888888888888,
                            "#fdca26"
                          ],
                          [
                            1,
                            "#f0f921"
                          ]
                        ],
                        "type": "histogram2d"
                      }
                    ],
                    "histogram2dcontour": [
                      {
                        "colorbar": {
                          "outlinewidth": 0,
                          "ticks": ""
                        },
                        "colorscale": [
                          [
                            0,
                            "#0d0887"
                          ],
                          [
                            0.1111111111111111,
                            "#46039f"
                          ],
                          [
                            0.2222222222222222,
                            "#7201a8"
                          ],
                          [
                            0.3333333333333333,
                            "#9c179e"
                          ],
                          [
                            0.4444444444444444,
                            "#bd3786"
                          ],
                          [
                            0.5555555555555556,
                            "#d8576b"
                          ],
                          [
                            0.6666666666666666,
                            "#ed7953"
                          ],
                          [
                            0.7777777777777778,
                            "#fb9f3a"
                          ],
                          [
                            0.8888888888888888,
                            "#fdca26"
                          ],
                          [
                            1,
                            "#f0f921"
                          ]
                        ],
                        "type": "histogram2dcontour"
                      }
                    ],
                    "mesh3d": [
                      {
                        "colorbar": {
                          "outlinewidth": 0,
                          "ticks": ""
                        },
                        "type": "mesh3d"
                      }
                    ],
                    "parcoords": [
                      {
                        "line": {
                          "colorbar": {
                            "outlinewidth": 0,
                            "ticks": ""
                          }
                        },
                        "type": "parcoords"
                      }
                    ],
                    "pie": [
                      {
                        "automargin": true,
                        "type": "pie"
                      }
                    ],
                    "scatter": [
                      {
                        "fillpattern": {
                          "fillmode": "overlay",
                          "size": 10,
                          "solidity": 0.2
                        },
                        "type": "scatter"
                      }
                    ],
                    "scatter3d": [
                      {
                        "line": {
                          "colorbar": {
                            "outlinewidth": 0,
                            "ticks": ""
                          }
                        },
                        "marker": {
                          "colorbar": {
                            "outlinewidth": 0,
                            "ticks": ""
                          }
                        },
                        "type": "scatter3d"
                      }
                    ],
                    "scattercarpet": [
                      {
                        "marker": {
                          "colorbar": {
                            "outlinewidth": 0,
                            "ticks": ""
                          }
                        },
                        "type": "scattercarpet"
                      }
                    ],
                    "scattergeo": [
                      {
                        "marker": {
                          "colorbar": {
                            "outlinewidth": 0,
                            "ticks": ""
                          }
                        },
                        "type": "scattergeo"
                      }
                    ],
                    "scattergl": [
                      {
                        "marker": {
                          "colorbar": {
                            "outlinewidth": 0,
                            "ticks": ""
                          }
                        },
                        "type": "scattergl"
                      }
                    ],
                    "scattermapbox": [
                      {
                        "marker": {
                          "colorbar": {
                            "outlinewidth": 0,
                            "ticks": ""
                          }
                        },
                        "type": "scattermapbox"
                      }
                    ],
                    "scatterpolar": [
                      {
                        "marker": {
                          "colorbar": {
                            "outlinewidth": 0,
                            "ticks": ""
                          }
                        },
                        "type": "scatterpolar"
                      }
                    ],
                    "scatterpolargl": [
                      {
                        "marker": {
                          "colorbar": {
                            "outlinewidth": 0,
                            "ticks": ""
                          }
                        },
                        "type": "scatterpolargl"
                      }
                    ],
                    "scatterternary": [
                      {
                        "marker": {
                          "colorbar": {
                            "outlinewidth": 0,
                            "ticks": ""
                          }
                        },
                        "type": "scatterternary"
                      }
                    ],
                    "surface": [
                      {
                        "colorbar": {
                          "outlinewidth": 0,
                          "ticks": ""
                        },
                        "colorscale": [
                          [
                            0,
                            "#0d0887"
                          ],
                          [
                            0.1111111111111111,
                            "#46039f"
                          ],
                          [
                            0.2222222222222222,
                            "#7201a8"
                          ],
                          [
                            0.3333333333333333,
                            "#9c179e"
                          ],
                          [
                            0.4444444444444444,
                            "#bd3786"
                          ],
                          [
                            0.5555555555555556,
                            "#d8576b"
                          ],
                          [
                            0.6666666666666666,
                            "#ed7953"
                          ],
                          [
                            0.7777777777777778,
                            "#fb9f3a"
                          ],
                          [
                            0.8888888888888888,
                            "#fdca26"
                          ],
                          [
                            1,
                            "#f0f921"
                          ]
                        ],
                        "type": "surface"
                      }
                    ],
                    "table": [
                      {
                        "cells": {
                          "fill": {
                            "color": "#EBF0F8"
                          },
                          "line": {
                            "color": "white"
                          }
                        },
                        "header": {
                          "fill": {
                            "color": "#C8D4E3"
                          },
                          "line": {
                            "color": "white"
                          }
                        },
                        "type": "table"
                      }
                    ]
                  },
                  "layout": {
                    "annotationdefaults": {
                      "arrowcolor": "#2a3f5f",
                      "arrowhead": 0,
                      "arrowwidth": 1
                    },
                    "autotypenumbers": "strict",
                    "coloraxis": {
                      "colorbar": {
                        "outlinewidth": 0,
                        "ticks": ""
                      }
                    },
                    "colorscale": {
                      "diverging": [
                        [
                          0,
                          "#8e0152"
                        ],
                        [
                          0.1,
                          "#c51b7d"
                        ],
                        [
                          0.2,
                          "#de77ae"
                        ],
                        [
                          0.3,
                          "#f1b6da"
                        ],
                        [
                          0.4,
                          "#fde0ef"
                        ],
                        [
                          0.5,
                          "#f7f7f7"
                        ],
                        [
                          0.6,
                          "#e6f5d0"
                        ],
                        [
                          0.7,
                          "#b8e186"
                        ],
                        [
                          0.8,
                          "#7fbc41"
                        ],
                        [
                          0.9,
                          "#4d9221"
                        ],
                        [
                          1,
                          "#276419"
                        ]
                      ],
                      "sequential": [
                        [
                          0,
                          "#0d0887"
                        ],
                        [
                          0.1111111111111111,
                          "#46039f"
                        ],
                        [
                          0.2222222222222222,
                          "#7201a8"
                        ],
                        [
                          0.3333333333333333,
                          "#9c179e"
                        ],
                        [
                          0.4444444444444444,
                          "#bd3786"
                        ],
                        [
                          0.5555555555555556,
                          "#d8576b"
                        ],
                        [
                          0.6666666666666666,
                          "#ed7953"
                        ],
                        [
                          0.7777777777777778,
                          "#fb9f3a"
                        ],
                        [
                          0.8888888888888888,
                          "#fdca26"
                        ],
                        [
                          1,
                          "#f0f921"
                        ]
                      ],
                      "sequentialminus": [
                        [
                          0,
                          "#0d0887"
                        ],
                        [
                          0.1111111111111111,
                          "#46039f"
                        ],
                        [
                          0.2222222222222222,
                          "#7201a8"
                        ],
                        [
                          0.3333333333333333,
                          "#9c179e"
                        ],
                        [
                          0.4444444444444444,
                          "#bd3786"
                        ],
                        [
                          0.5555555555555556,
                          "#d8576b"
                        ],
                        [
                          0.6666666666666666,
                          "#ed7953"
                        ],
                        [
                          0.7777777777777778,
                          "#fb9f3a"
                        ],
                        [
                          0.8888888888888888,
                          "#fdca26"
                        ],
                        [
                          1,
                          "#f0f921"
                        ]
                      ]
                    },
                    "colorway": [
                      "#636efa",
                      "#EF553B",
                      "#00cc96",
                      "#ab63fa",
                      "#FFA15A",
                      "#19d3f3",
                      "#FF6692",
                      "#B6E880",
                      "#FF97FF",
                      "#FECB52"
                    ],
                    "font": {
                      "color": "#2a3f5f"
                    },
                    "geo": {
                      "bgcolor": "white",
                      "lakecolor": "white",
                      "landcolor": "#E5ECF6",
                      "showlakes": true,
                      "showland": true,
                      "subunitcolor": "white"
                    },
                    "hoverlabel": {
                      "align": "left"
                    },
                    "hovermode": "closest",
                    "mapbox": {
                      "style": "light"
                    },
                    "paper_bgcolor": "white",
                    "plot_bgcolor": "#E5ECF6",
                    "polar": {
                      "angularaxis": {
                        "gridcolor": "white",
                        "linecolor": "white",
                        "ticks": ""
                      },
                      "bgcolor": "#E5ECF6",
                      "radialaxis": {
                        "gridcolor": "white",
                        "linecolor": "white",
                        "ticks": ""
                      }
                    },
                    "scene": {
                      "xaxis": {
                        "backgroundcolor": "#E5ECF6",
                        "gridcolor": "white",
                        "gridwidth": 2,
                        "linecolor": "white",
                        "showbackground": true,
                        "ticks": "",
                        "zerolinecolor": "white"
                      },
                      "yaxis": {
                        "backgroundcolor": "#E5ECF6",
                        "gridcolor": "white",
                        "gridwidth": 2,
                        "linecolor": "white",
                        "showbackground": true,
                        "ticks": "",
                        "zerolinecolor": "white"
                      },
                      "zaxis": {
                        "backgroundcolor": "#E5ECF6",
                        "gridcolor": "white",
                        "gridwidth": 2,
                        "linecolor": "white",
                        "showbackground": true,
                        "ticks": "",
                        "zerolinecolor": "white"
                      }
                    },
                    "shapedefaults": {
                      "line": {
                        "color": "#2a3f5f"
                      }
                    },
                    "ternary": {
                      "aaxis": {
                        "gridcolor": "white",
                        "linecolor": "white",
                        "ticks": ""
                      },
                      "baxis": {
                        "gridcolor": "white",
                        "linecolor": "white",
                        "ticks": ""
                      },
                      "bgcolor": "#E5ECF6",
                      "caxis": {
                        "gridcolor": "white",
                        "linecolor": "white",
                        "ticks": ""
                      }
                    },
                    "title": {
                      "x": 0.05
                    },
                    "xaxis": {
                      "automargin": true,
                      "gridcolor": "white",
                      "linecolor": "white",
                      "ticks": "",
                      "title": {
                        "standoff": 15
                      },
                      "zerolinecolor": "white",
                      "zerolinewidth": 2
                    },
                    "yaxis": {
                      "automargin": true,
                      "gridcolor": "white",
                      "linecolor": "white",
                      "ticks": "",
                      "title": {
                        "standoff": 15
                      },
                      "zerolinecolor": "white",
                      "zerolinewidth": 2
                    }
                  }
                },
                "xaxis": {
                  "anchor": "y",
                  "domain": [
                    0,
                    1
                  ],
                  "title": {
                    "text": "año"
                  }
                },
                "yaxis": {
                  "anchor": "x",
                  "domain": [
                    0,
                    1
                  ],
                  "title": {
                    "text": "promedio_icas_sin_ceros"
                  }
                }
              }
            }
          },
          "metadata": {},
          "output_type": "display_data"
        }
      ],
      "source": [
        "\n",
        "# Graficos para completar analisis descriptivo\n",
        "plt.hist(df_agua_filtro['promedio_icas_sin_ceros'])\n",
        "plt.xlabel('Promedio icas')\n",
        "plt.ylabel('Frecuencia')\n",
        "plt.title('Distribución del ICA')\n",
        "plt.show()\n",
        "\n",
        "\n",
        "fig = px.scatter(df_agua_filtro, x=\"año_estacion\", y=\"promedio_icas_sin_ceros\",\n",
        "\t         size=\"promedio_icas_sin_ceros\", color=\"municipio_nombre\",\n",
        "                 hover_name=\"municipio_nombre\", log_x=True, size_max=60)\n",
        "fig.show()\n",
        "\n",
        "hist_data = [df_agua_filtro['ica_verano'], df_agua_filtro['ica_primavera'], df_agua_filtro['ica_otoño'], df_agua_filtro['ica_invierno']]\n",
        "\n",
        "group_labels = ['Verano', 'Primavera', 'Otoño', 'Invierno']\n",
        "\n",
        "# Create distplot with custom bin_size\n",
        "fig = ff.create_distplot(hist_data, group_labels, bin_size=2)\n",
        "fig.show()\n",
        "\n",
        "# Filtrar los datos por el rango de años de interés\n",
        "df_2016_2020 = df_agua_filtro[(df_agua_filtro['año'] >= 2016) & (df_agua_filtro['año'] <= 2020)]\n",
        "df_2016_2020['año_estacion'] = df_2016_2020['año'].astype(str) + '.' + (df_2016_2020.index % 4 + 1).astype(str)\n",
        "df_agua_filtro['año_estacion'] = df_2016_2020['año'].astype(str) + '.' + (df_2016_2020.index % 4 + 1).astype(str)\n",
        "\n",
        "df_grouped = df_2016_2020.groupby('año_estacion')['promedio_icas_sin_ceros'].mean()\n",
        "\n",
        "# LINEPLOT\n",
        "sns.lineplot(x='año_estacion', y='promedio_icas_sin_ceros', data=df_agua_filtro)\n",
        "\n",
        "plt.xlabel('Año separado por estaciones')\n",
        "plt.ylabel('Promedio ICA sin ceros')\n",
        "plt.title('Evolución del Promedio ICA sin ceros (2016-2020)')\n",
        "\n",
        "plt.show()\n",
        "\n",
        "\n",
        "fig = px.line(df_agua_filtro, x='año', y='promedio_icas_sin_ceros', color='municipio_nombre', markers=True)\n",
        "fig.show()\n",
        "\n",
        "\n",
        "#Lista de años únicos\n",
        "years = df_2016_2020['año'].unique()\n",
        "\n"
      ]
    },
    {
      "cell_type": "code",
      "execution_count": 95,
      "metadata": {
        "id": "YNH3pZ-k11ac",
        "outputId": "3a26eb94-800c-408c-93d0-3f31a7a39758"
      },
      "outputs": [
        {
          "name": "stdout",
          "output_type": "stream",
          "text": [
            "<class 'pandas.core.frame.DataFrame'>\n",
            "Index: 50 entries, 0 to 74\n",
            "Data columns (total 8 columns):\n",
            " #   Column                   Non-Null Count  Dtype  \n",
            "---  ------                   --------------  -----  \n",
            " 0   municipio_nombre         50 non-null     object \n",
            " 1   año                      50 non-null     int64  \n",
            " 2   ica_verano               50 non-null     float64\n",
            " 3   ica_invierno             50 non-null     float64\n",
            " 4   ica_otoño                50 non-null     float64\n",
            " 5   ica_primavera            50 non-null     float64\n",
            " 6   promedio_icas_sin_ceros  50 non-null     float64\n",
            " 7   año_estacion             50 non-null     object \n",
            "dtypes: float64(5), int64(1), object(2)\n",
            "memory usage: 5.6+ KB\n"
          ]
        }
      ],
      "source": [
        "df_2016_2020.info()"
      ]
    },
    {
      "attachments": {},
      "cell_type": "markdown",
      "metadata": {
        "id": "to34hoWQ6EQO"
      },
      "source": [
        "#Primero realicé una regresion lineal de la calidad de agua en el tiempo, para poder entender su tendencia"
      ]
    },
    {
      "cell_type": "code",
      "execution_count": 94,
      "metadata": {
        "id": "p6iSA5mJ11ac",
        "outputId": "1f6a589f-1bca-48a7-db27-66abf610a344"
      },
      "outputs": [
        {
          "name": "stdout",
          "output_type": "stream",
          "text": [
            "-5689.974217261441\n"
          ]
        },
        {
          "data": {
            "image/png": "[encoded data removed]",
            "text/plain": [
              "<Figure size 500x500 with 1 Axes>"
            ]
          },
          "metadata": {},
          "output_type": "display_data"
        }
      ],
      "source": [
        "\n",
        "\n",
        "# Regresion de las medidas de ica\n",
        "X = df_2016_2020['año'].values.reshape(-1, 1)\n",
        "y = df_2016_2020['promedio_icas_sin_ceros']\n",
        "\n",
        "\n",
        "reg = LinearRegression().fit(X, y)\n",
        "\n",
        "# Coeficientes\n",
        "print(reg.intercept_)\n",
        "sns.lmplot(x='año', y='promedio_icas_sin_ceros', data=df_2016_2020)\n",
        "plt.show()"
      ]
    },
    {
      "cell_type": "code",
      "execution_count": 50,
      "metadata": {
        "id": "2Pt2oQYI11ad",
        "outputId": "c3150775-688a-458a-92bd-36c2f899066a"
      },
      "outputs": [
        {
          "name": "stdout",
          "output_type": "stream",
          "text": [
            "<class 'pandas.core.frame.DataFrame'>\n",
            "RangeIndex: 788697 entries, 0 to 788696\n",
            "Data columns (total 10 columns):\n",
            " #   Column                     Non-Null Count   Dtype \n",
            "---  ------                     --------------   ----- \n",
            " 0   anio                       788697 non-null  int64 \n",
            " 1   region_sanitaria           788697 non-null  object\n",
            " 2   muncipio_nombre            788697 non-null  object\n",
            " 3   muncipio_id                788697 non-null  int64 \n",
            " 4   sexo                       788697 non-null  object\n",
            " 5   grupo_edad                 788697 non-null  object\n",
            " 6   causa_egreso_capitulo      788697 non-null  object\n",
            " 7   causa_egreso_agrupamiento  788697 non-null  object\n",
            " 8   tipo_egreso                788697 non-null  object\n",
            " 9   cantidad                   788697 non-null  int64 \n",
            "dtypes: int64(3), object(7)\n",
            "memory usage: 60.2+ MB\n"
          ]
        }
      ],
      "source": [
        "######### ANALISIS DE LA BASE DE PEDIATRIA\n",
        "\n",
        "df_pediatria.info()"
      ]
    },
    {
      "cell_type": "code",
      "execution_count": 51,
      "metadata": {
        "id": "rT6EIzLE11ad",
        "outputId": "71d137d5-faf7-4fb1-e13e-e9f54201c820"
      },
      "outputs": [
        {
          "data": {
            "text/html": [
              "<div>\n",
              "<style scoped>\n",
              "    .dataframe tbody tr th:only-of-type {\n",
              "        vertical-align: middle;\n",
              "    }\n",
              "\n",
              "    .dataframe tbody tr th {\n",
              "        vertical-align: top;\n",
              "    }\n",
              "\n",
              "    .dataframe thead th {\n",
              "        text-align: right;\n",
              "    }\n",
              "</style>\n",
              "<table border=\"1\" class=\"dataframe\">\n",
              "  <thead>\n",
              "    <tr style=\"text-align: right;\">\n",
              "      <th></th>\n",
              "      <th>anio</th>\n",
              "      <th>region_sanitaria</th>\n",
              "      <th>muncipio_nombre</th>\n",
              "      <th>muncipio_id</th>\n",
              "      <th>sexo</th>\n",
              "      <th>grupo_edad</th>\n",
              "      <th>causa_egreso_capitulo</th>\n",
              "      <th>causa_egreso_agrupamiento</th>\n",
              "      <th>tipo_egreso</th>\n",
              "      <th>cantidad</th>\n",
              "    </tr>\n",
              "  </thead>\n",
              "  <tbody>\n",
              "    <tr>\n",
              "      <th>0</th>\n",
              "      <td>2016</td>\n",
              "      <td>VI</td>\n",
              "      <td>Almirante Brown</td>\n",
              "      <td>6028</td>\n",
              "      <td>Ignorado</td>\n",
              "      <td>0-4</td>\n",
              "      <td>Afecciones perinatales</td>\n",
              "      <td>Todos</td>\n",
              "      <td>Alta definitiva</td>\n",
              "      <td>1</td>\n",
              "    </tr>\n",
              "    <tr>\n",
              "      <th>1</th>\n",
              "      <td>2016</td>\n",
              "      <td>VI</td>\n",
              "      <td>Almirante Brown</td>\n",
              "      <td>6028</td>\n",
              "      <td>Ignorado</td>\n",
              "      <td>0-4</td>\n",
              "      <td>Enfermedad de la piel y del tejido subcutáneo</td>\n",
              "      <td>Todos</td>\n",
              "      <td>Alta definitiva</td>\n",
              "      <td>1</td>\n",
              "    </tr>\n",
              "    <tr>\n",
              "      <th>2</th>\n",
              "      <td>2016</td>\n",
              "      <td>VI</td>\n",
              "      <td>Almirante Brown</td>\n",
              "      <td>6028</td>\n",
              "      <td>Ignorado</td>\n",
              "      <td>15-19</td>\n",
              "      <td>Embarazo, parto y puerperio</td>\n",
              "      <td>Complicaciones del trabajo de parto y del parto</td>\n",
              "      <td>Alta definitiva</td>\n",
              "      <td>2</td>\n",
              "    </tr>\n",
              "    <tr>\n",
              "      <th>3</th>\n",
              "      <td>2016</td>\n",
              "      <td>VI</td>\n",
              "      <td>Almirante Brown</td>\n",
              "      <td>6028</td>\n",
              "      <td>Ignorado</td>\n",
              "      <td>15-19</td>\n",
              "      <td>Embarazo, parto y puerperio</td>\n",
              "      <td>Parto</td>\n",
              "      <td>Alta definitiva</td>\n",
              "      <td>1</td>\n",
              "    </tr>\n",
              "    <tr>\n",
              "      <th>4</th>\n",
              "      <td>2016</td>\n",
              "      <td>VI</td>\n",
              "      <td>Almirante Brown</td>\n",
              "      <td>6028</td>\n",
              "      <td>Ignorado</td>\n",
              "      <td>15-19</td>\n",
              "      <td>Malformación congénitas, deformación y anomalí...</td>\n",
              "      <td>Todos</td>\n",
              "      <td>Alta definitiva</td>\n",
              "      <td>1</td>\n",
              "    </tr>\n",
              "    <tr>\n",
              "      <th>5</th>\n",
              "      <td>2016</td>\n",
              "      <td>VI</td>\n",
              "      <td>Almirante Brown</td>\n",
              "      <td>6028</td>\n",
              "      <td>Ignorado</td>\n",
              "      <td>30-34</td>\n",
              "      <td>Síntomas, signos y hallazgos anormales clínico...</td>\n",
              "      <td>Todos</td>\n",
              "      <td>Alta definitiva</td>\n",
              "      <td>1</td>\n",
              "    </tr>\n",
              "    <tr>\n",
              "      <th>6</th>\n",
              "      <td>2016</td>\n",
              "      <td>VI</td>\n",
              "      <td>Almirante Brown</td>\n",
              "      <td>6028</td>\n",
              "      <td>Ignorado</td>\n",
              "      <td>35-39</td>\n",
              "      <td>Enfermedad del sistema respiratorio</td>\n",
              "      <td>Asma</td>\n",
              "      <td>Alta definitiva</td>\n",
              "      <td>1</td>\n",
              "    </tr>\n",
              "    <tr>\n",
              "      <th>7</th>\n",
              "      <td>2016</td>\n",
              "      <td>VI</td>\n",
              "      <td>Almirante Brown</td>\n",
              "      <td>6028</td>\n",
              "      <td>Ignorado</td>\n",
              "      <td>50-54</td>\n",
              "      <td>Enfermedad del sistema genitourinario</td>\n",
              "      <td>Demás enfermedades del sistema genitourinario</td>\n",
              "      <td>Alta definitiva</td>\n",
              "      <td>1</td>\n",
              "    </tr>\n",
              "    <tr>\n",
              "      <th>8</th>\n",
              "      <td>2016</td>\n",
              "      <td>VI</td>\n",
              "      <td>Almirante Brown</td>\n",
              "      <td>6028</td>\n",
              "      <td>Ignorado</td>\n",
              "      <td>50-54</td>\n",
              "      <td>Traumatismos, envenenamientos y algunas otras ...</td>\n",
              "      <td>Traumatismos de la cabeza y cuello</td>\n",
              "      <td>Alta definitiva</td>\n",
              "      <td>1</td>\n",
              "    </tr>\n",
              "    <tr>\n",
              "      <th>9</th>\n",
              "      <td>2016</td>\n",
              "      <td>VI</td>\n",
              "      <td>Almirante Brown</td>\n",
              "      <td>6028</td>\n",
              "      <td>Ignorado</td>\n",
              "      <td>65-69</td>\n",
              "      <td>Síntomas, signos y hallazgos anormales clínico...</td>\n",
              "      <td>Todos</td>\n",
              "      <td>Alta definitiva</td>\n",
              "      <td>1</td>\n",
              "    </tr>\n",
              "  </tbody>\n",
              "</table>\n",
              "</div>"
            ],
            "text/plain": [
              "   anio region_sanitaria  muncipio_nombre  muncipio_id      sexo grupo_edad  \\\n",
              "0  2016               VI  Almirante Brown         6028  Ignorado        0-4   \n",
              "1  2016               VI  Almirante Brown         6028  Ignorado        0-4   \n",
              "2  2016               VI  Almirante Brown         6028  Ignorado      15-19   \n",
              "3  2016               VI  Almirante Brown         6028  Ignorado      15-19   \n",
              "4  2016               VI  Almirante Brown         6028  Ignorado      15-19   \n",
              "5  2016               VI  Almirante Brown         6028  Ignorado      30-34   \n",
              "6  2016               VI  Almirante Brown         6028  Ignorado      35-39   \n",
              "7  2016               VI  Almirante Brown         6028  Ignorado      50-54   \n",
              "8  2016               VI  Almirante Brown         6028  Ignorado      50-54   \n",
              "9  2016               VI  Almirante Brown         6028  Ignorado      65-69   \n",
              "\n",
              "                               causa_egreso_capitulo  \\\n",
              "0                             Afecciones perinatales   \n",
              "1      Enfermedad de la piel y del tejido subcutáneo   \n",
              "2                        Embarazo, parto y puerperio   \n",
              "3                        Embarazo, parto y puerperio   \n",
              "4  Malformación congénitas, deformación y anomalí...   \n",
              "5  Síntomas, signos y hallazgos anormales clínico...   \n",
              "6                Enfermedad del sistema respiratorio   \n",
              "7              Enfermedad del sistema genitourinario   \n",
              "8  Traumatismos, envenenamientos y algunas otras ...   \n",
              "9  Síntomas, signos y hallazgos anormales clínico...   \n",
              "\n",
              "                         causa_egreso_agrupamiento      tipo_egreso  cantidad  \n",
              "0                                            Todos  Alta definitiva         1  \n",
              "1                                            Todos  Alta definitiva         1  \n",
              "2  Complicaciones del trabajo de parto y del parto  Alta definitiva         2  \n",
              "3                                            Parto  Alta definitiva         1  \n",
              "4                                            Todos  Alta definitiva         1  \n",
              "5                                            Todos  Alta definitiva         1  \n",
              "6                                             Asma  Alta definitiva         1  \n",
              "7    Demás enfermedades del sistema genitourinario  Alta definitiva         1  \n",
              "8               Traumatismos de la cabeza y cuello  Alta definitiva         1  \n",
              "9                                            Todos  Alta definitiva         1  "
            ]
          },
          "execution_count": 51,
          "metadata": {},
          "output_type": "execute_result"
        }
      ],
      "source": [
        "df_pediatria.head(10)\n"
      ]
    },
    {
      "attachments": {},
      "cell_type": "markdown",
      "metadata": {
        "id": "i_9lq0OE6S1s"
      },
      "source": [
        "#Creación de un dataset listo para el merge"
      ]
    },
    {
      "cell_type": "code",
      "execution_count": 52,
      "metadata": {
        "id": "FN3VhL5f11ad"
      },
      "outputs": [],
      "source": [
        "df_pediatria_filtro = pd.DataFrame(columns=['año', 'municipio_nombre', 'edad', 'causa_egreso_agrupamiento'])\n",
        "df_pediatria_filtro['año']=df_pediatria['anio'].astype(int)\n",
        "df_pediatria_filtro['municipio_nombre']=df_pediatria['muncipio_nombre'].astype(str)\n",
        "df_pediatria_filtro['edad']=df_pediatria['grupo_edad'].astype(str)\n",
        "df_pediatria_filtro['causa_egreso_agrupamiento']=df_pediatria['causa_egreso_agrupamiento'].astype(str)\n",
        "df_pediatria_filtro['cantidad']=df_pediatria['cantidad'].astype(int)\n",
        "\n",
        "\n",
        "\n",
        "\n"
      ]
    },
    {
      "cell_type": "code",
      "execution_count": 53,
      "metadata": {
        "id": "Yh_OXI8R11ad",
        "outputId": "8690dd34-e8f2-4724-9ea4-8f68767138b9"
      },
      "outputs": [
        {
          "data": {
            "text/html": [
              "<div>\n",
              "<style scoped>\n",
              "    .dataframe tbody tr th:only-of-type {\n",
              "        vertical-align: middle;\n",
              "    }\n",
              "\n",
              "    .dataframe tbody tr th {\n",
              "        vertical-align: top;\n",
              "    }\n",
              "\n",
              "    .dataframe thead th {\n",
              "        text-align: right;\n",
              "    }\n",
              "</style>\n",
              "<table border=\"1\" class=\"dataframe\">\n",
              "  <thead>\n",
              "    <tr style=\"text-align: right;\">\n",
              "      <th></th>\n",
              "      <th>año</th>\n",
              "      <th>municipio_nombre</th>\n",
              "      <th>edad</th>\n",
              "      <th>causa_egreso_agrupamiento</th>\n",
              "      <th>cantidad</th>\n",
              "    </tr>\n",
              "  </thead>\n",
              "  <tbody>\n",
              "    <tr>\n",
              "      <th>275</th>\n",
              "      <td>2016</td>\n",
              "      <td>25 de mayo</td>\n",
              "      <td>25-29</td>\n",
              "      <td>Enteritis y colitis no infecciosas</td>\n",
              "      <td>1</td>\n",
              "    </tr>\n",
              "    <tr>\n",
              "      <th>436</th>\n",
              "      <td>2016</td>\n",
              "      <td>25 de mayo</td>\n",
              "      <td>60-64</td>\n",
              "      <td>Enteritis y colitis no infecciosas</td>\n",
              "      <td>1</td>\n",
              "    </tr>\n",
              "    <tr>\n",
              "      <th>551</th>\n",
              "      <td>2016</td>\n",
              "      <td>Adolfo Alsina</td>\n",
              "      <td>0-4</td>\n",
              "      <td>Enteritis y colitis no infecciosas</td>\n",
              "      <td>1</td>\n",
              "    </tr>\n",
              "    <tr>\n",
              "      <th>570</th>\n",
              "      <td>2016</td>\n",
              "      <td>Adolfo Alsina</td>\n",
              "      <td>10-14</td>\n",
              "      <td>Enteritis y colitis no infecciosas</td>\n",
              "      <td>3</td>\n",
              "    </tr>\n",
              "    <tr>\n",
              "      <th>590</th>\n",
              "      <td>2016</td>\n",
              "      <td>Adolfo Alsina</td>\n",
              "      <td>15-19</td>\n",
              "      <td>Enteritis y colitis no infecciosas</td>\n",
              "      <td>2</td>\n",
              "    </tr>\n",
              "    <tr>\n",
              "      <th>...</th>\n",
              "      <td>...</td>\n",
              "      <td>...</td>\n",
              "      <td>...</td>\n",
              "      <td>...</td>\n",
              "      <td>...</td>\n",
              "    </tr>\n",
              "    <tr>\n",
              "      <th>787269</th>\n",
              "      <td>2020</td>\n",
              "      <td>José C. Paz</td>\n",
              "      <td>5-9</td>\n",
              "      <td>Enteritis y colitis no infecciosas</td>\n",
              "      <td>3</td>\n",
              "    </tr>\n",
              "    <tr>\n",
              "      <th>787622</th>\n",
              "      <td>2020</td>\n",
              "      <td>Lezama</td>\n",
              "      <td>75-79</td>\n",
              "      <td>Enteritis y colitis no infecciosas</td>\n",
              "      <td>1</td>\n",
              "    </tr>\n",
              "    <tr>\n",
              "      <th>787905</th>\n",
              "      <td>2020</td>\n",
              "      <td>Moreno</td>\n",
              "      <td>20-24</td>\n",
              "      <td>Enteritis y colitis no infecciosas</td>\n",
              "      <td>1</td>\n",
              "    </tr>\n",
              "    <tr>\n",
              "      <th>788555</th>\n",
              "      <td>2020</td>\n",
              "      <td>Suipacha</td>\n",
              "      <td>55-59</td>\n",
              "      <td>Enteritis y colitis no infecciosas</td>\n",
              "      <td>1</td>\n",
              "    </tr>\n",
              "    <tr>\n",
              "      <th>788603</th>\n",
              "      <td>2020</td>\n",
              "      <td>Tigre</td>\n",
              "      <td>5-9</td>\n",
              "      <td>Enteritis y colitis no infecciosas</td>\n",
              "      <td>1</td>\n",
              "    </tr>\n",
              "  </tbody>\n",
              "</table>\n",
              "<p>4128 rows × 5 columns</p>\n",
              "</div>"
            ],
            "text/plain": [
              "         año municipio_nombre   edad           causa_egreso_agrupamiento  \\\n",
              "275     2016       25 de mayo  25-29  Enteritis y colitis no infecciosas   \n",
              "436     2016       25 de mayo  60-64  Enteritis y colitis no infecciosas   \n",
              "551     2016    Adolfo Alsina    0-4  Enteritis y colitis no infecciosas   \n",
              "570     2016    Adolfo Alsina  10-14  Enteritis y colitis no infecciosas   \n",
              "590     2016    Adolfo Alsina  15-19  Enteritis y colitis no infecciosas   \n",
              "...      ...              ...    ...                                 ...   \n",
              "787269  2020      José C. Paz    5-9  Enteritis y colitis no infecciosas   \n",
              "787622  2020           Lezama  75-79  Enteritis y colitis no infecciosas   \n",
              "787905  2020           Moreno  20-24  Enteritis y colitis no infecciosas   \n",
              "788555  2020         Suipacha  55-59  Enteritis y colitis no infecciosas   \n",
              "788603  2020            Tigre    5-9  Enteritis y colitis no infecciosas   \n",
              "\n",
              "        cantidad  \n",
              "275            1  \n",
              "436            1  \n",
              "551            1  \n",
              "570            3  \n",
              "590            2  \n",
              "...          ...  \n",
              "787269         3  \n",
              "787622         1  \n",
              "787905         1  \n",
              "788555         1  \n",
              "788603         1  \n",
              "\n",
              "[4128 rows x 5 columns]"
            ]
          },
          "execution_count": 53,
          "metadata": {},
          "output_type": "execute_result"
        }
      ],
      "source": [
        "##### Limpieza para juntar con dataframe de Agua\n",
        "\n",
        "localidades_control=df_agua['localidad'].unique().tolist()\n",
        "localidades_ped=df_pediatria_filtro['municipio_nombre'].unique().tolist()\n",
        "tomas_agua=[]\n",
        "for x in localidades_ped:\n",
        "    if x in localidades_control:\n",
        "        tomas_agua.append(x)\n",
        "#df_pediatria_filtro = df_pediatria_filtro.drop('muncipio_nombre', axis=1)\n",
        "#df_pediatria_filtro.info()\n",
        "\n",
        "df_pediatria_filtro_edades_todas=df_pediatria_filtro.loc[(df_pediatria_filtro['causa_egreso_agrupamiento'] == 'Enteritis y colitis no infecciosas')]\n",
        "\n",
        "df_pediatria_filtro=df_pediatria_filtro.loc[((df_pediatria_filtro['edad'] == '0-4') | (df_pediatria_filtro['edad'] == '5-9')) & (df_pediatria_filtro['causa_egreso_agrupamiento'] == 'Enteritis y colitis no infecciosas')]\n",
        "\n",
        "#df_pediatria_filtro.loc[df_pediatria_filtro['municipio_nombre'] == 'Vicente Lopez', 'municipio_nombre'].value_counts()\n",
        "df_pediatria_filtro = df_pediatria_filtro[df_pediatria_filtro['municipio_nombre'].isin(tomas_agua) & df_pediatria_filtro.duplicated(subset='municipio_nombre', keep=False)]\n",
        "df_pediatria_filtro_edades_todas"
      ]
    },
    {
      "cell_type": "code",
      "execution_count": 54,
      "metadata": {
        "id": "kCrGbEHb11ae",
        "outputId": "29dbb4c3-71eb-4a57-9dc4-033c8f480714"
      },
      "outputs": [
        {
          "data": {
            "text/html": [
              "<div>\n",
              "<style scoped>\n",
              "    .dataframe tbody tr th:only-of-type {\n",
              "        vertical-align: middle;\n",
              "    }\n",
              "\n",
              "    .dataframe tbody tr th {\n",
              "        vertical-align: top;\n",
              "    }\n",
              "\n",
              "    .dataframe thead th {\n",
              "        text-align: right;\n",
              "    }\n",
              "</style>\n",
              "<table border=\"1\" class=\"dataframe\">\n",
              "  <thead>\n",
              "    <tr style=\"text-align: right;\">\n",
              "      <th></th>\n",
              "      <th>año</th>\n",
              "      <th>municipio_nombre</th>\n",
              "      <th>edad</th>\n",
              "      <th>causa_egreso_agrupamiento</th>\n",
              "      <th>cantidad</th>\n",
              "    </tr>\n",
              "  </thead>\n",
              "  <tbody>\n",
              "    <tr>\n",
              "      <th>2657</th>\n",
              "      <td>2016</td>\n",
              "      <td>Avellaneda</td>\n",
              "      <td>0-4</td>\n",
              "      <td>Enteritis y colitis no infecciosas</td>\n",
              "      <td>2</td>\n",
              "    </tr>\n",
              "    <tr>\n",
              "      <th>36854</th>\n",
              "      <td>2016</td>\n",
              "      <td>Quilmes</td>\n",
              "      <td>0-4</td>\n",
              "      <td>Enteritis y colitis no infecciosas</td>\n",
              "      <td>4</td>\n",
              "    </tr>\n",
              "    <tr>\n",
              "      <th>41135</th>\n",
              "      <td>2016</td>\n",
              "      <td>San Fernando</td>\n",
              "      <td>0-4</td>\n",
              "      <td>Enteritis y colitis no infecciosas</td>\n",
              "      <td>4</td>\n",
              "    </tr>\n",
              "    <tr>\n",
              "      <th>41397</th>\n",
              "      <td>2016</td>\n",
              "      <td>San Fernando</td>\n",
              "      <td>5-9</td>\n",
              "      <td>Enteritis y colitis no infecciosas</td>\n",
              "      <td>1</td>\n",
              "    </tr>\n",
              "    <tr>\n",
              "      <th>41631</th>\n",
              "      <td>2016</td>\n",
              "      <td>San Isidro</td>\n",
              "      <td>0-4</td>\n",
              "      <td>Enteritis y colitis no infecciosas</td>\n",
              "      <td>2</td>\n",
              "    </tr>\n",
              "    <tr>\n",
              "      <th>...</th>\n",
              "      <td>...</td>\n",
              "      <td>...</td>\n",
              "      <td>...</td>\n",
              "      <td>...</td>\n",
              "      <td>...</td>\n",
              "    </tr>\n",
              "    <tr>\n",
              "      <th>760526</th>\n",
              "      <td>2020</td>\n",
              "      <td>Tigre</td>\n",
              "      <td>5-9</td>\n",
              "      <td>Enteritis y colitis no infecciosas</td>\n",
              "      <td>18</td>\n",
              "    </tr>\n",
              "    <tr>\n",
              "      <th>774242</th>\n",
              "      <td>2020</td>\n",
              "      <td>San Fernando</td>\n",
              "      <td>0-4</td>\n",
              "      <td>Enteritis y colitis no infecciosas</td>\n",
              "      <td>1</td>\n",
              "    </tr>\n",
              "    <tr>\n",
              "      <th>775311</th>\n",
              "      <td>2020</td>\n",
              "      <td>Tigre</td>\n",
              "      <td>0-4</td>\n",
              "      <td>Enteritis y colitis no infecciosas</td>\n",
              "      <td>1</td>\n",
              "    </tr>\n",
              "    <tr>\n",
              "      <th>775513</th>\n",
              "      <td>2020</td>\n",
              "      <td>Tigre</td>\n",
              "      <td>5-9</td>\n",
              "      <td>Enteritis y colitis no infecciosas</td>\n",
              "      <td>1</td>\n",
              "    </tr>\n",
              "    <tr>\n",
              "      <th>788603</th>\n",
              "      <td>2020</td>\n",
              "      <td>Tigre</td>\n",
              "      <td>5-9</td>\n",
              "      <td>Enteritis y colitis no infecciosas</td>\n",
              "      <td>1</td>\n",
              "    </tr>\n",
              "  </tbody>\n",
              "</table>\n",
              "<p>100 rows × 5 columns</p>\n",
              "</div>"
            ],
            "text/plain": [
              "         año municipio_nombre edad           causa_egreso_agrupamiento  \\\n",
              "2657    2016       Avellaneda  0-4  Enteritis y colitis no infecciosas   \n",
              "36854   2016          Quilmes  0-4  Enteritis y colitis no infecciosas   \n",
              "41135   2016     San Fernando  0-4  Enteritis y colitis no infecciosas   \n",
              "41397   2016     San Fernando  5-9  Enteritis y colitis no infecciosas   \n",
              "41631   2016       San Isidro  0-4  Enteritis y colitis no infecciosas   \n",
              "...      ...              ...  ...                                 ...   \n",
              "760526  2020            Tigre  5-9  Enteritis y colitis no infecciosas   \n",
              "774242  2020     San Fernando  0-4  Enteritis y colitis no infecciosas   \n",
              "775311  2020            Tigre  0-4  Enteritis y colitis no infecciosas   \n",
              "775513  2020            Tigre  5-9  Enteritis y colitis no infecciosas   \n",
              "788603  2020            Tigre  5-9  Enteritis y colitis no infecciosas   \n",
              "\n",
              "        cantidad  \n",
              "2657           2  \n",
              "36854          4  \n",
              "41135          4  \n",
              "41397          1  \n",
              "41631          2  \n",
              "...          ...  \n",
              "760526        18  \n",
              "774242         1  \n",
              "775311         1  \n",
              "775513         1  \n",
              "788603         1  \n",
              "\n",
              "[100 rows x 5 columns]"
            ]
          },
          "execution_count": 54,
          "metadata": {},
          "output_type": "execute_result"
        }
      ],
      "source": [
        "######## hace falta expandir si tengo cantidad 20 a 20 datos?\n",
        "# df_ped_expandido = df_pediatria_filtro.loc[np.repeat(df_pediatria_filtro.index.values, df_pediatria_filtro['cantidad']), :].reset_index(drop=True)\n",
        "# df_ped_expandido['cantidad'] = 1\n",
        "# df_ped_expandido\n",
        "df_agua_filtro = df_agua_filtro.rename(columns={'localidad': 'municipio_nombre'})\n",
        "df_pediatria_filtro\n"
      ]
    },
    {
      "attachments": {},
      "cell_type": "markdown",
      "metadata": {
        "id": "SwO6lxdo6nOv"
      },
      "source": [
        "#Análisis de las variables de la base de datos de egresos hospitalarios"
      ]
    },
    {
      "cell_type": "code",
      "execution_count": 112,
      "metadata": {
        "id": "PtoyBryL11ae",
        "outputId": "0cc09af4-e80d-4ea4-a39f-b3dfa4077554"
      },
      "outputs": [
        {
          "data": {
            "image/png": "[encoded data removed]",
            "text/plain": [
              "<Figure size 1000x600 with 1 Axes>"
            ]
          },
          "metadata": {},
          "output_type": "display_data"
        },
        {
          "name": "stdout",
          "output_type": "stream",
          "text": [
            "grupo_edad\n",
            "80 y mas    59651\n",
            "60-64       52339\n",
            "65-69       51803\n",
            "55-59       50418\n",
            "70-74       49923\n",
            "50-54       47459\n",
            "20-24       47405\n",
            "40-44       47359\n",
            "35-39       47132\n",
            "45-49       47085\n",
            "25-29       47073\n",
            "75-79       46475\n",
            "30-34       45810\n",
            "0-4         43982\n",
            "15-19       42549\n",
            "10-14       30802\n",
            "5-9         28941\n",
            "Ignorado     2491\n",
            "Name: count, dtype: int64\n"
          ]
        },
        {
          "data": {
            "image/png": "[encoded data removed]",
            "text/plain": [
              "<Figure size 640x480 with 1 Axes>"
            ]
          },
          "metadata": {},
          "output_type": "display_data"
        },
        {
          "data": {
            "image/png": "[encoded data removed]",
            "text/plain": [
              "<Figure size 640x480 with 1 Axes>"
            ]
          },
          "metadata": {},
          "output_type": "display_data"
        }
      ],
      "source": [
        "#Base de datos egresos de hostpitales y centros de salud en las localidades de Buenos Aires Provincia\n",
        "# Graficos para completar analisis descriptivo\n",
        "sin_todos = df_pediatria[df_pediatria['causa_egreso_agrupamiento'] != 'Todos']\n",
        "\n",
        "top_20 = sin_todos['causa_egreso_agrupamiento'].value_counts().head(20)\n",
        "\n",
        "plt.figure(figsize=(10, 6))\n",
        "ax = sns.barplot(y=top_20.index, x=top_20.values, orient='h')\n",
        "ax.set_title('Top 20 Causas de Egreso')\n",
        "ax.set_xlabel('Recuento')\n",
        "ax.set_ylabel('Causa de Egreso')\n",
        "plt.show()\n",
        "\n",
        "tabla_frecuencias = df_pediatria['grupo_edad'].value_counts()\n",
        "print(tabla_frecuencias)\n",
        "\n",
        "frecuencias = df_pediatria['grupo_edad'].value_counts()\n",
        "\n",
        "#tuve que ordenar manual\n",
        "# orden_categorias = ['0-4', '5-9', '10-14', '15-19', '20-24', '25-29', '30-34', '35-39', '40-44', '45-49',\n",
        "#                     '50-54', '55-59', '60-64', '65-69', '70-74', '75-79', '80 y mas', 'Ignorado']\n",
        "\n",
        "# frecuencias_ordenadas=df_pediatria\n",
        "# frecuencias_ordenadas = frecuencias_ordenadas.reindex(orden_categorias)\n",
        "\n",
        "\n",
        "\n",
        "# plt.figure(figsize=(10, 6))\n",
        "# sns.barplot(x=frecuencias_ordenadas.index, y=frecuencias_ordenadas.values)\n",
        "# plt.title('Distribución de Edad (Ordenado)')\n",
        "# plt.xlabel('Edad')\n",
        "# plt.ylabel('Frecuencia')\n",
        "# plt.xticks(rotation=90)\n",
        "# plt.show()\n",
        "\n",
        "\n",
        "sns.countplot(data=df_pediatria_filtro_edades_todas, x='edad')\n",
        "plt.title('Distribución de Edad')\n",
        "plt.xlabel('Causa de Edad')\n",
        "plt.ylabel('Recuento')\n",
        "plt.xticks(rotation=90)\n",
        "plt.show()\n",
        "\n",
        "sns.countplot(data=df_merged2, x='municipio_nombre')\n",
        "plt.title('Distribución de Localidades')\n",
        "plt.xlabel('Localidades')\n",
        "plt.ylabel('Recuento')\n",
        "plt.xticks(rotation=90)\n",
        "plt.show()\n",
        "\n",
        "\n",
        "\n",
        "\n"
      ]
    },
    {
      "attachments": {},
      "cell_type": "markdown",
      "metadata": {
        "id": "jnFFOdyQ61Nz"
      },
      "source": [
        "#Unión de Datasets"
      ]
    },
    {
      "cell_type": "code",
      "execution_count": 123,
      "metadata": {
        "id": "OBjActxv11ae",
        "outputId": "479b8ec5-20b3-4f62-d66e-01c0a43dc3f9"
      },
      "outputs": [
        {
          "data": {
            "text/html": [
              "<div>\n",
              "<style scoped>\n",
              "    .dataframe tbody tr th:only-of-type {\n",
              "        vertical-align: middle;\n",
              "    }\n",
              "\n",
              "    .dataframe tbody tr th {\n",
              "        vertical-align: top;\n",
              "    }\n",
              "\n",
              "    .dataframe thead th {\n",
              "        text-align: right;\n",
              "    }\n",
              "</style>\n",
              "<table border=\"1\" class=\"dataframe\">\n",
              "  <thead>\n",
              "    <tr style=\"text-align: right;\">\n",
              "      <th></th>\n",
              "      <th>municipio_nombre</th>\n",
              "      <th>año</th>\n",
              "      <th>ica_verano</th>\n",
              "      <th>ica_invierno</th>\n",
              "      <th>ica_otoño</th>\n",
              "      <th>ica_primavera</th>\n",
              "      <th>promedio_icas_sin_ceros</th>\n",
              "      <th>año_estacion</th>\n",
              "      <th>edad</th>\n",
              "      <th>causa_egreso_agrupamiento</th>\n",
              "      <th>cantidad</th>\n",
              "    </tr>\n",
              "  </thead>\n",
              "  <tbody>\n",
              "    <tr>\n",
              "      <th>0</th>\n",
              "      <td>Avellaneda</td>\n",
              "      <td>2016</td>\n",
              "      <td>36.200000</td>\n",
              "      <td>36.000000</td>\n",
              "      <td>33.400000</td>\n",
              "      <td>27.400000</td>\n",
              "      <td>33.250000</td>\n",
              "      <td>2016.1</td>\n",
              "      <td>0-4</td>\n",
              "      <td>Enteritis y colitis no infecciosas</td>\n",
              "      <td>2</td>\n",
              "    </tr>\n",
              "    <tr>\n",
              "      <th>1</th>\n",
              "      <td>Avellaneda</td>\n",
              "      <td>2016</td>\n",
              "      <td>36.200000</td>\n",
              "      <td>36.000000</td>\n",
              "      <td>33.400000</td>\n",
              "      <td>27.400000</td>\n",
              "      <td>33.250000</td>\n",
              "      <td>2016.1</td>\n",
              "      <td>30-34</td>\n",
              "      <td>Enteritis y colitis no infecciosas</td>\n",
              "      <td>1</td>\n",
              "    </tr>\n",
              "    <tr>\n",
              "      <th>2</th>\n",
              "      <td>Avellaneda</td>\n",
              "      <td>2016</td>\n",
              "      <td>36.200000</td>\n",
              "      <td>36.000000</td>\n",
              "      <td>33.400000</td>\n",
              "      <td>27.400000</td>\n",
              "      <td>33.250000</td>\n",
              "      <td>2016.1</td>\n",
              "      <td>35-39</td>\n",
              "      <td>Enteritis y colitis no infecciosas</td>\n",
              "      <td>2</td>\n",
              "    </tr>\n",
              "    <tr>\n",
              "      <th>3</th>\n",
              "      <td>Avellaneda</td>\n",
              "      <td>2016</td>\n",
              "      <td>36.200000</td>\n",
              "      <td>36.000000</td>\n",
              "      <td>33.400000</td>\n",
              "      <td>27.400000</td>\n",
              "      <td>33.250000</td>\n",
              "      <td>2016.1</td>\n",
              "      <td>45-49</td>\n",
              "      <td>Enteritis y colitis no infecciosas</td>\n",
              "      <td>1</td>\n",
              "    </tr>\n",
              "    <tr>\n",
              "      <th>4</th>\n",
              "      <td>Avellaneda</td>\n",
              "      <td>2016</td>\n",
              "      <td>36.200000</td>\n",
              "      <td>36.000000</td>\n",
              "      <td>33.400000</td>\n",
              "      <td>27.400000</td>\n",
              "      <td>33.250000</td>\n",
              "      <td>2016.1</td>\n",
              "      <td>50-54</td>\n",
              "      <td>Enteritis y colitis no infecciosas</td>\n",
              "      <td>2</td>\n",
              "    </tr>\n",
              "    <tr>\n",
              "      <th>...</th>\n",
              "      <td>...</td>\n",
              "      <td>...</td>\n",
              "      <td>...</td>\n",
              "      <td>...</td>\n",
              "      <td>...</td>\n",
              "      <td>...</td>\n",
              "      <td>...</td>\n",
              "      <td>...</td>\n",
              "      <td>...</td>\n",
              "      <td>...</td>\n",
              "      <td>...</td>\n",
              "    </tr>\n",
              "    <tr>\n",
              "      <th>431</th>\n",
              "      <td>Tigre</td>\n",
              "      <td>2020</td>\n",
              "      <td>57.666667</td>\n",
              "      <td>54.444444</td>\n",
              "      <td>54.444444</td>\n",
              "      <td>51.222222</td>\n",
              "      <td>54.444444</td>\n",
              "      <td>2020.3</td>\n",
              "      <td>0-4</td>\n",
              "      <td>Enteritis y colitis no infecciosas</td>\n",
              "      <td>1</td>\n",
              "    </tr>\n",
              "    <tr>\n",
              "      <th>432</th>\n",
              "      <td>Tigre</td>\n",
              "      <td>2020</td>\n",
              "      <td>57.666667</td>\n",
              "      <td>54.444444</td>\n",
              "      <td>54.444444</td>\n",
              "      <td>51.222222</td>\n",
              "      <td>54.444444</td>\n",
              "      <td>2020.3</td>\n",
              "      <td>5-9</td>\n",
              "      <td>Enteritis y colitis no infecciosas</td>\n",
              "      <td>1</td>\n",
              "    </tr>\n",
              "    <tr>\n",
              "      <th>433</th>\n",
              "      <td>Tigre</td>\n",
              "      <td>2020</td>\n",
              "      <td>57.666667</td>\n",
              "      <td>54.444444</td>\n",
              "      <td>54.444444</td>\n",
              "      <td>51.222222</td>\n",
              "      <td>54.444444</td>\n",
              "      <td>2020.3</td>\n",
              "      <td>30-34</td>\n",
              "      <td>Enteritis y colitis no infecciosas</td>\n",
              "      <td>1</td>\n",
              "    </tr>\n",
              "    <tr>\n",
              "      <th>434</th>\n",
              "      <td>Tigre</td>\n",
              "      <td>2020</td>\n",
              "      <td>57.666667</td>\n",
              "      <td>54.444444</td>\n",
              "      <td>54.444444</td>\n",
              "      <td>51.222222</td>\n",
              "      <td>54.444444</td>\n",
              "      <td>2020.3</td>\n",
              "      <td>75-79</td>\n",
              "      <td>Enteritis y colitis no infecciosas</td>\n",
              "      <td>1</td>\n",
              "    </tr>\n",
              "    <tr>\n",
              "      <th>435</th>\n",
              "      <td>Tigre</td>\n",
              "      <td>2020</td>\n",
              "      <td>57.666667</td>\n",
              "      <td>54.444444</td>\n",
              "      <td>54.444444</td>\n",
              "      <td>51.222222</td>\n",
              "      <td>54.444444</td>\n",
              "      <td>2020.3</td>\n",
              "      <td>5-9</td>\n",
              "      <td>Enteritis y colitis no infecciosas</td>\n",
              "      <td>1</td>\n",
              "    </tr>\n",
              "  </tbody>\n",
              "</table>\n",
              "<p>436 rows × 11 columns</p>\n",
              "</div>"
            ],
            "text/plain": [
              "    municipio_nombre   año  ica_verano  ica_invierno  ica_otoño  \\\n",
              "0         Avellaneda  2016   36.200000     36.000000  33.400000   \n",
              "1         Avellaneda  2016   36.200000     36.000000  33.400000   \n",
              "2         Avellaneda  2016   36.200000     36.000000  33.400000   \n",
              "3         Avellaneda  2016   36.200000     36.000000  33.400000   \n",
              "4         Avellaneda  2016   36.200000     36.000000  33.400000   \n",
              "..               ...   ...         ...           ...        ...   \n",
              "431            Tigre  2020   57.666667     54.444444  54.444444   \n",
              "432            Tigre  2020   57.666667     54.444444  54.444444   \n",
              "433            Tigre  2020   57.666667     54.444444  54.444444   \n",
              "434            Tigre  2020   57.666667     54.444444  54.444444   \n",
              "435            Tigre  2020   57.666667     54.444444  54.444444   \n",
              "\n",
              "     ica_primavera  promedio_icas_sin_ceros año_estacion   edad  \\\n",
              "0        27.400000                33.250000       2016.1    0-4   \n",
              "1        27.400000                33.250000       2016.1  30-34   \n",
              "2        27.400000                33.250000       2016.1  35-39   \n",
              "3        27.400000                33.250000       2016.1  45-49   \n",
              "4        27.400000                33.250000       2016.1  50-54   \n",
              "..             ...                      ...          ...    ...   \n",
              "431      51.222222                54.444444       2020.3    0-4   \n",
              "432      51.222222                54.444444       2020.3    5-9   \n",
              "433      51.222222                54.444444       2020.3  30-34   \n",
              "434      51.222222                54.444444       2020.3  75-79   \n",
              "435      51.222222                54.444444       2020.3    5-9   \n",
              "\n",
              "              causa_egreso_agrupamiento  cantidad  \n",
              "0    Enteritis y colitis no infecciosas         2  \n",
              "1    Enteritis y colitis no infecciosas         1  \n",
              "2    Enteritis y colitis no infecciosas         2  \n",
              "3    Enteritis y colitis no infecciosas         1  \n",
              "4    Enteritis y colitis no infecciosas         2  \n",
              "..                                  ...       ...  \n",
              "431  Enteritis y colitis no infecciosas         1  \n",
              "432  Enteritis y colitis no infecciosas         1  \n",
              "433  Enteritis y colitis no infecciosas         1  \n",
              "434  Enteritis y colitis no infecciosas         1  \n",
              "435  Enteritis y colitis no infecciosas         1  \n",
              "\n",
              "[436 rows x 11 columns]"
            ]
          },
          "execution_count": 123,
          "metadata": {},
          "output_type": "execute_result"
        }
      ],
      "source": [
        "df_merged = pd.merge(df_agua_filtro, df_pediatria_filtro, on=['municipio_nombre', 'año'])\n",
        "df_merged2 = pd.merge(df_agua_filtro, df_pediatria_filtro_edades_todas, on=['municipio_nombre', 'año'])\n",
        "\n",
        "df_merged_2016_2020=df_merged.query(\"año >= 2016 and año <= 2020\")\n",
        "df_merged2"
      ]
    },
    {
      "attachments": {},
      "cell_type": "markdown",
      "metadata": {},
      "source": [
        "Busqueda de la Relación edad-Enteritis colitis"
      ]
    },
    {
      "cell_type": "code",
      "execution_count": 115,
      "metadata": {
        "id": "6aGzy7Nz11af",
        "outputId": "c8b86a0b-5393-4210-d1cd-a22cee15c6ca"
      },
      "outputs": [
        {
          "data": {
            "application/vnd.plotly.v1+json": {
              "config": {
                "plotlyServerURL": "https://plot.ly"
              },
              "data": [
                {
                  "alignmentgroup": "True",
                  "boxpoints": "all",
                  "hovertemplate": "edad=%{x}<br>cantidad=%{y}<extra></extra>",
                  "legendgroup": "",
                  "marker": {
                    "color": "#636efa"
                  },
                  "name": "",
                  "notched": false,
                  "offsetgroup": "",
                  "orientation": "v",
                  "showlegend": false,
                  "type": "box",
                  "x": [
                    "0-4",
                    "30-34",
                    "35-39",
                    "45-49",
                    "50-54",
                    "55-59",
                    "0-4",
                    "10-14",
                    "30-34",
                    "35-39",
                    "40-44",
                    "45-49",
                    "5-9",
                    "50-54",
                    "55-59",
                    "60-64",
                    "65-69",
                    "75-79",
                    "80 y mas",
                    "0-4",
                    "40-44",
                    "60-64",
                    "65-69",
                    "0-4",
                    "40-44",
                    "0-4",
                    "15-19",
                    "20-24",
                    "35-39",
                    "5-9",
                    "50-54",
                    "60-64",
                    "70-74",
                    "10-14",
                    "35-39",
                    "75-79",
                    "30-34",
                    "0-4",
                    "15-19",
                    "50-54",
                    "55-59",
                    "65-69",
                    "70-74",
                    "80 y mas",
                    "0-4",
                    "25-29",
                    "40-44",
                    "55-59",
                    "60-64",
                    "25-29",
                    "55-59",
                    "0-4",
                    "20-24",
                    "25-29",
                    "30-34",
                    "35-39",
                    "55-59",
                    "0-4",
                    "35-39",
                    "5-9",
                    "0-4",
                    "40-44",
                    "0-4",
                    "30-34",
                    "5-9",
                    "25-29",
                    "5-9",
                    "65-69",
                    "0-4",
                    "10-14",
                    "35-39",
                    "5-9",
                    "50-54",
                    "0-4",
                    "15-19",
                    "25-29",
                    "40-44",
                    "5-9",
                    "60-64",
                    "80 y mas",
                    "15-19",
                    "30-34",
                    "30-34",
                    "45-49",
                    "70-74",
                    "0-4",
                    "0-4",
                    "0-4",
                    "0-4",
                    "0-4",
                    "0-4",
                    "10-14",
                    "5-9",
                    "20-24",
                    "0-4",
                    "15-19",
                    "30-34",
                    "40-44",
                    "45-49",
                    "5-9",
                    "45-49",
                    "0-4",
                    "65-69",
                    "30-34",
                    "40-44",
                    "45-49",
                    "5-9",
                    "0-4",
                    "60-64",
                    "0-4",
                    "5-9",
                    "0-4",
                    "15-19",
                    "20-24",
                    "30-34",
                    "35-39",
                    "40-44",
                    "45-49",
                    "5-9",
                    "0-4",
                    "0-4",
                    "15-19",
                    "20-24",
                    "25-29",
                    "35-39",
                    "5-9",
                    "50-54",
                    "60-64",
                    "65-69",
                    "80 y mas",
                    "50-54",
                    "0-4",
                    "10-14",
                    "20-24",
                    "30-34",
                    "5-9",
                    "0-4",
                    "10-14",
                    "15-19",
                    "25-29",
                    "5-9",
                    "60-64",
                    "65-69",
                    "0-4",
                    "20-24",
                    "35-39",
                    "45-49",
                    "5-9",
                    "50-54",
                    "55-59",
                    "60-64",
                    "65-69",
                    "0-4",
                    "10-14",
                    "15-19",
                    "20-24",
                    "25-29",
                    "30-34",
                    "35-39",
                    "40-44",
                    "5-9",
                    "70-74",
                    "75-79",
                    "0-4",
                    "10-14",
                    "15-19",
                    "20-24",
                    "25-29",
                    "30-34",
                    "35-39",
                    "40-44",
                    "45-49",
                    "5-9",
                    "50-54",
                    "60-64",
                    "65-69",
                    "70-74",
                    "80 y mas",
                    "60-64",
                    "0-4",
                    "10-14",
                    "15-19",
                    "20-24",
                    "25-29",
                    "30-34",
                    "35-39",
                    "40-44",
                    "45-49",
                    "5-9",
                    "50-54",
                    "55-59",
                    "60-64",
                    "0-4",
                    "10-14",
                    "15-19",
                    "20-24",
                    "25-29",
                    "30-34",
                    "35-39",
                    "40-44",
                    "45-49",
                    "5-9",
                    "50-54",
                    "55-59",
                    "60-64",
                    "5-9",
                    "0-4",
                    "15-19",
                    "20-24",
                    "25-29",
                    "30-34",
                    "35-39",
                    "40-44",
                    "45-49",
                    "5-9",
                    "50-54",
                    "55-59",
                    "60-64",
                    "0-4",
                    "35-39",
                    "0-4",
                    "20-24",
                    "30-34",
                    "45-49",
                    "5-9",
                    "55-59",
                    "60-64",
                    "75-79",
                    "0-4",
                    "10-14",
                    "15-19",
                    "20-24",
                    "25-29",
                    "30-34",
                    "35-39",
                    "40-44",
                    "45-49",
                    "5-9",
                    "50-54",
                    "55-59",
                    "70-74",
                    "75-79",
                    "80 y mas",
                    "0-4",
                    "15-19",
                    "45-49",
                    "65-69",
                    "80 y mas",
                    "10-14",
                    "0-4",
                    "10-14",
                    "20-24",
                    "25-29",
                    "30-34",
                    "35-39",
                    "40-44",
                    "45-49",
                    "5-9",
                    "50-54",
                    "0-4",
                    "10-14",
                    "15-19",
                    "20-24",
                    "25-29",
                    "35-39",
                    "5-9",
                    "50-54",
                    "55-59",
                    "80 y mas",
                    "0-4",
                    "15-19",
                    "30-34",
                    "40-44",
                    "45-49",
                    "5-9",
                    "60-64",
                    "70-74",
                    "80 y mas",
                    "10-14",
                    "80 y mas",
                    "0-4",
                    "10-14",
                    "15-19",
                    "45-49",
                    "5-9",
                    "55-59",
                    "70-74",
                    "0-4",
                    "10-14",
                    "15-19",
                    "5-9",
                    "50-54",
                    "55-59",
                    "50-54",
                    "0-4",
                    "10-14",
                    "15-19",
                    "20-24",
                    "35-39",
                    "45-49",
                    "5-9",
                    "50-54",
                    "0-4",
                    "10-14",
                    "15-19",
                    "20-24",
                    "25-29",
                    "30-34",
                    "40-44",
                    "45-49",
                    "5-9",
                    "0-4",
                    "20-24",
                    "25-29",
                    "35-39",
                    "50-54",
                    "55-59",
                    "60-64",
                    "80 y mas",
                    "20-24",
                    "30-34",
                    "50-54",
                    "60-64",
                    "75-79",
                    "0-4",
                    "10-14",
                    "15-19",
                    "20-24",
                    "25-29",
                    "30-34",
                    "5-9",
                    "65-69",
                    "0-4",
                    "15-19",
                    "20-24",
                    "25-29",
                    "5-9",
                    "50-54",
                    "60-64",
                    "0-4",
                    "10-14",
                    "35-39",
                    "40-44",
                    "75-79",
                    "50-54",
                    "0-4",
                    "10-14",
                    "35-39",
                    "5-9",
                    "50-54",
                    "55-59",
                    "0-4",
                    "10-14",
                    "15-19",
                    "20-24",
                    "25-29",
                    "30-34",
                    "35-39",
                    "40-44",
                    "45-49",
                    "5-9",
                    "50-54",
                    "55-59",
                    "60-64",
                    "65-69",
                    "70-74",
                    "80 y mas",
                    "10-14",
                    "75-79",
                    "0-4",
                    "5-9",
                    "0-4",
                    "25-29",
                    "0-4",
                    "10-14",
                    "15-19",
                    "20-24",
                    "25-29",
                    "30-34",
                    "35-39",
                    "40-44",
                    "45-49",
                    "5-9",
                    "50-54",
                    "55-59",
                    "60-64",
                    "65-69",
                    "70-74",
                    "75-79",
                    "80 y mas",
                    "5-9",
                    "25-29",
                    "0-4",
                    "10-14",
                    "15-19",
                    "20-24",
                    "25-29",
                    "30-34",
                    "35-39",
                    "40-44",
                    "45-49",
                    "5-9",
                    "50-54",
                    "55-59",
                    "60-64",
                    "65-69",
                    "70-74",
                    "75-79",
                    "80 y mas",
                    "0-4",
                    "15-19",
                    "25-29",
                    "40-44",
                    "0-4",
                    "10-14",
                    "15-19",
                    "20-24",
                    "25-29",
                    "30-34",
                    "35-39",
                    "40-44",
                    "45-49",
                    "5-9",
                    "50-54",
                    "55-59",
                    "60-64",
                    "65-69",
                    "70-74",
                    "75-79",
                    "80 y mas",
                    "45-49",
                    "0-4",
                    "5-9",
                    "30-34",
                    "75-79",
                    "5-9"
                  ],
                  "x0": " ",
                  "xaxis": "x",
                  "y": [
                    2,
                    1,
                    2,
                    1,
                    2,
                    2,
                    2,
                    1,
                    1,
                    1,
                    2,
                    1,
                    1,
                    2,
                    1,
                    2,
                    3,
                    2,
                    1,
                    3,
                    1,
                    1,
                    2,
                    3,
                    2,
                    1,
                    1,
                    1,
                    1,
                    1,
                    1,
                    2,
                    1,
                    2,
                    1,
                    1,
                    1,
                    1,
                    1,
                    1,
                    2,
                    1,
                    1,
                    1,
                    1,
                    2,
                    1,
                    1,
                    3,
                    1,
                    2,
                    1,
                    1,
                    1,
                    2,
                    1,
                    1,
                    9,
                    1,
                    1,
                    4,
                    2,
                    7,
                    1,
                    4,
                    1,
                    2,
                    1,
                    6,
                    1,
                    1,
                    3,
                    1,
                    6,
                    1,
                    1,
                    1,
                    1,
                    1,
                    1,
                    1,
                    1,
                    1,
                    1,
                    1,
                    4,
                    1,
                    3,
                    1,
                    3,
                    10,
                    1,
                    1,
                    1,
                    10,
                    1,
                    1,
                    1,
                    2,
                    4,
                    1,
                    6,
                    1,
                    1,
                    1,
                    1,
                    1,
                    1,
                    1,
                    2,
                    2,
                    4,
                    1,
                    1,
                    1,
                    1,
                    1,
                    1,
                    1,
                    1,
                    2,
                    2,
                    2,
                    1,
                    2,
                    1,
                    1,
                    1,
                    1,
                    1,
                    1,
                    14,
                    1,
                    1,
                    2,
                    4,
                    11,
                    2,
                    1,
                    2,
                    7,
                    1,
                    1,
                    6,
                    1,
                    2,
                    2,
                    2,
                    1,
                    1,
                    2,
                    2,
                    3,
                    1,
                    1,
                    1,
                    1,
                    1,
                    2,
                    1,
                    1,
                    1,
                    1,
                    8,
                    1,
                    4,
                    3,
                    4,
                    3,
                    1,
                    1,
                    3,
                    3,
                    3,
                    3,
                    2,
                    1,
                    1,
                    1,
                    9,
                    6,
                    6,
                    5,
                    9,
                    5,
                    4,
                    3,
                    1,
                    6,
                    2,
                    5,
                    1,
                    16,
                    2,
                    3,
                    4,
                    4,
                    6,
                    2,
                    6,
                    5,
                    4,
                    1,
                    1,
                    1,
                    1,
                    7,
                    9,
                    8,
                    11,
                    6,
                    8,
                    1,
                    2,
                    4,
                    3,
                    1,
                    3,
                    1,
                    1,
                    2,
                    3,
                    1,
                    1,
                    2,
                    2,
                    1,
                    1,
                    2,
                    2,
                    2,
                    1,
                    2,
                    2,
                    2,
                    3,
                    2,
                    2,
                    4,
                    2,
                    2,
                    1,
                    1,
                    19,
                    2,
                    1,
                    1,
                    1,
                    1,
                    9,
                    11,
                    3,
                    3,
                    1,
                    1,
                    1,
                    1,
                    2,
                    3,
                    17,
                    3,
                    4,
                    2,
                    1,
                    3,
                    7,
                    1,
                    1,
                    1,
                    13,
                    10,
                    1,
                    1,
                    1,
                    5,
                    1,
                    1,
                    1,
                    1,
                    1,
                    26,
                    1,
                    4,
                    1,
                    13,
                    1,
                    1,
                    25,
                    5,
                    3,
                    13,
                    2,
                    1,
                    1,
                    30,
                    7,
                    1,
                    2,
                    1,
                    1,
                    13,
                    1,
                    37,
                    4,
                    5,
                    2,
                    1,
                    1,
                    1,
                    3,
                    15,
                    1,
                    1,
                    1,
                    1,
                    1,
                    1,
                    1,
                    1,
                    1,
                    1,
                    1,
                    1,
                    1,
                    6,
                    1,
                    1,
                    1,
                    1,
                    1,
                    4,
                    2,
                    2,
                    1,
                    1,
                    2,
                    1,
                    2,
                    1,
                    6,
                    1,
                    1,
                    1,
                    1,
                    1,
                    5,
                    1,
                    1,
                    3,
                    1,
                    1,
                    31,
                    14,
                    11,
                    15,
                    13,
                    3,
                    9,
                    8,
                    8,
                    22,
                    5,
                    5,
                    2,
                    1,
                    2,
                    2,
                    1,
                    1,
                    1,
                    1,
                    2,
                    1,
                    27,
                    10,
                    7,
                    19,
                    14,
                    22,
                    13,
                    7,
                    9,
                    20,
                    13,
                    12,
                    5,
                    2,
                    2,
                    2,
                    1,
                    1,
                    1,
                    37,
                    14,
                    13,
                    22,
                    17,
                    18,
                    16,
                    10,
                    10,
                    25,
                    6,
                    6,
                    4,
                    2,
                    3,
                    1,
                    1,
                    1,
                    1,
                    1,
                    1,
                    27,
                    18,
                    26,
                    27,
                    31,
                    28,
                    12,
                    18,
                    18,
                    18,
                    7,
                    10,
                    5,
                    7,
                    11,
                    6,
                    1,
                    2,
                    1,
                    1,
                    1,
                    1,
                    1
                  ],
                  "y0": " ",
                  "yaxis": "y"
                }
              ],
              "layout": {
                "boxmode": "group",
                "legend": {
                  "tracegroupgap": 0
                },
                "margin": {
                  "t": 60
                },
                "template": {
                  "data": {
                    "bar": [
                      {
                        "error_x": {
                          "color": "#2a3f5f"
                        },
                        "error_y": {
                          "color": "#2a3f5f"
                        },
                        "marker": {
                          "line": {
                            "color": "#E5ECF6",
                            "width": 0.5
                          },
                          "pattern": {
                            "fillmode": "overlay",
                            "size": 10,
                            "solidity": 0.2
                          }
                        },
                        "type": "bar"
                      }
                    ],
                    "barpolar": [
                      {
                        "marker": {
                          "line": {
                            "color": "#E5ECF6",
                            "width": 0.5
                          },
                          "pattern": {
                            "fillmode": "overlay",
                            "size": 10,
                            "solidity": 0.2
                          }
                        },
                        "type": "barpolar"
                      }
                    ],
                    "carpet": [
                      {
                        "aaxis": {
                          "endlinecolor": "#2a3f5f",
                          "gridcolor": "white",
                          "linecolor": "white",
                          "minorgridcolor": "white",
                          "startlinecolor": "#2a3f5f"
                        },
                        "baxis": {
                          "endlinecolor": "#2a3f5f",
                          "gridcolor": "white",
                          "linecolor": "white",
                          "minorgridcolor": "white",
                          "startlinecolor": "#2a3f5f"
                        },
                        "type": "carpet"
                      }
                    ],
                    "choropleth": [
                      {
                        "colorbar": {
                          "outlinewidth": 0,
                          "ticks": ""
                        },
                        "type": "choropleth"
                      }
                    ],
                    "contour": [
                      {
                        "colorbar": {
                          "outlinewidth": 0,
                          "ticks": ""
                        },
                        "colorscale": [
                          [
                            0,
                            "#0d0887"
                          ],
                          [
                            0.1111111111111111,
                            "#46039f"
                          ],
                          [
                            0.2222222222222222,
                            "#7201a8"
                          ],
                          [
                            0.3333333333333333,
                            "#9c179e"
                          ],
                          [
                            0.4444444444444444,
                            "#bd3786"
                          ],
                          [
                            0.5555555555555556,
                            "#d8576b"
                          ],
                          [
                            0.6666666666666666,
                            "#ed7953"
                          ],
                          [
                            0.7777777777777778,
                            "#fb9f3a"
                          ],
                          [
                            0.8888888888888888,
                            "#fdca26"
                          ],
                          [
                            1,
                            "#f0f921"
                          ]
                        ],
                        "type": "contour"
                      }
                    ],
                    "contourcarpet": [
                      {
                        "colorbar": {
                          "outlinewidth": 0,
                          "ticks": ""
                        },
                        "type": "contourcarpet"
                      }
                    ],
                    "heatmap": [
                      {
                        "colorbar": {
                          "outlinewidth": 0,
                          "ticks": ""
                        },
                        "colorscale": [
                          [
                            0,
                            "#0d0887"
                          ],
                          [
                            0.1111111111111111,
                            "#46039f"
                          ],
                          [
                            0.2222222222222222,
                            "#7201a8"
                          ],
                          [
                            0.3333333333333333,
                            "#9c179e"
                          ],
                          [
                            0.4444444444444444,
                            "#bd3786"
                          ],
                          [
                            0.5555555555555556,
                            "#d8576b"
                          ],
                          [
                            0.6666666666666666,
                            "#ed7953"
                          ],
                          [
                            0.7777777777777778,
                            "#fb9f3a"
                          ],
                          [
                            0.8888888888888888,
                            "#fdca26"
                          ],
                          [
                            1,
                            "#f0f921"
                          ]
                        ],
                        "type": "heatmap"
                      }
                    ],
                    "heatmapgl": [
                      {
                        "colorbar": {
                          "outlinewidth": 0,
                          "ticks": ""
                        },
                        "colorscale": [
                          [
                            0,
                            "#0d0887"
                          ],
                          [
                            0.1111111111111111,
                            "#46039f"
                          ],
                          [
                            0.2222222222222222,
                            "#7201a8"
                          ],
                          [
                            0.3333333333333333,
                            "#9c179e"
                          ],
                          [
                            0.4444444444444444,
                            "#bd3786"
                          ],
                          [
                            0.5555555555555556,
                            "#d8576b"
                          ],
                          [
                            0.6666666666666666,
                            "#ed7953"
                          ],
                          [
                            0.7777777777777778,
                            "#fb9f3a"
                          ],
                          [
                            0.8888888888888888,
                            "#fdca26"
                          ],
                          [
                            1,
                            "#f0f921"
                          ]
                        ],
                        "type": "heatmapgl"
                      }
                    ],
                    "histogram": [
                      {
                        "marker": {
                          "pattern": {
                            "fillmode": "overlay",
                            "size": 10,
                            "solidity": 0.2
                          }
                        },
                        "type": "histogram"
                      }
                    ],
                    "histogram2d": [
                      {
                        "colorbar": {
                          "outlinewidth": 0,
                          "ticks": ""
                        },
                        "colorscale": [
                          [
                            0,
                            "#0d0887"
                          ],
                          [
                            0.1111111111111111,
                            "#46039f"
                          ],
                          [
                            0.2222222222222222,
                            "#7201a8"
                          ],
                          [
                            0.3333333333333333,
                            "#9c179e"
                          ],
                          [
                            0.4444444444444444,
                            "#bd3786"
                          ],
                          [
                            0.5555555555555556,
                            "#d8576b"
                          ],
                          [
                            0.6666666666666666,
                            "#ed7953"
                          ],
                          [
                            0.7777777777777778,
                            "#fb9f3a"
                          ],
                          [
                            0.8888888888888888,
                            "#fdca26"
                          ],
                          [
                            1,
                            "#f0f921"
                          ]
                        ],
                        "type": "histogram2d"
                      }
                    ],
                    "histogram2dcontour": [
                      {
                        "colorbar": {
                          "outlinewidth": 0,
                          "ticks": ""
                        },
                        "colorscale": [
                          [
                            0,
                            "#0d0887"
                          ],
                          [
                            0.1111111111111111,
                            "#46039f"
                          ],
                          [
                            0.2222222222222222,
                            "#7201a8"
                          ],
                          [
                            0.3333333333333333,
                            "#9c179e"
                          ],
                          [
                            0.4444444444444444,
                            "#bd3786"
                          ],
                          [
                            0.5555555555555556,
                            "#d8576b"
                          ],
                          [
                            0.6666666666666666,
                            "#ed7953"
                          ],
                          [
                            0.7777777777777778,
                            "#fb9f3a"
                          ],
                          [
                            0.8888888888888888,
                            "#fdca26"
                          ],
                          [
                            1,
                            "#f0f921"
                          ]
                        ],
                        "type": "histogram2dcontour"
                      }
                    ],
                    "mesh3d": [
                      {
                        "colorbar": {
                          "outlinewidth": 0,
                          "ticks": ""
                        },
                        "type": "mesh3d"
                      }
                    ],
                    "parcoords": [
                      {
                        "line": {
                          "colorbar": {
                            "outlinewidth": 0,
                            "ticks": ""
                          }
                        },
                        "type": "parcoords"
                      }
                    ],
                    "pie": [
                      {
                        "automargin": true,
                        "type": "pie"
                      }
                    ],
                    "scatter": [
                      {
                        "fillpattern": {
                          "fillmode": "overlay",
                          "size": 10,
                          "solidity": 0.2
                        },
                        "type": "scatter"
                      }
                    ],
                    "scatter3d": [
                      {
                        "line": {
                          "colorbar": {
                            "outlinewidth": 0,
                            "ticks": ""
                          }
                        },
                        "marker": {
                          "colorbar": {
                            "outlinewidth": 0,
                            "ticks": ""
                          }
                        },
                        "type": "scatter3d"
                      }
                    ],
                    "scattercarpet": [
                      {
                        "marker": {
                          "colorbar": {
                            "outlinewidth": 0,
                            "ticks": ""
                          }
                        },
                        "type": "scattercarpet"
                      }
                    ],
                    "scattergeo": [
                      {
                        "marker": {
                          "colorbar": {
                            "outlinewidth": 0,
                            "ticks": ""
                          }
                        },
                        "type": "scattergeo"
                      }
                    ],
                    "scattergl": [
                      {
                        "marker": {
                          "colorbar": {
                            "outlinewidth": 0,
                            "ticks": ""
                          }
                        },
                        "type": "scattergl"
                      }
                    ],
                    "scattermapbox": [
                      {
                        "marker": {
                          "colorbar": {
                            "outlinewidth": 0,
                            "ticks": ""
                          }
                        },
                        "type": "scattermapbox"
                      }
                    ],
                    "scatterpolar": [
                      {
                        "marker": {
                          "colorbar": {
                            "outlinewidth": 0,
                            "ticks": ""
                          }
                        },
                        "type": "scatterpolar"
                      }
                    ],
                    "scatterpolargl": [
                      {
                        "marker": {
                          "colorbar": {
                            "outlinewidth": 0,
                            "ticks": ""
                          }
                        },
                        "type": "scatterpolargl"
                      }
                    ],
                    "scatterternary": [
                      {
                        "marker": {
                          "colorbar": {
                            "outlinewidth": 0,
                            "ticks": ""
                          }
                        },
                        "type": "scatterternary"
                      }
                    ],
                    "surface": [
                      {
                        "colorbar": {
                          "outlinewidth": 0,
                          "ticks": ""
                        },
                        "colorscale": [
                          [
                            0,
                            "#0d0887"
                          ],
                          [
                            0.1111111111111111,
                            "#46039f"
                          ],
                          [
                            0.2222222222222222,
                            "#7201a8"
                          ],
                          [
                            0.3333333333333333,
                            "#9c179e"
                          ],
                          [
                            0.4444444444444444,
                            "#bd3786"
                          ],
                          [
                            0.5555555555555556,
                            "#d8576b"
                          ],
                          [
                            0.6666666666666666,
                            "#ed7953"
                          ],
                          [
                            0.7777777777777778,
                            "#fb9f3a"
                          ],
                          [
                            0.8888888888888888,
                            "#fdca26"
                          ],
                          [
                            1,
                            "#f0f921"
                          ]
                        ],
                        "type": "surface"
                      }
                    ],
                    "table": [
                      {
                        "cells": {
                          "fill": {
                            "color": "#EBF0F8"
                          },
                          "line": {
                            "color": "white"
                          }
                        },
                        "header": {
                          "fill": {
                            "color": "#C8D4E3"
                          },
                          "line": {
                            "color": "white"
                          }
                        },
                        "type": "table"
                      }
                    ]
                  },
                  "layout": {
                    "annotationdefaults": {
                      "arrowcolor": "#2a3f5f",
                      "arrowhead": 0,
                      "arrowwidth": 1
                    },
                    "autotypenumbers": "strict",
                    "coloraxis": {
                      "colorbar": {
                        "outlinewidth": 0,
                        "ticks": ""
                      }
                    },
                    "colorscale": {
                      "diverging": [
                        [
                          0,
                          "#8e0152"
                        ],
                        [
                          0.1,
                          "#c51b7d"
                        ],
                        [
                          0.2,
                          "#de77ae"
                        ],
                        [
                          0.3,
                          "#f1b6da"
                        ],
                        [
                          0.4,
                          "#fde0ef"
                        ],
                        [
                          0.5,
                          "#f7f7f7"
                        ],
                        [
                          0.6,
                          "#e6f5d0"
                        ],
                        [
                          0.7,
                          "#b8e186"
                        ],
                        [
                          0.8,
                          "#7fbc41"
                        ],
                        [
                          0.9,
                          "#4d9221"
                        ],
                        [
                          1,
                          "#276419"
                        ]
                      ],
                      "sequential": [
                        [
                          0,
                          "#0d0887"
                        ],
                        [
                          0.1111111111111111,
                          "#46039f"
                        ],
                        [
                          0.2222222222222222,
                          "#7201a8"
                        ],
                        [
                          0.3333333333333333,
                          "#9c179e"
                        ],
                        [
                          0.4444444444444444,
                          "#bd3786"
                        ],
                        [
                          0.5555555555555556,
                          "#d8576b"
                        ],
                        [
                          0.6666666666666666,
                          "#ed7953"
                        ],
                        [
                          0.7777777777777778,
                          "#fb9f3a"
                        ],
                        [
                          0.8888888888888888,
                          "#fdca26"
                        ],
                        [
                          1,
                          "#f0f921"
                        ]
                      ],
                      "sequentialminus": [
                        [
                          0,
                          "#0d0887"
                        ],
                        [
                          0.1111111111111111,
                          "#46039f"
                        ],
                        [
                          0.2222222222222222,
                          "#7201a8"
                        ],
                        [
                          0.3333333333333333,
                          "#9c179e"
                        ],
                        [
                          0.4444444444444444,
                          "#bd3786"
                        ],
                        [
                          0.5555555555555556,
                          "#d8576b"
                        ],
                        [
                          0.6666666666666666,
                          "#ed7953"
                        ],
                        [
                          0.7777777777777778,
                          "#fb9f3a"
                        ],
                        [
                          0.8888888888888888,
                          "#fdca26"
                        ],
                        [
                          1,
                          "#f0f921"
                        ]
                      ]
                    },
                    "colorway": [
                      "#636efa",
                      "#EF553B",
                      "#00cc96",
                      "#ab63fa",
                      "#FFA15A",
                      "#19d3f3",
                      "#FF6692",
                      "#B6E880",
                      "#FF97FF",
                      "#FECB52"
                    ],
                    "font": {
                      "color": "#2a3f5f"
                    },
                    "geo": {
                      "bgcolor": "white",
                      "lakecolor": "white",
                      "landcolor": "#E5ECF6",
                      "showlakes": true,
                      "showland": true,
                      "subunitcolor": "white"
                    },
                    "hoverlabel": {
                      "align": "left"
                    },
                    "hovermode": "closest",
                    "mapbox": {
                      "style": "light"
                    },
                    "paper_bgcolor": "white",
                    "plot_bgcolor": "#E5ECF6",
                    "polar": {
                      "angularaxis": {
                        "gridcolor": "white",
                        "linecolor": "white",
                        "ticks": ""
                      },
                      "bgcolor": "#E5ECF6",
                      "radialaxis": {
                        "gridcolor": "white",
                        "linecolor": "white",
                        "ticks": ""
                      }
                    },
                    "scene": {
                      "xaxis": {
                        "backgroundcolor": "#E5ECF6",
                        "gridcolor": "white",
                        "gridwidth": 2,
                        "linecolor": "white",
                        "showbackground": true,
                        "ticks": "",
                        "zerolinecolor": "white"
                      },
                      "yaxis": {
                        "backgroundcolor": "#E5ECF6",
                        "gridcolor": "white",
                        "gridwidth": 2,
                        "linecolor": "white",
                        "showbackground": true,
                        "ticks": "",
                        "zerolinecolor": "white"
                      },
                      "zaxis": {
                        "backgroundcolor": "#E5ECF6",
                        "gridcolor": "white",
                        "gridwidth": 2,
                        "linecolor": "white",
                        "showbackground": true,
                        "ticks": "",
                        "zerolinecolor": "white"
                      }
                    },
                    "shapedefaults": {
                      "line": {
                        "color": "#2a3f5f"
                      }
                    },
                    "ternary": {
                      "aaxis": {
                        "gridcolor": "white",
                        "linecolor": "white",
                        "ticks": ""
                      },
                      "baxis": {
                        "gridcolor": "white",
                        "linecolor": "white",
                        "ticks": ""
                      },
                      "bgcolor": "#E5ECF6",
                      "caxis": {
                        "gridcolor": "white",
                        "linecolor": "white",
                        "ticks": ""
                      }
                    },
                    "title": {
                      "x": 0.05
                    },
                    "xaxis": {
                      "automargin": true,
                      "gridcolor": "white",
                      "linecolor": "white",
                      "ticks": "",
                      "title": {
                        "standoff": 15
                      },
                      "zerolinecolor": "white",
                      "zerolinewidth": 2
                    },
                    "yaxis": {
                      "automargin": true,
                      "gridcolor": "white",
                      "linecolor": "white",
                      "ticks": "",
                      "title": {
                        "standoff": 15
                      },
                      "zerolinecolor": "white",
                      "zerolinewidth": 2
                    }
                  }
                },
                "xaxis": {
                  "anchor": "y",
                  "domain": [
                    0,
                    1
                  ],
                  "title": {
                    "text": "edad"
                  }
                },
                "yaxis": {
                  "anchor": "x",
                  "domain": [
                    0,
                    1
                  ],
                  "title": {
                    "text": "cantidad"
                  }
                }
              }
            }
          },
          "metadata": {},
          "output_type": "display_data"
        },
        {
          "data": {
            "application/vnd.plotly.v1+json": {
              "config": {
                "plotlyServerURL": "https://plot.ly"
              },
              "data": [
                {
                  "alignmentgroup": "True",
                  "boxpoints": "all",
                  "hovertemplate": "municipio_nombre=%{x}<br>cantidad=%{y}<extra></extra>",
                  "legendgroup": "",
                  "marker": {
                    "color": "#636efa"
                  },
                  "name": "",
                  "notched": false,
                  "offsetgroup": "",
                  "orientation": "v",
                  "showlegend": false,
                  "type": "box",
                  "x": [
                    "Avellaneda",
                    "Avellaneda",
                    "Avellaneda",
                    "Avellaneda",
                    "Avellaneda",
                    "Avellaneda",
                    "Avellaneda",
                    "Avellaneda",
                    "Avellaneda",
                    "Avellaneda",
                    "Avellaneda",
                    "Avellaneda",
                    "Avellaneda",
                    "Avellaneda",
                    "Avellaneda",
                    "Avellaneda",
                    "Avellaneda",
                    "Avellaneda",
                    "Avellaneda",
                    "Avellaneda",
                    "Avellaneda",
                    "Avellaneda",
                    "Avellaneda",
                    "Avellaneda",
                    "Avellaneda",
                    "Avellaneda",
                    "Avellaneda",
                    "Avellaneda",
                    "Avellaneda",
                    "Avellaneda",
                    "Avellaneda",
                    "Avellaneda",
                    "Avellaneda",
                    "Avellaneda",
                    "Avellaneda",
                    "Avellaneda",
                    "Avellaneda",
                    "Avellaneda",
                    "Avellaneda",
                    "Avellaneda",
                    "Avellaneda",
                    "Avellaneda",
                    "Avellaneda",
                    "Avellaneda",
                    "Avellaneda",
                    "Avellaneda",
                    "Avellaneda",
                    "Avellaneda",
                    "Avellaneda",
                    "Avellaneda",
                    "Avellaneda",
                    "Avellaneda",
                    "Avellaneda",
                    "Avellaneda",
                    "Avellaneda",
                    "Berazategui",
                    "Berazategui",
                    "Berazategui",
                    "Berazategui",
                    "Berazategui",
                    "Berazategui",
                    "Berazategui",
                    "Berazategui",
                    "Berazategui",
                    "Berazategui",
                    "Berazategui",
                    "Berazategui",
                    "Berazategui",
                    "Berazategui",
                    "Berazategui",
                    "Berazategui",
                    "Berazategui",
                    "Berazategui",
                    "Berazategui",
                    "Berazategui",
                    "Berazategui",
                    "Berazategui",
                    "Berazategui",
                    "Berazategui",
                    "Berazategui",
                    "Berisso",
                    "Berisso",
                    "Ensenada",
                    "Ensenada",
                    "Ensenada",
                    "Quilmes",
                    "Quilmes",
                    "Quilmes",
                    "Quilmes",
                    "Quilmes",
                    "Quilmes",
                    "Quilmes",
                    "Quilmes",
                    "Quilmes",
                    "Quilmes",
                    "Quilmes",
                    "Quilmes",
                    "Quilmes",
                    "Quilmes",
                    "Quilmes",
                    "Quilmes",
                    "Quilmes",
                    "Quilmes",
                    "Quilmes",
                    "Quilmes",
                    "Quilmes",
                    "Quilmes",
                    "Quilmes",
                    "Quilmes",
                    "Quilmes",
                    "Quilmes",
                    "San Fernando",
                    "San Fernando",
                    "San Fernando",
                    "San Fernando",
                    "San Fernando",
                    "San Fernando",
                    "San Fernando",
                    "San Fernando",
                    "San Fernando",
                    "San Fernando",
                    "San Fernando",
                    "San Fernando",
                    "San Fernando",
                    "San Fernando",
                    "San Fernando",
                    "San Fernando",
                    "San Fernando",
                    "San Fernando",
                    "San Fernando",
                    "San Fernando",
                    "San Fernando",
                    "San Fernando",
                    "San Fernando",
                    "San Fernando",
                    "San Fernando",
                    "San Fernando",
                    "San Fernando",
                    "San Fernando",
                    "San Fernando",
                    "San Fernando",
                    "San Fernando",
                    "San Fernando",
                    "San Fernando",
                    "San Fernando",
                    "San Fernando",
                    "San Fernando",
                    "San Fernando",
                    "San Fernando",
                    "San Fernando",
                    "San Fernando",
                    "San Fernando",
                    "San Fernando",
                    "San Fernando",
                    "San Fernando",
                    "San Fernando",
                    "San Fernando",
                    "San Fernando",
                    "San Fernando",
                    "San Fernando",
                    "San Fernando",
                    "San Fernando",
                    "San Fernando",
                    "San Fernando",
                    "San Fernando",
                    "San Fernando",
                    "San Fernando",
                    "San Fernando",
                    "San Fernando",
                    "San Fernando",
                    "San Fernando",
                    "San Fernando",
                    "San Fernando",
                    "San Fernando",
                    "San Fernando",
                    "San Fernando",
                    "San Fernando",
                    "San Fernando",
                    "San Fernando",
                    "San Fernando",
                    "San Fernando",
                    "San Fernando",
                    "San Fernando",
                    "San Fernando",
                    "San Fernando",
                    "San Fernando",
                    "San Fernando",
                    "San Fernando",
                    "San Fernando",
                    "San Fernando",
                    "San Fernando",
                    "San Fernando",
                    "San Fernando",
                    "San Fernando",
                    "San Fernando",
                    "San Fernando",
                    "San Fernando",
                    "San Fernando",
                    "San Fernando",
                    "San Fernando",
                    "San Fernando",
                    "San Fernando",
                    "San Fernando",
                    "San Fernando",
                    "San Fernando",
                    "San Fernando",
                    "San Fernando",
                    "San Fernando",
                    "San Fernando",
                    "San Fernando",
                    "San Fernando",
                    "San Fernando",
                    "San Fernando",
                    "San Fernando",
                    "San Fernando",
                    "San Fernando",
                    "San Fernando",
                    "San Fernando",
                    "San Fernando",
                    "San Fernando",
                    "San Isidro",
                    "San Isidro",
                    "San Isidro",
                    "San Isidro",
                    "San Isidro",
                    "San Isidro",
                    "San Isidro",
                    "San Isidro",
                    "San Isidro",
                    "San Isidro",
                    "San Isidro",
                    "San Isidro",
                    "San Isidro",
                    "San Isidro",
                    "San Isidro",
                    "San Isidro",
                    "San Isidro",
                    "San Isidro",
                    "San Isidro",
                    "San Isidro",
                    "San Isidro",
                    "San Isidro",
                    "San Isidro",
                    "San Isidro",
                    "San Isidro",
                    "San Isidro",
                    "San Isidro",
                    "San Isidro",
                    "San Isidro",
                    "San Isidro",
                    "San Isidro",
                    "San Isidro",
                    "San Isidro",
                    "San Isidro",
                    "San Isidro",
                    "San Isidro",
                    "San Isidro",
                    "San Isidro",
                    "San Isidro",
                    "San Isidro",
                    "San Isidro",
                    "San Isidro",
                    "San Isidro",
                    "San Isidro",
                    "San Isidro",
                    "San Isidro",
                    "San Isidro",
                    "San Isidro",
                    "San Isidro",
                    "San Isidro",
                    "San Isidro",
                    "San Isidro",
                    "San Isidro",
                    "San Isidro",
                    "San Isidro",
                    "San Isidro",
                    "San Isidro",
                    "San Isidro",
                    "San Isidro",
                    "San Isidro",
                    "San Isidro",
                    "San Isidro",
                    "San Isidro",
                    "San Isidro",
                    "San Isidro",
                    "San Isidro",
                    "San Isidro",
                    "San Isidro",
                    "San Isidro",
                    "San Isidro",
                    "San Isidro",
                    "San Isidro",
                    "San Isidro",
                    "San Isidro",
                    "San Isidro",
                    "San Isidro",
                    "San Isidro",
                    "San Isidro",
                    "San Isidro",
                    "San Isidro",
                    "San Isidro",
                    "San Isidro",
                    "San Isidro",
                    "San Isidro",
                    "San Isidro",
                    "San Isidro",
                    "San Isidro",
                    "San Isidro",
                    "San Isidro",
                    "San Isidro",
                    "San Isidro",
                    "Tigre",
                    "Tigre",
                    "Tigre",
                    "Tigre",
                    "Tigre",
                    "Tigre",
                    "Tigre",
                    "Tigre",
                    "Tigre",
                    "Tigre",
                    "Tigre",
                    "Tigre",
                    "Tigre",
                    "Tigre",
                    "Tigre",
                    "Tigre",
                    "Tigre",
                    "Tigre",
                    "Tigre",
                    "Tigre",
                    "Tigre",
                    "Tigre",
                    "Tigre",
                    "Tigre",
                    "Tigre",
                    "Tigre",
                    "Tigre",
                    "Tigre",
                    "Tigre",
                    "Tigre",
                    "Tigre",
                    "Tigre",
                    "Tigre",
                    "Tigre",
                    "Tigre",
                    "Tigre",
                    "Tigre",
                    "Tigre",
                    "Tigre",
                    "Tigre",
                    "Tigre",
                    "Tigre",
                    "Tigre",
                    "Tigre",
                    "Tigre",
                    "Tigre",
                    "Tigre",
                    "Tigre",
                    "Tigre",
                    "Tigre",
                    "Tigre",
                    "Tigre",
                    "Tigre",
                    "Tigre",
                    "Tigre",
                    "Tigre",
                    "Tigre",
                    "Tigre",
                    "Tigre",
                    "Tigre",
                    "Tigre",
                    "Tigre",
                    "Tigre",
                    "Tigre",
                    "Tigre",
                    "Tigre",
                    "Tigre",
                    "Tigre",
                    "Tigre",
                    "Tigre",
                    "Tigre",
                    "Tigre",
                    "Tigre",
                    "Tigre",
                    "Tigre",
                    "Tigre",
                    "Tigre",
                    "Tigre",
                    "Tigre",
                    "Tigre",
                    "Tigre",
                    "Tigre",
                    "Tigre",
                    "Tigre",
                    "Tigre",
                    "Tigre",
                    "Tigre",
                    "Tigre",
                    "Tigre",
                    "Tigre",
                    "Tigre",
                    "Tigre",
                    "Tigre",
                    "Tigre",
                    "Tigre",
                    "Tigre",
                    "Tigre",
                    "Tigre",
                    "Tigre",
                    "Tigre",
                    "Tigre",
                    "Tigre",
                    "Tigre",
                    "Tigre",
                    "Tigre",
                    "Tigre",
                    "Tigre",
                    "Tigre",
                    "Tigre",
                    "Tigre",
                    "Tigre",
                    "Tigre",
                    "Tigre",
                    "Tigre",
                    "Tigre",
                    "Tigre",
                    "Tigre",
                    "Tigre",
                    "Tigre",
                    "Tigre",
                    "Tigre",
                    "Tigre",
                    "Tigre",
                    "Tigre",
                    "Tigre"
                  ],
                  "x0": " ",
                  "xaxis": "x",
                  "y": [
                    2,
                    1,
                    2,
                    1,
                    2,
                    2,
                    2,
                    1,
                    1,
                    1,
                    2,
                    1,
                    1,
                    2,
                    1,
                    2,
                    3,
                    2,
                    1,
                    3,
                    1,
                    1,
                    2,
                    3,
                    2,
                    1,
                    1,
                    1,
                    1,
                    1,
                    1,
                    2,
                    1,
                    2,
                    1,
                    1,
                    1,
                    1,
                    1,
                    1,
                    2,
                    1,
                    1,
                    1,
                    1,
                    2,
                    1,
                    1,
                    3,
                    1,
                    2,
                    1,
                    1,
                    1,
                    2,
                    1,
                    1,
                    9,
                    1,
                    1,
                    4,
                    2,
                    7,
                    1,
                    4,
                    1,
                    2,
                    1,
                    6,
                    1,
                    1,
                    3,
                    1,
                    6,
                    1,
                    1,
                    1,
                    1,
                    1,
                    1,
                    1,
                    1,
                    1,
                    1,
                    1,
                    4,
                    1,
                    3,
                    1,
                    3,
                    10,
                    1,
                    1,
                    1,
                    10,
                    1,
                    1,
                    1,
                    2,
                    4,
                    1,
                    6,
                    1,
                    1,
                    1,
                    1,
                    1,
                    1,
                    1,
                    2,
                    2,
                    4,
                    1,
                    1,
                    1,
                    1,
                    1,
                    1,
                    1,
                    1,
                    2,
                    2,
                    2,
                    1,
                    2,
                    1,
                    1,
                    1,
                    1,
                    1,
                    1,
                    14,
                    1,
                    1,
                    2,
                    4,
                    11,
                    2,
                    1,
                    2,
                    7,
                    1,
                    1,
                    6,
                    1,
                    2,
                    2,
                    2,
                    1,
                    1,
                    2,
                    2,
                    3,
                    1,
                    1,
                    1,
                    1,
                    1,
                    2,
                    1,
                    1,
                    1,
                    1,
                    8,
                    1,
                    4,
                    3,
                    4,
                    3,
                    1,
                    1,
                    3,
                    3,
                    3,
                    3,
                    2,
                    1,
                    1,
                    1,
                    9,
                    6,
                    6,
                    5,
                    9,
                    5,
                    4,
                    3,
                    1,
                    6,
                    2,
                    5,
                    1,
                    16,
                    2,
                    3,
                    4,
                    4,
                    6,
                    2,
                    6,
                    5,
                    4,
                    1,
                    1,
                    1,
                    1,
                    7,
                    9,
                    8,
                    11,
                    6,
                    8,
                    1,
                    2,
                    4,
                    3,
                    1,
                    3,
                    1,
                    1,
                    2,
                    3,
                    1,
                    1,
                    2,
                    2,
                    1,
                    1,
                    2,
                    2,
                    2,
                    1,
                    2,
                    2,
                    2,
                    3,
                    2,
                    2,
                    4,
                    2,
                    2,
                    1,
                    1,
                    19,
                    2,
                    1,
                    1,
                    1,
                    1,
                    9,
                    11,
                    3,
                    3,
                    1,
                    1,
                    1,
                    1,
                    2,
                    3,
                    17,
                    3,
                    4,
                    2,
                    1,
                    3,
                    7,
                    1,
                    1,
                    1,
                    13,
                    10,
                    1,
                    1,
                    1,
                    5,
                    1,
                    1,
                    1,
                    1,
                    1,
                    26,
                    1,
                    4,
                    1,
                    13,
                    1,
                    1,
                    25,
                    5,
                    3,
                    13,
                    2,
                    1,
                    1,
                    30,
                    7,
                    1,
                    2,
                    1,
                    1,
                    13,
                    1,
                    37,
                    4,
                    5,
                    2,
                    1,
                    1,
                    1,
                    3,
                    15,
                    1,
                    1,
                    1,
                    1,
                    1,
                    1,
                    1,
                    1,
                    1,
                    1,
                    1,
                    1,
                    1,
                    6,
                    1,
                    1,
                    1,
                    1,
                    1,
                    4,
                    2,
                    2,
                    1,
                    1,
                    2,
                    1,
                    2,
                    1,
                    6,
                    1,
                    1,
                    1,
                    1,
                    1,
                    5,
                    1,
                    1,
                    3,
                    1,
                    1,
                    31,
                    14,
                    11,
                    15,
                    13,
                    3,
                    9,
                    8,
                    8,
                    22,
                    5,
                    5,
                    2,
                    1,
                    2,
                    2,
                    1,
                    1,
                    1,
                    1,
                    2,
                    1,
                    27,
                    10,
                    7,
                    19,
                    14,
                    22,
                    13,
                    7,
                    9,
                    20,
                    13,
                    12,
                    5,
                    2,
                    2,
                    2,
                    1,
                    1,
                    1,
                    37,
                    14,
                    13,
                    22,
                    17,
                    18,
                    16,
                    10,
                    10,
                    25,
                    6,
                    6,
                    4,
                    2,
                    3,
                    1,
                    1,
                    1,
                    1,
                    1,
                    1,
                    27,
                    18,
                    26,
                    27,
                    31,
                    28,
                    12,
                    18,
                    18,
                    18,
                    7,
                    10,
                    5,
                    7,
                    11,
                    6,
                    1,
                    2,
                    1,
                    1,
                    1,
                    1,
                    1
                  ],
                  "y0": " ",
                  "yaxis": "y"
                }
              ],
              "layout": {
                "boxmode": "group",
                "legend": {
                  "tracegroupgap": 0
                },
                "margin": {
                  "t": 60
                },
                "template": {
                  "data": {
                    "bar": [
                      {
                        "error_x": {
                          "color": "#2a3f5f"
                        },
                        "error_y": {
                          "color": "#2a3f5f"
                        },
                        "marker": {
                          "line": {
                            "color": "#E5ECF6",
                            "width": 0.5
                          },
                          "pattern": {
                            "fillmode": "overlay",
                            "size": 10,
                            "solidity": 0.2
                          }
                        },
                        "type": "bar"
                      }
                    ],
                    "barpolar": [
                      {
                        "marker": {
                          "line": {
                            "color": "#E5ECF6",
                            "width": 0.5
                          },
                          "pattern": {
                            "fillmode": "overlay",
                            "size": 10,
                            "solidity": 0.2
                          }
                        },
                        "type": "barpolar"
                      }
                    ],
                    "carpet": [
                      {
                        "aaxis": {
                          "endlinecolor": "#2a3f5f",
                          "gridcolor": "white",
                          "linecolor": "white",
                          "minorgridcolor": "white",
                          "startlinecolor": "#2a3f5f"
                        },
                        "baxis": {
                          "endlinecolor": "#2a3f5f",
                          "gridcolor": "white",
                          "linecolor": "white",
                          "minorgridcolor": "white",
                          "startlinecolor": "#2a3f5f"
                        },
                        "type": "carpet"
                      }
                    ],
                    "choropleth": [
                      {
                        "colorbar": {
                          "outlinewidth": 0,
                          "ticks": ""
                        },
                        "type": "choropleth"
                      }
                    ],
                    "contour": [
                      {
                        "colorbar": {
                          "outlinewidth": 0,
                          "ticks": ""
                        },
                        "colorscale": [
                          [
                            0,
                            "#0d0887"
                          ],
                          [
                            0.1111111111111111,
                            "#46039f"
                          ],
                          [
                            0.2222222222222222,
                            "#7201a8"
                          ],
                          [
                            0.3333333333333333,
                            "#9c179e"
                          ],
                          [
                            0.4444444444444444,
                            "#bd3786"
                          ],
                          [
                            0.5555555555555556,
                            "#d8576b"
                          ],
                          [
                            0.6666666666666666,
                            "#ed7953"
                          ],
                          [
                            0.7777777777777778,
                            "#fb9f3a"
                          ],
                          [
                            0.8888888888888888,
                            "#fdca26"
                          ],
                          [
                            1,
                            "#f0f921"
                          ]
                        ],
                        "type": "contour"
                      }
                    ],
                    "contourcarpet": [
                      {
                        "colorbar": {
                          "outlinewidth": 0,
                          "ticks": ""
                        },
                        "type": "contourcarpet"
                      }
                    ],
                    "heatmap": [
                      {
                        "colorbar": {
                          "outlinewidth": 0,
                          "ticks": ""
                        },
                        "colorscale": [
                          [
                            0,
                            "#0d0887"
                          ],
                          [
                            0.1111111111111111,
                            "#46039f"
                          ],
                          [
                            0.2222222222222222,
                            "#7201a8"
                          ],
                          [
                            0.3333333333333333,
                            "#9c179e"
                          ],
                          [
                            0.4444444444444444,
                            "#bd3786"
                          ],
                          [
                            0.5555555555555556,
                            "#d8576b"
                          ],
                          [
                            0.6666666666666666,
                            "#ed7953"
                          ],
                          [
                            0.7777777777777778,
                            "#fb9f3a"
                          ],
                          [
                            0.8888888888888888,
                            "#fdca26"
                          ],
                          [
                            1,
                            "#f0f921"
                          ]
                        ],
                        "type": "heatmap"
                      }
                    ],
                    "heatmapgl": [
                      {
                        "colorbar": {
                          "outlinewidth": 0,
                          "ticks": ""
                        },
                        "colorscale": [
                          [
                            0,
                            "#0d0887"
                          ],
                          [
                            0.1111111111111111,
                            "#46039f"
                          ],
                          [
                            0.2222222222222222,
                            "#7201a8"
                          ],
                          [
                            0.3333333333333333,
                            "#9c179e"
                          ],
                          [
                            0.4444444444444444,
                            "#bd3786"
                          ],
                          [
                            0.5555555555555556,
                            "#d8576b"
                          ],
                          [
                            0.6666666666666666,
                            "#ed7953"
                          ],
                          [
                            0.7777777777777778,
                            "#fb9f3a"
                          ],
                          [
                            0.8888888888888888,
                            "#fdca26"
                          ],
                          [
                            1,
                            "#f0f921"
                          ]
                        ],
                        "type": "heatmapgl"
                      }
                    ],
                    "histogram": [
                      {
                        "marker": {
                          "pattern": {
                            "fillmode": "overlay",
                            "size": 10,
                            "solidity": 0.2
                          }
                        },
                        "type": "histogram"
                      }
                    ],
                    "histogram2d": [
                      {
                        "colorbar": {
                          "outlinewidth": 0,
                          "ticks": ""
                        },
                        "colorscale": [
                          [
                            0,
                            "#0d0887"
                          ],
                          [
                            0.1111111111111111,
                            "#46039f"
                          ],
                          [
                            0.2222222222222222,
                            "#7201a8"
                          ],
                          [
                            0.3333333333333333,
                            "#9c179e"
                          ],
                          [
                            0.4444444444444444,
                            "#bd3786"
                          ],
                          [
                            0.5555555555555556,
                            "#d8576b"
                          ],
                          [
                            0.6666666666666666,
                            "#ed7953"
                          ],
                          [
                            0.7777777777777778,
                            "#fb9f3a"
                          ],
                          [
                            0.8888888888888888,
                            "#fdca26"
                          ],
                          [
                            1,
                            "#f0f921"
                          ]
                        ],
                        "type": "histogram2d"
                      }
                    ],
                    "histogram2dcontour": [
                      {
                        "colorbar": {
                          "outlinewidth": 0,
                          "ticks": ""
                        },
                        "colorscale": [
                          [
                            0,
                            "#0d0887"
                          ],
                          [
                            0.1111111111111111,
                            "#46039f"
                          ],
                          [
                            0.2222222222222222,
                            "#7201a8"
                          ],
                          [
                            0.3333333333333333,
                            "#9c179e"
                          ],
                          [
                            0.4444444444444444,
                            "#bd3786"
                          ],
                          [
                            0.5555555555555556,
                            "#d8576b"
                          ],
                          [
                            0.6666666666666666,
                            "#ed7953"
                          ],
                          [
                            0.7777777777777778,
                            "#fb9f3a"
                          ],
                          [
                            0.8888888888888888,
                            "#fdca26"
                          ],
                          [
                            1,
                            "#f0f921"
                          ]
                        ],
                        "type": "histogram2dcontour"
                      }
                    ],
                    "mesh3d": [
                      {
                        "colorbar": {
                          "outlinewidth": 0,
                          "ticks": ""
                        },
                        "type": "mesh3d"
                      }
                    ],
                    "parcoords": [
                      {
                        "line": {
                          "colorbar": {
                            "outlinewidth": 0,
                            "ticks": ""
                          }
                        },
                        "type": "parcoords"
                      }
                    ],
                    "pie": [
                      {
                        "automargin": true,
                        "type": "pie"
                      }
                    ],
                    "scatter": [
                      {
                        "fillpattern": {
                          "fillmode": "overlay",
                          "size": 10,
                          "solidity": 0.2
                        },
                        "type": "scatter"
                      }
                    ],
                    "scatter3d": [
                      {
                        "line": {
                          "colorbar": {
                            "outlinewidth": 0,
                            "ticks": ""
                          }
                        },
                        "marker": {
                          "colorbar": {
                            "outlinewidth": 0,
                            "ticks": ""
                          }
                        },
                        "type": "scatter3d"
                      }
                    ],
                    "scattercarpet": [
                      {
                        "marker": {
                          "colorbar": {
                            "outlinewidth": 0,
                            "ticks": ""
                          }
                        },
                        "type": "scattercarpet"
                      }
                    ],
                    "scattergeo": [
                      {
                        "marker": {
                          "colorbar": {
                            "outlinewidth": 0,
                            "ticks": ""
                          }
                        },
                        "type": "scattergeo"
                      }
                    ],
                    "scattergl": [
                      {
                        "marker": {
                          "colorbar": {
                            "outlinewidth": 0,
                            "ticks": ""
                          }
                        },
                        "type": "scattergl"
                      }
                    ],
                    "scattermapbox": [
                      {
                        "marker": {
                          "colorbar": {
                            "outlinewidth": 0,
                            "ticks": ""
                          }
                        },
                        "type": "scattermapbox"
                      }
                    ],
                    "scatterpolar": [
                      {
                        "marker": {
                          "colorbar": {
                            "outlinewidth": 0,
                            "ticks": ""
                          }
                        },
                        "type": "scatterpolar"
                      }
                    ],
                    "scatterpolargl": [
                      {
                        "marker": {
                          "colorbar": {
                            "outlinewidth": 0,
                            "ticks": ""
                          }
                        },
                        "type": "scatterpolargl"
                      }
                    ],
                    "scatterternary": [
                      {
                        "marker": {
                          "colorbar": {
                            "outlinewidth": 0,
                            "ticks": ""
                          }
                        },
                        "type": "scatterternary"
                      }
                    ],
                    "surface": [
                      {
                        "colorbar": {
                          "outlinewidth": 0,
                          "ticks": ""
                        },
                        "colorscale": [
                          [
                            0,
                            "#0d0887"
                          ],
                          [
                            0.1111111111111111,
                            "#46039f"
                          ],
                          [
                            0.2222222222222222,
                            "#7201a8"
                          ],
                          [
                            0.3333333333333333,
                            "#9c179e"
                          ],
                          [
                            0.4444444444444444,
                            "#bd3786"
                          ],
                          [
                            0.5555555555555556,
                            "#d8576b"
                          ],
                          [
                            0.6666666666666666,
                            "#ed7953"
                          ],
                          [
                            0.7777777777777778,
                            "#fb9f3a"
                          ],
                          [
                            0.8888888888888888,
                            "#fdca26"
                          ],
                          [
                            1,
                            "#f0f921"
                          ]
                        ],
                        "type": "surface"
                      }
                    ],
                    "table": [
                      {
                        "cells": {
                          "fill": {
                            "color": "#EBF0F8"
                          },
                          "line": {
                            "color": "white"
                          }
                        },
                        "header": {
                          "fill": {
                            "color": "#C8D4E3"
                          },
                          "line": {
                            "color": "white"
                          }
                        },
                        "type": "table"
                      }
                    ]
                  },
                  "layout": {
                    "annotationdefaults": {
                      "arrowcolor": "#2a3f5f",
                      "arrowhead": 0,
                      "arrowwidth": 1
                    },
                    "autotypenumbers": "strict",
                    "coloraxis": {
                      "colorbar": {
                        "outlinewidth": 0,
                        "ticks": ""
                      }
                    },
                    "colorscale": {
                      "diverging": [
                        [
                          0,
                          "#8e0152"
                        ],
                        [
                          0.1,
                          "#c51b7d"
                        ],
                        [
                          0.2,
                          "#de77ae"
                        ],
                        [
                          0.3,
                          "#f1b6da"
                        ],
                        [
                          0.4,
                          "#fde0ef"
                        ],
                        [
                          0.5,
                          "#f7f7f7"
                        ],
                        [
                          0.6,
                          "#e6f5d0"
                        ],
                        [
                          0.7,
                          "#b8e186"
                        ],
                        [
                          0.8,
                          "#7fbc41"
                        ],
                        [
                          0.9,
                          "#4d9221"
                        ],
                        [
                          1,
                          "#276419"
                        ]
                      ],
                      "sequential": [
                        [
                          0,
                          "#0d0887"
                        ],
                        [
                          0.1111111111111111,
                          "#46039f"
                        ],
                        [
                          0.2222222222222222,
                          "#7201a8"
                        ],
                        [
                          0.3333333333333333,
                          "#9c179e"
                        ],
                        [
                          0.4444444444444444,
                          "#bd3786"
                        ],
                        [
                          0.5555555555555556,
                          "#d8576b"
                        ],
                        [
                          0.6666666666666666,
                          "#ed7953"
                        ],
                        [
                          0.7777777777777778,
                          "#fb9f3a"
                        ],
                        [
                          0.8888888888888888,
                          "#fdca26"
                        ],
                        [
                          1,
                          "#f0f921"
                        ]
                      ],
                      "sequentialminus": [
                        [
                          0,
                          "#0d0887"
                        ],
                        [
                          0.1111111111111111,
                          "#46039f"
                        ],
                        [
                          0.2222222222222222,
                          "#7201a8"
                        ],
                        [
                          0.3333333333333333,
                          "#9c179e"
                        ],
                        [
                          0.4444444444444444,
                          "#bd3786"
                        ],
                        [
                          0.5555555555555556,
                          "#d8576b"
                        ],
                        [
                          0.6666666666666666,
                          "#ed7953"
                        ],
                        [
                          0.7777777777777778,
                          "#fb9f3a"
                        ],
                        [
                          0.8888888888888888,
                          "#fdca26"
                        ],
                        [
                          1,
                          "#f0f921"
                        ]
                      ]
                    },
                    "colorway": [
                      "#636efa",
                      "#EF553B",
                      "#00cc96",
                      "#ab63fa",
                      "#FFA15A",
                      "#19d3f3",
                      "#FF6692",
                      "#B6E880",
                      "#FF97FF",
                      "#FECB52"
                    ],
                    "font": {
                      "color": "#2a3f5f"
                    },
                    "geo": {
                      "bgcolor": "white",
                      "lakecolor": "white",
                      "landcolor": "#E5ECF6",
                      "showlakes": true,
                      "showland": true,
                      "subunitcolor": "white"
                    },
                    "hoverlabel": {
                      "align": "left"
                    },
                    "hovermode": "closest",
                    "mapbox": {
                      "style": "light"
                    },
                    "paper_bgcolor": "white",
                    "plot_bgcolor": "#E5ECF6",
                    "polar": {
                      "angularaxis": {
                        "gridcolor": "white",
                        "linecolor": "white",
                        "ticks": ""
                      },
                      "bgcolor": "#E5ECF6",
                      "radialaxis": {
                        "gridcolor": "white",
                        "linecolor": "white",
                        "ticks": ""
                      }
                    },
                    "scene": {
                      "xaxis": {
                        "backgroundcolor": "#E5ECF6",
                        "gridcolor": "white",
                        "gridwidth": 2,
                        "linecolor": "white",
                        "showbackground": true,
                        "ticks": "",
                        "zerolinecolor": "white"
                      },
                      "yaxis": {
                        "backgroundcolor": "#E5ECF6",
                        "gridcolor": "white",
                        "gridwidth": 2,
                        "linecolor": "white",
                        "showbackground": true,
                        "ticks": "",
                        "zerolinecolor": "white"
                      },
                      "zaxis": {
                        "backgroundcolor": "#E5ECF6",
                        "gridcolor": "white",
                        "gridwidth": 2,
                        "linecolor": "white",
                        "showbackground": true,
                        "ticks": "",
                        "zerolinecolor": "white"
                      }
                    },
                    "shapedefaults": {
                      "line": {
                        "color": "#2a3f5f"
                      }
                    },
                    "ternary": {
                      "aaxis": {
                        "gridcolor": "white",
                        "linecolor": "white",
                        "ticks": ""
                      },
                      "baxis": {
                        "gridcolor": "white",
                        "linecolor": "white",
                        "ticks": ""
                      },
                      "bgcolor": "#E5ECF6",
                      "caxis": {
                        "gridcolor": "white",
                        "linecolor": "white",
                        "ticks": ""
                      }
                    },
                    "title": {
                      "x": 0.05
                    },
                    "xaxis": {
                      "automargin": true,
                      "gridcolor": "white",
                      "linecolor": "white",
                      "ticks": "",
                      "title": {
                        "standoff": 15
                      },
                      "zerolinecolor": "white",
                      "zerolinewidth": 2
                    },
                    "yaxis": {
                      "automargin": true,
                      "gridcolor": "white",
                      "linecolor": "white",
                      "ticks": "",
                      "title": {
                        "standoff": 15
                      },
                      "zerolinecolor": "white",
                      "zerolinewidth": 2
                    }
                  }
                },
                "xaxis": {
                  "anchor": "y",
                  "domain": [
                    0,
                    1
                  ],
                  "title": {
                    "text": "municipio_nombre"
                  }
                },
                "yaxis": {
                  "anchor": "x",
                  "domain": [
                    0,
                    1
                  ],
                  "title": {
                    "text": "cantidad"
                  }
                }
              }
            }
          },
          "metadata": {},
          "output_type": "display_data"
        },
        {
          "data": {
            "application/vnd.plotly.v1+json": {
              "config": {
                "plotlyServerURL": "https://plot.ly"
              },
              "data": [
                {
                  "coloraxis": "coloraxis",
                  "hovertemplate": "promedio_icas_sin_ceros=%{x}<br>cantidad=%{y}<br>count=%{z}<extra></extra>",
                  "name": "",
                  "texttemplate": "%{z}",
                  "type": "histogram2d",
                  "x": [
                    33.25,
                    33.25,
                    33.25,
                    33.25,
                    33.25,
                    33.25,
                    33.25,
                    33.25,
                    33.25,
                    33.25,
                    33.25,
                    33.25,
                    33.25,
                    33.25,
                    33.25,
                    33.25,
                    33.25,
                    33.25,
                    33.25,
                    35.3,
                    35.3,
                    35.3,
                    35.3,
                    35.3,
                    35.3,
                    52.6,
                    52.6,
                    52.6,
                    52.6,
                    52.6,
                    52.6,
                    52.6,
                    52.6,
                    52.6,
                    52.6,
                    52.6,
                    52.6,
                    46.4,
                    46.4,
                    46.4,
                    46.4,
                    46.4,
                    46.4,
                    46.4,
                    46.4,
                    46.4,
                    46.4,
                    46.4,
                    46.4,
                    53.8,
                    53.8,
                    53.8,
                    53.8,
                    53.8,
                    53.8,
                    42.583333333333336,
                    42.583333333333336,
                    49.833333333333336,
                    49.833333333333336,
                    49.833333333333336,
                    49.833333333333336,
                    49.833333333333336,
                    44.833333333333336,
                    44.833333333333336,
                    44.833333333333336,
                    44.833333333333336,
                    44.833333333333336,
                    44.833333333333336,
                    47.833333333333336,
                    47.833333333333336,
                    47.833333333333336,
                    47.833333333333336,
                    47.833333333333336,
                    47.833333333333336,
                    47.833333333333336,
                    47.833333333333336,
                    47.833333333333336,
                    47.833333333333336,
                    47.833333333333336,
                    47.833333333333336,
                    37.81666666666667,
                    37.81666666666667,
                    52.1875,
                    55.5625,
                    59.25,
                    35.916666666666664,
                    35.916666666666664,
                    35.916666666666664,
                    58.111111111111114,
                    58.111111111111114,
                    50.55555555555555,
                    50.55555555555555,
                    50.55555555555555,
                    50.55555555555555,
                    50.55555555555555,
                    50.55555555555555,
                    50.55555555555555,
                    50.55555555555555,
                    50.55555555555555,
                    50.55555555555555,
                    50.55555555555555,
                    49.916666666666664,
                    49.916666666666664,
                    49.916666666666664,
                    49.916666666666664,
                    49.916666666666664,
                    49.916666666666664,
                    81.66666666666667,
                    81.66666666666667,
                    81.66666666666667,
                    81.66666666666667,
                    35,
                    35,
                    35,
                    35,
                    35,
                    35,
                    35,
                    35,
                    35,
                    35,
                    35,
                    35,
                    35,
                    35,
                    35,
                    35,
                    35,
                    35,
                    35,
                    35,
                    36,
                    36,
                    36,
                    36,
                    36,
                    36,
                    36,
                    36,
                    36,
                    36,
                    36,
                    36,
                    48,
                    48,
                    48,
                    48,
                    48,
                    48,
                    48,
                    48,
                    48,
                    48,
                    48,
                    48,
                    48,
                    48,
                    48,
                    48,
                    48,
                    48,
                    48,
                    48,
                    40,
                    40,
                    40,
                    40,
                    40,
                    40,
                    40,
                    40,
                    40,
                    40,
                    40,
                    40,
                    40,
                    40,
                    40,
                    40,
                    40,
                    40,
                    40,
                    40,
                    40,
                    40,
                    40,
                    40,
                    40,
                    40,
                    40,
                    40,
                    40,
                    44.5,
                    44.5,
                    44.5,
                    44.5,
                    44.5,
                    44.5,
                    44.5,
                    44.5,
                    44.5,
                    44.5,
                    44.5,
                    44.5,
                    44.5,
                    44.5,
                    44.5,
                    44.5,
                    44.5,
                    44.5,
                    44.5,
                    44.5,
                    44.5,
                    44.5,
                    44.5,
                    44.5,
                    44.5,
                    44.5,
                    44.5,
                    44.5,
                    40.1875,
                    40.1875,
                    40.1875,
                    40.1875,
                    40.1875,
                    40.1875,
                    40.1875,
                    40.1875,
                    40.1875,
                    40.1875,
                    40.1875,
                    40.1875,
                    40.1875,
                    40.1875,
                    40.1875,
                    40.1875,
                    40.1875,
                    40.1875,
                    40.1875,
                    40.1875,
                    40.1875,
                    40.1875,
                    40.1875,
                    46.9375,
                    46.9375,
                    46.9375,
                    46.9375,
                    46.9375,
                    46.9375,
                    46.9375,
                    46.9375,
                    46.9375,
                    46.9375,
                    46.9375,
                    46.9375,
                    46.9375,
                    46.9375,
                    46.9375,
                    46.9375,
                    50.0625,
                    50.0625,
                    50.0625,
                    50.0625,
                    50.0625,
                    50.0625,
                    50.0625,
                    50.0625,
                    50.0625,
                    50.0625,
                    50.0625,
                    50.0625,
                    50.0625,
                    50.0625,
                    50.0625,
                    50.0625,
                    50.0625,
                    50.0625,
                    50.0625,
                    50.0625,
                    50.0625,
                    47.5,
                    47.5,
                    47.5,
                    47.5,
                    47.5,
                    47.5,
                    47.5,
                    47.5,
                    47.5,
                    47.5,
                    47.5,
                    47.5,
                    47.5,
                    47.5,
                    43.5,
                    43.5,
                    43.5,
                    43.5,
                    43.5,
                    43.5,
                    43.5,
                    43.5,
                    43.5,
                    43.5,
                    43.5,
                    43.5,
                    43.5,
                    43.5,
                    43.5,
                    43.5,
                    43.5,
                    32.94444444444444,
                    32.94444444444444,
                    32.94444444444444,
                    32.94444444444444,
                    32.94444444444444,
                    32.94444444444444,
                    32.94444444444444,
                    32.94444444444444,
                    32.94444444444444,
                    32.94444444444444,
                    32.94444444444444,
                    32.94444444444444,
                    32.94444444444444,
                    37.94444444444444,
                    37.94444444444444,
                    37.94444444444444,
                    37.94444444444444,
                    37.94444444444444,
                    37.94444444444444,
                    37.94444444444444,
                    37.94444444444444,
                    37.94444444444444,
                    37.94444444444444,
                    37.94444444444444,
                    37.94444444444444,
                    37.94444444444444,
                    37.94444444444444,
                    37.94444444444444,
                    49.75,
                    49.75,
                    49.75,
                    49.75,
                    49.75,
                    49.75,
                    49.75,
                    49.75,
                    49.75,
                    49.75,
                    49.75,
                    49.75,
                    50.94444444444444,
                    50.94444444444444,
                    50.94444444444444,
                    50.94444444444444,
                    50.94444444444444,
                    50.94444444444444,
                    50.94444444444444,
                    50.94444444444444,
                    50.94444444444444,
                    50.94444444444444,
                    50.94444444444444,
                    50.94444444444444,
                    50.94444444444444,
                    50.94444444444444,
                    50.94444444444444,
                    50.94444444444444,
                    50.94444444444444,
                    50.94444444444444,
                    50.94444444444444,
                    50.94444444444444,
                    50.94444444444444,
                    50.94444444444444,
                    50.94444444444444,
                    50.94444444444444,
                    50.94444444444444,
                    50.94444444444444,
                    50.94444444444444,
                    50.94444444444444,
                    50.94444444444444,
                    50.94444444444444,
                    50.94444444444444,
                    50.94444444444444,
                    50.94444444444444,
                    50.94444444444444,
                    50.94444444444444,
                    50.94444444444444,
                    50.94444444444444,
                    50.94444444444444,
                    50.94444444444444,
                    50.94444444444444,
                    50.94444444444444,
                    54.44444444444444,
                    54.44444444444444,
                    54.44444444444444,
                    54.44444444444444,
                    54.44444444444444,
                    54.44444444444444,
                    54.44444444444444,
                    54.44444444444444,
                    54.44444444444444,
                    54.44444444444444,
                    54.44444444444444,
                    54.44444444444444,
                    54.44444444444444,
                    54.44444444444444,
                    54.44444444444444,
                    54.44444444444444,
                    54.44444444444444,
                    54.44444444444444,
                    54.44444444444444,
                    54.44444444444444,
                    54.44444444444444,
                    54.44444444444444,
                    54.44444444444444,
                    54.44444444444444,
                    54.44444444444444,
                    54.44444444444444,
                    54.44444444444444,
                    54.44444444444444,
                    54.44444444444444,
                    54.44444444444444,
                    54.44444444444444,
                    54.44444444444444,
                    54.44444444444444,
                    54.44444444444444,
                    54.44444444444444,
                    54.44444444444444,
                    54.44444444444444,
                    54.44444444444444,
                    54.44444444444444,
                    54.44444444444444,
                    54.44444444444444,
                    54.44444444444444,
                    54.44444444444444,
                    54.44444444444444
                  ],
                  "xaxis": "x",
                  "xbingroup": "x",
                  "y": [
                    2,
                    1,
                    2,
                    1,
                    2,
                    2,
                    2,
                    1,
                    1,
                    1,
                    2,
                    1,
                    1,
                    2,
                    1,
                    2,
                    3,
                    2,
                    1,
                    3,
                    1,
                    1,
                    2,
                    3,
                    2,
                    1,
                    1,
                    1,
                    1,
                    1,
                    1,
                    2,
                    1,
                    2,
                    1,
                    1,
                    1,
                    1,
                    1,
                    1,
                    2,
                    1,
                    1,
                    1,
                    1,
                    2,
                    1,
                    1,
                    3,
                    1,
                    2,
                    1,
                    1,
                    1,
                    2,
                    1,
                    1,
                    9,
                    1,
                    1,
                    4,
                    2,
                    7,
                    1,
                    4,
                    1,
                    2,
                    1,
                    6,
                    1,
                    1,
                    3,
                    1,
                    6,
                    1,
                    1,
                    1,
                    1,
                    1,
                    1,
                    1,
                    1,
                    1,
                    1,
                    1,
                    4,
                    1,
                    3,
                    1,
                    3,
                    10,
                    1,
                    1,
                    1,
                    10,
                    1,
                    1,
                    1,
                    2,
                    4,
                    1,
                    6,
                    1,
                    1,
                    1,
                    1,
                    1,
                    1,
                    1,
                    2,
                    2,
                    4,
                    1,
                    1,
                    1,
                    1,
                    1,
                    1,
                    1,
                    1,
                    2,
                    2,
                    2,
                    1,
                    2,
                    1,
                    1,
                    1,
                    1,
                    1,
                    1,
                    14,
                    1,
                    1,
                    2,
                    4,
                    11,
                    2,
                    1,
                    2,
                    7,
                    1,
                    1,
                    6,
                    1,
                    2,
                    2,
                    2,
                    1,
                    1,
                    2,
                    2,
                    3,
                    1,
                    1,
                    1,
                    1,
                    1,
                    2,
                    1,
                    1,
                    1,
                    1,
                    8,
                    1,
                    4,
                    3,
                    4,
                    3,
                    1,
                    1,
                    3,
                    3,
                    3,
                    3,
                    2,
                    1,
                    1,
                    1,
                    9,
                    6,
                    6,
                    5,
                    9,
                    5,
                    4,
                    3,
                    1,
                    6,
                    2,
                    5,
                    1,
                    16,
                    2,
                    3,
                    4,
                    4,
                    6,
                    2,
                    6,
                    5,
                    4,
                    1,
                    1,
                    1,
                    1,
                    7,
                    9,
                    8,
                    11,
                    6,
                    8,
                    1,
                    2,
                    4,
                    3,
                    1,
                    3,
                    1,
                    1,
                    2,
                    3,
                    1,
                    1,
                    2,
                    2,
                    1,
                    1,
                    2,
                    2,
                    2,
                    1,
                    2,
                    2,
                    2,
                    3,
                    2,
                    2,
                    4,
                    2,
                    2,
                    1,
                    1,
                    19,
                    2,
                    1,
                    1,
                    1,
                    1,
                    9,
                    11,
                    3,
                    3,
                    1,
                    1,
                    1,
                    1,
                    2,
                    3,
                    17,
                    3,
                    4,
                    2,
                    1,
                    3,
                    7,
                    1,
                    1,
                    1,
                    13,
                    10,
                    1,
                    1,
                    1,
                    5,
                    1,
                    1,
                    1,
                    1,
                    1,
                    26,
                    1,
                    4,
                    1,
                    13,
                    1,
                    1,
                    25,
                    5,
                    3,
                    13,
                    2,
                    1,
                    1,
                    30,
                    7,
                    1,
                    2,
                    1,
                    1,
                    13,
                    1,
                    37,
                    4,
                    5,
                    2,
                    1,
                    1,
                    1,
                    3,
                    15,
                    1,
                    1,
                    1,
                    1,
                    1,
                    1,
                    1,
                    1,
                    1,
                    1,
                    1,
                    1,
                    1,
                    6,
                    1,
                    1,
                    1,
                    1,
                    1,
                    4,
                    2,
                    2,
                    1,
                    1,
                    2,
                    1,
                    2,
                    1,
                    6,
                    1,
                    1,
                    1,
                    1,
                    1,
                    5,
                    1,
                    1,
                    3,
                    1,
                    1,
                    31,
                    14,
                    11,
                    15,
                    13,
                    3,
                    9,
                    8,
                    8,
                    22,
                    5,
                    5,
                    2,
                    1,
                    2,
                    2,
                    1,
                    1,
                    1,
                    1,
                    2,
                    1,
                    27,
                    10,
                    7,
                    19,
                    14,
                    22,
                    13,
                    7,
                    9,
                    20,
                    13,
                    12,
                    5,
                    2,
                    2,
                    2,
                    1,
                    1,
                    1,
                    37,
                    14,
                    13,
                    22,
                    17,
                    18,
                    16,
                    10,
                    10,
                    25,
                    6,
                    6,
                    4,
                    2,
                    3,
                    1,
                    1,
                    1,
                    1,
                    1,
                    1,
                    27,
                    18,
                    26,
                    27,
                    31,
                    28,
                    12,
                    18,
                    18,
                    18,
                    7,
                    10,
                    5,
                    7,
                    11,
                    6,
                    1,
                    2,
                    1,
                    1,
                    1,
                    1,
                    1
                  ],
                  "yaxis": "y",
                  "ybingroup": "y"
                }
              ],
              "layout": {
                "coloraxis": {
                  "colorbar": {
                    "title": {
                      "text": "count"
                    }
                  },
                  "colorscale": [
                    [
                      0,
                      "#0d0887"
                    ],
                    [
                      0.1111111111111111,
                      "#46039f"
                    ],
                    [
                      0.2222222222222222,
                      "#7201a8"
                    ],
                    [
                      0.3333333333333333,
                      "#9c179e"
                    ],
                    [
                      0.4444444444444444,
                      "#bd3786"
                    ],
                    [
                      0.5555555555555556,
                      "#d8576b"
                    ],
                    [
                      0.6666666666666666,
                      "#ed7953"
                    ],
                    [
                      0.7777777777777778,
                      "#fb9f3a"
                    ],
                    [
                      0.8888888888888888,
                      "#fdca26"
                    ],
                    [
                      1,
                      "#f0f921"
                    ]
                  ]
                },
                "legend": {
                  "tracegroupgap": 0
                },
                "margin": {
                  "t": 60
                },
                "template": {
                  "data": {
                    "bar": [
                      {
                        "error_x": {
                          "color": "#2a3f5f"
                        },
                        "error_y": {
                          "color": "#2a3f5f"
                        },
                        "marker": {
                          "line": {
                            "color": "#E5ECF6",
                            "width": 0.5
                          },
                          "pattern": {
                            "fillmode": "overlay",
                            "size": 10,
                            "solidity": 0.2
                          }
                        },
                        "type": "bar"
                      }
                    ],
                    "barpolar": [
                      {
                        "marker": {
                          "line": {
                            "color": "#E5ECF6",
                            "width": 0.5
                          },
                          "pattern": {
                            "fillmode": "overlay",
                            "size": 10,
                            "solidity": 0.2
                          }
                        },
                        "type": "barpolar"
                      }
                    ],
                    "carpet": [
                      {
                        "aaxis": {
                          "endlinecolor": "#2a3f5f",
                          "gridcolor": "white",
                          "linecolor": "white",
                          "minorgridcolor": "white",
                          "startlinecolor": "#2a3f5f"
                        },
                        "baxis": {
                          "endlinecolor": "#2a3f5f",
                          "gridcolor": "white",
                          "linecolor": "white",
                          "minorgridcolor": "white",
                          "startlinecolor": "#2a3f5f"
                        },
                        "type": "carpet"
                      }
                    ],
                    "choropleth": [
                      {
                        "colorbar": {
                          "outlinewidth": 0,
                          "ticks": ""
                        },
                        "type": "choropleth"
                      }
                    ],
                    "contour": [
                      {
                        "colorbar": {
                          "outlinewidth": 0,
                          "ticks": ""
                        },
                        "colorscale": [
                          [
                            0,
                            "#0d0887"
                          ],
                          [
                            0.1111111111111111,
                            "#46039f"
                          ],
                          [
                            0.2222222222222222,
                            "#7201a8"
                          ],
                          [
                            0.3333333333333333,
                            "#9c179e"
                          ],
                          [
                            0.4444444444444444,
                            "#bd3786"
                          ],
                          [
                            0.5555555555555556,
                            "#d8576b"
                          ],
                          [
                            0.6666666666666666,
                            "#ed7953"
                          ],
                          [
                            0.7777777777777778,
                            "#fb9f3a"
                          ],
                          [
                            0.8888888888888888,
                            "#fdca26"
                          ],
                          [
                            1,
                            "#f0f921"
                          ]
                        ],
                        "type": "contour"
                      }
                    ],
                    "contourcarpet": [
                      {
                        "colorbar": {
                          "outlinewidth": 0,
                          "ticks": ""
                        },
                        "type": "contourcarpet"
                      }
                    ],
                    "heatmap": [
                      {
                        "colorbar": {
                          "outlinewidth": 0,
                          "ticks": ""
                        },
                        "colorscale": [
                          [
                            0,
                            "#0d0887"
                          ],
                          [
                            0.1111111111111111,
                            "#46039f"
                          ],
                          [
                            0.2222222222222222,
                            "#7201a8"
                          ],
                          [
                            0.3333333333333333,
                            "#9c179e"
                          ],
                          [
                            0.4444444444444444,
                            "#bd3786"
                          ],
                          [
                            0.5555555555555556,
                            "#d8576b"
                          ],
                          [
                            0.6666666666666666,
                            "#ed7953"
                          ],
                          [
                            0.7777777777777778,
                            "#fb9f3a"
                          ],
                          [
                            0.8888888888888888,
                            "#fdca26"
                          ],
                          [
                            1,
                            "#f0f921"
                          ]
                        ],
                        "type": "heatmap"
                      }
                    ],
                    "heatmapgl": [
                      {
                        "colorbar": {
                          "outlinewidth": 0,
                          "ticks": ""
                        },
                        "colorscale": [
                          [
                            0,
                            "#0d0887"
                          ],
                          [
                            0.1111111111111111,
                            "#46039f"
                          ],
                          [
                            0.2222222222222222,
                            "#7201a8"
                          ],
                          [
                            0.3333333333333333,
                            "#9c179e"
                          ],
                          [
                            0.4444444444444444,
                            "#bd3786"
                          ],
                          [
                            0.5555555555555556,
                            "#d8576b"
                          ],
                          [
                            0.6666666666666666,
                            "#ed7953"
                          ],
                          [
                            0.7777777777777778,
                            "#fb9f3a"
                          ],
                          [
                            0.8888888888888888,
                            "#fdca26"
                          ],
                          [
                            1,
                            "#f0f921"
                          ]
                        ],
                        "type": "heatmapgl"
                      }
                    ],
                    "histogram": [
                      {
                        "marker": {
                          "pattern": {
                            "fillmode": "overlay",
                            "size": 10,
                            "solidity": 0.2
                          }
                        },
                        "type": "histogram"
                      }
                    ],
                    "histogram2d": [
                      {
                        "colorbar": {
                          "outlinewidth": 0,
                          "ticks": ""
                        },
                        "colorscale": [
                          [
                            0,
                            "#0d0887"
                          ],
                          [
                            0.1111111111111111,
                            "#46039f"
                          ],
                          [
                            0.2222222222222222,
                            "#7201a8"
                          ],
                          [
                            0.3333333333333333,
                            "#9c179e"
                          ],
                          [
                            0.4444444444444444,
                            "#bd3786"
                          ],
                          [
                            0.5555555555555556,
                            "#d8576b"
                          ],
                          [
                            0.6666666666666666,
                            "#ed7953"
                          ],
                          [
                            0.7777777777777778,
                            "#fb9f3a"
                          ],
                          [
                            0.8888888888888888,
                            "#fdca26"
                          ],
                          [
                            1,
                            "#f0f921"
                          ]
                        ],
                        "type": "histogram2d"
                      }
                    ],
                    "histogram2dcontour": [
                      {
                        "colorbar": {
                          "outlinewidth": 0,
                          "ticks": ""
                        },
                        "colorscale": [
                          [
                            0,
                            "#0d0887"
                          ],
                          [
                            0.1111111111111111,
                            "#46039f"
                          ],
                          [
                            0.2222222222222222,
                            "#7201a8"
                          ],
                          [
                            0.3333333333333333,
                            "#9c179e"
                          ],
                          [
                            0.4444444444444444,
                            "#bd3786"
                          ],
                          [
                            0.5555555555555556,
                            "#d8576b"
                          ],
                          [
                            0.6666666666666666,
                            "#ed7953"
                          ],
                          [
                            0.7777777777777778,
                            "#fb9f3a"
                          ],
                          [
                            0.8888888888888888,
                            "#fdca26"
                          ],
                          [
                            1,
                            "#f0f921"
                          ]
                        ],
                        "type": "histogram2dcontour"
                      }
                    ],
                    "mesh3d": [
                      {
                        "colorbar": {
                          "outlinewidth": 0,
                          "ticks": ""
                        },
                        "type": "mesh3d"
                      }
                    ],
                    "parcoords": [
                      {
                        "line": {
                          "colorbar": {
                            "outlinewidth": 0,
                            "ticks": ""
                          }
                        },
                        "type": "parcoords"
                      }
                    ],
                    "pie": [
                      {
                        "automargin": true,
                        "type": "pie"
                      }
                    ],
                    "scatter": [
                      {
                        "fillpattern": {
                          "fillmode": "overlay",
                          "size": 10,
                          "solidity": 0.2
                        },
                        "type": "scatter"
                      }
                    ],
                    "scatter3d": [
                      {
                        "line": {
                          "colorbar": {
                            "outlinewidth": 0,
                            "ticks": ""
                          }
                        },
                        "marker": {
                          "colorbar": {
                            "outlinewidth": 0,
                            "ticks": ""
                          }
                        },
                        "type": "scatter3d"
                      }
                    ],
                    "scattercarpet": [
                      {
                        "marker": {
                          "colorbar": {
                            "outlinewidth": 0,
                            "ticks": ""
                          }
                        },
                        "type": "scattercarpet"
                      }
                    ],
                    "scattergeo": [
                      {
                        "marker": {
                          "colorbar": {
                            "outlinewidth": 0,
                            "ticks": ""
                          }
                        },
                        "type": "scattergeo"
                      }
                    ],
                    "scattergl": [
                      {
                        "marker": {
                          "colorbar": {
                            "outlinewidth": 0,
                            "ticks": ""
                          }
                        },
                        "type": "scattergl"
                      }
                    ],
                    "scattermapbox": [
                      {
                        "marker": {
                          "colorbar": {
                            "outlinewidth": 0,
                            "ticks": ""
                          }
                        },
                        "type": "scattermapbox"
                      }
                    ],
                    "scatterpolar": [
                      {
                        "marker": {
                          "colorbar": {
                            "outlinewidth": 0,
                            "ticks": ""
                          }
                        },
                        "type": "scatterpolar"
                      }
                    ],
                    "scatterpolargl": [
                      {
                        "marker": {
                          "colorbar": {
                            "outlinewidth": 0,
                            "ticks": ""
                          }
                        },
                        "type": "scatterpolargl"
                      }
                    ],
                    "scatterternary": [
                      {
                        "marker": {
                          "colorbar": {
                            "outlinewidth": 0,
                            "ticks": ""
                          }
                        },
                        "type": "scatterternary"
                      }
                    ],
                    "surface": [
                      {
                        "colorbar": {
                          "outlinewidth": 0,
                          "ticks": ""
                        },
                        "colorscale": [
                          [
                            0,
                            "#0d0887"
                          ],
                          [
                            0.1111111111111111,
                            "#46039f"
                          ],
                          [
                            0.2222222222222222,
                            "#7201a8"
                          ],
                          [
                            0.3333333333333333,
                            "#9c179e"
                          ],
                          [
                            0.4444444444444444,
                            "#bd3786"
                          ],
                          [
                            0.5555555555555556,
                            "#d8576b"
                          ],
                          [
                            0.6666666666666666,
                            "#ed7953"
                          ],
                          [
                            0.7777777777777778,
                            "#fb9f3a"
                          ],
                          [
                            0.8888888888888888,
                            "#fdca26"
                          ],
                          [
                            1,
                            "#f0f921"
                          ]
                        ],
                        "type": "surface"
                      }
                    ],
                    "table": [
                      {
                        "cells": {
                          "fill": {
                            "color": "#EBF0F8"
                          },
                          "line": {
                            "color": "white"
                          }
                        },
                        "header": {
                          "fill": {
                            "color": "#C8D4E3"
                          },
                          "line": {
                            "color": "white"
                          }
                        },
                        "type": "table"
                      }
                    ]
                  },
                  "layout": {
                    "annotationdefaults": {
                      "arrowcolor": "#2a3f5f",
                      "arrowhead": 0,
                      "arrowwidth": 1
                    },
                    "autotypenumbers": "strict",
                    "coloraxis": {
                      "colorbar": {
                        "outlinewidth": 0,
                        "ticks": ""
                      }
                    },
                    "colorscale": {
                      "diverging": [
                        [
                          0,
                          "#8e0152"
                        ],
                        [
                          0.1,
                          "#c51b7d"
                        ],
                        [
                          0.2,
                          "#de77ae"
                        ],
                        [
                          0.3,
                          "#f1b6da"
                        ],
                        [
                          0.4,
                          "#fde0ef"
                        ],
                        [
                          0.5,
                          "#f7f7f7"
                        ],
                        [
                          0.6,
                          "#e6f5d0"
                        ],
                        [
                          0.7,
                          "#b8e186"
                        ],
                        [
                          0.8,
                          "#7fbc41"
                        ],
                        [
                          0.9,
                          "#4d9221"
                        ],
                        [
                          1,
                          "#276419"
                        ]
                      ],
                      "sequential": [
                        [
                          0,
                          "#0d0887"
                        ],
                        [
                          0.1111111111111111,
                          "#46039f"
                        ],
                        [
                          0.2222222222222222,
                          "#7201a8"
                        ],
                        [
                          0.3333333333333333,
                          "#9c179e"
                        ],
                        [
                          0.4444444444444444,
                          "#bd3786"
                        ],
                        [
                          0.5555555555555556,
                          "#d8576b"
                        ],
                        [
                          0.6666666666666666,
                          "#ed7953"
                        ],
                        [
                          0.7777777777777778,
                          "#fb9f3a"
                        ],
                        [
                          0.8888888888888888,
                          "#fdca26"
                        ],
                        [
                          1,
                          "#f0f921"
                        ]
                      ],
                      "sequentialminus": [
                        [
                          0,
                          "#0d0887"
                        ],
                        [
                          0.1111111111111111,
                          "#46039f"
                        ],
                        [
                          0.2222222222222222,
                          "#7201a8"
                        ],
                        [
                          0.3333333333333333,
                          "#9c179e"
                        ],
                        [
                          0.4444444444444444,
                          "#bd3786"
                        ],
                        [
                          0.5555555555555556,
                          "#d8576b"
                        ],
                        [
                          0.6666666666666666,
                          "#ed7953"
                        ],
                        [
                          0.7777777777777778,
                          "#fb9f3a"
                        ],
                        [
                          0.8888888888888888,
                          "#fdca26"
                        ],
                        [
                          1,
                          "#f0f921"
                        ]
                      ]
                    },
                    "colorway": [
                      "#636efa",
                      "#EF553B",
                      "#00cc96",
                      "#ab63fa",
                      "#FFA15A",
                      "#19d3f3",
                      "#FF6692",
                      "#B6E880",
                      "#FF97FF",
                      "#FECB52"
                    ],
                    "font": {
                      "color": "#2a3f5f"
                    },
                    "geo": {
                      "bgcolor": "white",
                      "lakecolor": "white",
                      "landcolor": "#E5ECF6",
                      "showlakes": true,
                      "showland": true,
                      "subunitcolor": "white"
                    },
                    "hoverlabel": {
                      "align": "left"
                    },
                    "hovermode": "closest",
                    "mapbox": {
                      "style": "light"
                    },
                    "paper_bgcolor": "white",
                    "plot_bgcolor": "#E5ECF6",
                    "polar": {
                      "angularaxis": {
                        "gridcolor": "white",
                        "linecolor": "white",
                        "ticks": ""
                      },
                      "bgcolor": "#E5ECF6",
                      "radialaxis": {
                        "gridcolor": "white",
                        "linecolor": "white",
                        "ticks": ""
                      }
                    },
                    "scene": {
                      "xaxis": {
                        "backgroundcolor": "#E5ECF6",
                        "gridcolor": "white",
                        "gridwidth": 2,
                        "linecolor": "white",
                        "showbackground": true,
                        "ticks": "",
                        "zerolinecolor": "white"
                      },
                      "yaxis": {
                        "backgroundcolor": "#E5ECF6",
                        "gridcolor": "white",
                        "gridwidth": 2,
                        "linecolor": "white",
                        "showbackground": true,
                        "ticks": "",
                        "zerolinecolor": "white"
                      },
                      "zaxis": {
                        "backgroundcolor": "#E5ECF6",
                        "gridcolor": "white",
                        "gridwidth": 2,
                        "linecolor": "white",
                        "showbackground": true,
                        "ticks": "",
                        "zerolinecolor": "white"
                      }
                    },
                    "shapedefaults": {
                      "line": {
                        "color": "#2a3f5f"
                      }
                    },
                    "ternary": {
                      "aaxis": {
                        "gridcolor": "white",
                        "linecolor": "white",
                        "ticks": ""
                      },
                      "baxis": {
                        "gridcolor": "white",
                        "linecolor": "white",
                        "ticks": ""
                      },
                      "bgcolor": "#E5ECF6",
                      "caxis": {
                        "gridcolor": "white",
                        "linecolor": "white",
                        "ticks": ""
                      }
                    },
                    "title": {
                      "x": 0.05
                    },
                    "xaxis": {
                      "automargin": true,
                      "gridcolor": "white",
                      "linecolor": "white",
                      "ticks": "",
                      "title": {
                        "standoff": 15
                      },
                      "zerolinecolor": "white",
                      "zerolinewidth": 2
                    },
                    "yaxis": {
                      "automargin": true,
                      "gridcolor": "white",
                      "linecolor": "white",
                      "ticks": "",
                      "title": {
                        "standoff": 15
                      },
                      "zerolinecolor": "white",
                      "zerolinewidth": 2
                    }
                  }
                },
                "xaxis": {
                  "anchor": "y",
                  "domain": [
                    0,
                    1
                  ],
                  "title": {
                    "text": "promedio_icas_sin_ceros"
                  }
                },
                "yaxis": {
                  "anchor": "x",
                  "domain": [
                    0,
                    1
                  ],
                  "title": {
                    "text": "cantidad"
                  }
                }
              }
            }
          },
          "metadata": {},
          "output_type": "display_data"
        }
      ],
      "source": [
        "fig = px.box(df_merged2, x=\"edad\", y=\"cantidad\", points=\"all\")\n",
        "fig.show()\n",
        "\n",
        "fig = px.box(df_merged2, x=\"municipio_nombre\", y=\"cantidad\", points=\"all\")\n",
        "fig.show()\n",
        "\n",
        "fig = px.density_heatmap(df_merged2, x=\"promedio_icas_sin_ceros\", y=\"cantidad\", text_auto=True)\n",
        "fig.show()\n",
        "\n"
      ]
    },
    {
      "cell_type": "code",
      "execution_count": null,
      "metadata": {},
      "outputs": [],
      "source": [
        "pip install dash"
      ]
    },
    {
      "cell_type": "code",
      "execution_count": 147,
      "metadata": {
        "id": "ku_3K8Uy11af",
        "outputId": "034f7b3e-8b13-4cd1-fadc-89e0982e2e94"
      },
      "outputs": [
        {
          "data": {
            "text/html": [
              "\n",
              "        <iframe\n",
              "            width=\"100%\"\n",
              "            height=\"650\"\n",
              "            src=\"http://127.0.0.1:8050/\"\n",
              "            frameborder=\"0\"\n",
              "            allowfullscreen\n",
              "            \n",
              "        ></iframe>\n",
              "        "
            ],
            "text/plain": [
              "<IPython.lib.display.IFrame at 0x29309d3d0>"
            ]
          },
          "metadata": {},
          "output_type": "display_data"
        }
      ],
      "source": [
        "from dash import Dash, dcc, html, Input, Output\n",
        "from sklearn.model_selection import train_test_split\n",
        "from sklearn import linear_model, tree, neighbors\n",
        "import plotly.graph_objects as go\n",
        "import plotly.express as px\n",
        "import numpy as np\n",
        "\n",
        "app = Dash(__name__)\n",
        "\n",
        "models = {'Regression': linear_model.LinearRegression,\n",
        "          'Decision Tree': tree.DecisionTreeRegressor,\n",
        "          'k-NN': neighbors.KNeighborsRegressor}\n",
        "\n",
        "app.layout = html.Div([\n",
        "    html.H4(\"Predicció Calidad del agua - Enteritis-colitis\"),\n",
        "    html.P(\"Select model:\"),\n",
        "    dcc.Dropdown(\n",
        "        id='dropdown',\n",
        "        options=[\"Regression\", \"Decision Tree\", \"k-NN\"],\n",
        "        value='Regression',\n",
        "        clearable=False\n",
        "    ),\n",
        "    dcc.Graph(id=\"graph\"),\n",
        "])\n",
        "\n",
        "\n",
        "@app.callback(\n",
        "    Output(\"graph\", \"figure\"), \n",
        "    Input('dropdown', \"value\"))\n",
        "def train_and_display(name):\n",
        "    df = df_merged \n",
        "    X = df.promedio_icas_sin_ceros.values[:, None]\n",
        "    X_train, X_test, y_train, y_test = train_test_split(\n",
        "        X, df.cantidad, random_state=42)\n",
        "\n",
        "    model = models[name]()\n",
        "    model.fit(X_train, y_train)\n",
        "\n",
        "    x_range = np.linspace(X.min(), X.max(), 100)\n",
        "    y_range = model.predict(x_range.reshape(-1, 1))\n",
        "\n",
        "    fig = go.Figure([\n",
        "        go.Scatter(x=X_train.squeeze(), y=y_train, \n",
        "                   name='train', mode='markers'),\n",
        "        go.Scatter(x=X_test.squeeze(), y=y_test, \n",
        "                   name='test', mode='markers'),\n",
        "        go.Scatter(x=x_range, y=y_range, \n",
        "                   name='prediction')\n",
        "    ])\n",
        "    return fig\n",
        "\n",
        "app.run_server(debug=True)"
      ]
    },
    {
      "cell_type": "code",
      "execution_count": 150,
      "metadata": {},
      "outputs": [
        {
          "data": {
            "text/html": [
              "\n",
              "        <iframe\n",
              "            width=\"100%\"\n",
              "            height=\"650\"\n",
              "            src=\"http://127.0.0.1:8050/\"\n",
              "            frameborder=\"0\"\n",
              "            allowfullscreen\n",
              "            \n",
              "        ></iframe>\n",
              "        "
            ],
            "text/plain": [
              "<IPython.lib.display.IFrame at 0x14d828090>"
            ]
          },
          "metadata": {},
          "output_type": "display_data"
        }
      ],
      "source": [
        "## Tengo dos valores atipicos muy raros ,voy a probar hacer la regresion sin esos dos valores\n",
        "\n",
        "\n",
        "# Definir el límite del rango intercuartil para considerar valores atípicos\n",
        "q1 = df_merged['promedio_icas_sin_ceros'].quantile(0.25)\n",
        "q3 = df_merged['promedio_icas_sin_ceros'].quantile(0.75)\n",
        "iqr = q3 - q1\n",
        "#limite_inferior = q1 - 1 * iqr\n",
        "limite_superior = q3 + 1 * iqr\n",
        "\n",
        "# Elimino valores atípicos\n",
        "df_merged_sin_atipicos = df_merged[(df_merged['promedio_icas_sin_ceros'] >= limite_inferior) & (df_merged['promedio_icas_sin_ceros'] <= limite_superior)]\n",
        "\n",
        "app = Dash(__name__)\n",
        "\n",
        "models = {'Regression': linear_model.LinearRegression,\n",
        "          'Decision Tree': tree.DecisionTreeRegressor,\n",
        "          'k-NN': neighbors.KNeighborsRegressor}\n",
        "\n",
        "app.layout = html.Div([\n",
        "    html.H4(\"Predicción Calidad del agua - Enteritis-colitis\"),\n",
        "    html.P(\"Select model:\"),\n",
        "    dcc.Dropdown(\n",
        "        id='dropdown',\n",
        "        options=[\"Regression\", \"Decision Tree\", \"k-NN\"],\n",
        "        value='Regression',\n",
        "        clearable=False\n",
        "    ),\n",
        "    dcc.Graph(id=\"graph\"),\n",
        "])\n",
        "\n",
        "\n",
        "@app.callback(\n",
        "    Output(\"graph\", \"figure\"), \n",
        "    Input('dropdown', \"value\"))\n",
        "def train_and_display(name):\n",
        "    df = df_merged_sin_atipicos \n",
        "    X = df.promedio_icas_sin_ceros.values[:, None]\n",
        "    X_train, X_test, y_train, y_test = train_test_split(\n",
        "        X, df.cantidad, random_state=42)\n",
        "\n",
        "    model = models[name]()\n",
        "    model.fit(X_train, y_train)\n",
        "\n",
        "    x_range = np.linspace(X.min(), X.max(), 100)\n",
        "    y_range = model.predict(x_range.reshape(-1, 1))\n",
        "\n",
        "    fig = go.Figure([\n",
        "        go.Scatter(x=X_train.squeeze(), y=y_train, \n",
        "                   name='train', mode='markers'),\n",
        "        go.Scatter(x=X_test.squeeze(), y=y_test, \n",
        "                   name='test', mode='markers'),\n",
        "        go.Scatter(x=x_range, y=y_range, \n",
        "                   name='prediction')\n",
        "    ])\n",
        "    return fig\n",
        "\n",
        "app.run_server(debug=True)\n"
      ]
    },
    {
      "cell_type": "code",
      "execution_count": 149,
      "metadata": {},
      "outputs": [
        {
          "data": {
            "text/html": [
              "<div>\n",
              "<style scoped>\n",
              "    .dataframe tbody tr th:only-of-type {\n",
              "        vertical-align: middle;\n",
              "    }\n",
              "\n",
              "    .dataframe tbody tr th {\n",
              "        vertical-align: top;\n",
              "    }\n",
              "\n",
              "    .dataframe thead th {\n",
              "        text-align: right;\n",
              "    }\n",
              "</style>\n",
              "<table border=\"1\" class=\"dataframe\">\n",
              "  <thead>\n",
              "    <tr style=\"text-align: right;\">\n",
              "      <th></th>\n",
              "      <th>municipio_nombre</th>\n",
              "      <th>año</th>\n",
              "      <th>ica_verano</th>\n",
              "      <th>ica_invierno</th>\n",
              "      <th>ica_otoño</th>\n",
              "      <th>ica_primavera</th>\n",
              "      <th>promedio_icas_sin_ceros</th>\n",
              "      <th>año_estacion</th>\n",
              "      <th>edad</th>\n",
              "      <th>causa_egreso_agrupamiento</th>\n",
              "      <th>cantidad</th>\n",
              "      <th>split</th>\n",
              "      <th>prediction</th>\n",
              "    </tr>\n",
              "  </thead>\n",
              "  <tbody>\n",
              "  </tbody>\n",
              "</table>\n",
              "</div>"
            ],
            "text/plain": [
              "Empty DataFrame\n",
              "Columns: [municipio_nombre, año, ica_verano, ica_invierno, ica_otoño, ica_primavera, promedio_icas_sin_ceros, año_estacion, edad, causa_egreso_agrupamiento, cantidad, split, prediction]\n",
              "Index: []"
            ]
          },
          "execution_count": 149,
          "metadata": {},
          "output_type": "execute_result"
        }
      ],
      "source": [
        "#Corroborar que los tipicos estan eliminados\n",
        "df_merged_sin_atipicos[df_merged_sin_atipicos['promedio_icas_sin_ceros'] >= 70]"
      ]
    },
    {
      "attachments": {},
      "cell_type": "markdown",
      "metadata": {
        "id": "HqvCe6Qh6-iZ"
      },
      "source": [
        "#Regresión Linear de la comparación entre cantidad de casos de enteritis-colitis en niños de 0 a 9 años y el indice de calidad del agua en localidades linderas al rio de la plata"
      ]
    },
    {
      "cell_type": "code",
      "execution_count": 121,
      "metadata": {
        "id": "dH21j-o511ag",
        "outputId": "6754430c-f21a-4fc4-8dd4-c5ecf37a0585"
      },
      "outputs": [
        {
          "name": "stdout",
          "output_type": "stream",
          "text": [
            "Coeficiente: [0.19282236]\n",
            "Intercepto: -4.591584680270508\n"
          ]
        }
      ],
      "source": [
        "\n",
        "\n",
        "X = df_merged2['promedio_icas_sin_ceros'].values.reshape(-1, 1)\n",
        "y = df_merged2['cantidad'].values\n",
        "regression_model = LinearRegression()\n",
        "regression_model.fit(X, y)\n",
        "coeficiente = regression_model.coef_\n",
        "intercepto = regression_model.intercept_\n",
        "print(\"Coeficiente:\", coeficiente)\n",
        "print(\"Intercepto:\", intercepto)\n"
      ]
    }
  ],
  "metadata": {
    "colab": {
      "provenance": []
    },
    "kernelspec": {
      "display_name": "Python 3",
      "language": "python",
      "name": "python3"
    },
    "language_info": {
      "codemirror_mode": {
        "name": "ipython",
        "version": 3
      },
      "file_extension": ".py",
      "mimetype": "text/x-python",
      "name": "python",
      "nbconvert_exporter": "python",
      "pygments_lexer": "ipython3",
      "version": "3.11.3"
    },
    "orig_nbformat": 4
  },
  "nbformat": 4,
  "nbformat_minor": 0
}
